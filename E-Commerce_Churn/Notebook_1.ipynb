{
 "cells": [
  {
   "cell_type": "code",
   "execution_count": 1,
   "metadata": {},
   "outputs": [],
   "source": [
    "# Setting the environment variables"
   ]
  },
  {
   "cell_type": "code",
   "execution_count": 2,
   "metadata": {},
   "outputs": [],
   "source": [
    "import os\n",
    "import sys\n",
    "os.environ[\"PYSPARK_PYTHON\"]=\"/usr/bin/python3\"\n",
    "os.environ[\"PYSPARK_DRIVER_PYTHON\"]=\"/usr/bin/python3\"\n",
    "os.environ[\"PYSPARK_DRIVER_PYTHON_OPTS\"]=\"notebook --no-browser\"\n",
    "os.environ[\"JAVA_HOME\"] = \"/usr/java/jdk1.8.0_161/jre\"\n",
    "os.environ[\"SPARK_HOME\"] = \"/home/ec2-user/spark-2.4.4-bin-hadoop2.7\"\n",
    "os.environ[\"PYLIB\"] = os.environ[\"SPARK_HOME\"] + \"/python/lib\"\n",
    "sys.path.insert(0, os.environ[\"PYLIB\"] + \"/py4j-0.10.7-src.zip\")\n",
    "sys.path.insert(0, os.environ[\"PYLIB\"] + \"/pyspark.zip\")"
   ]
  },
  {
   "cell_type": "markdown",
   "metadata": {},
   "source": [
    "# Ecommerce Churn Assignment"
   ]
  },
  {
   "cell_type": "markdown",
   "metadata": {},
   "source": [
    "The aim of the assignment is to build a model that predicts whether a person purchases an item after it has been added to the cart or not. Being a classification problem, you are expected to use your understanding of all the three models covered till now. You must select the most robust model and provide a solution that predicts the churn in the most suitable manner. \n",
    "\n",
    "For this assignment, you are provided the data associated with an e-commerce company for the month of October 2019. Your task is to first analyse the data, and then perform multiple steps towards the model building process.\n",
    "\n",
    "The broad tasks are:\n",
    "- Data Exploration\n",
    "- Feature Engineering\n",
    "- Model Selection\n",
    "- Model Inference"
   ]
  },
  {
   "cell_type": "markdown",
   "metadata": {},
   "source": [
    "### Data description"
   ]
  },
  {
   "cell_type": "markdown",
   "metadata": {},
   "source": [
    "The dataset stores the information of a customer session on the e-commerce platform. It records the activity and the associated parameters with it.\n",
    "\n",
    "- **event_time**: Date and time when user accesses the platform\n",
    "- **event_type**: Action performed by the customer\n",
    "            - View\n",
    "            - Cart\n",
    "            - Purchase\n",
    "            - Remove from cart\n",
    "- **product_id**: Unique number to identify the product in the event\n",
    "- **category_id**: Unique number to identify the category of the product\n",
    "- **category_code**: Stores primary and secondary categories of the product\n",
    "- **brand**: Brand associated with the product\n",
    "- **price**: Price of the product\n",
    "- **user_id**: Unique ID for a customer\n",
    "- **user_session**: Session ID for a user\n"
   ]
  },
  {
   "cell_type": "markdown",
   "metadata": {},
   "source": [
    "### Initialising the SparkSession"
   ]
  },
  {
   "cell_type": "markdown",
   "metadata": {},
   "source": [
    "The dataset provided is 5 GBs in size. Therefore, it is expected that you increase the driver memory to a greater number."
   ]
  },
  {
   "cell_type": "code",
   "execution_count": 3,
   "metadata": {},
   "outputs": [],
   "source": [
    "# Spark environment\n",
    "from pyspark import SparkConf\n",
    "from pyspark.sql import SparkSession"
   ]
  },
  {
   "cell_type": "code",
   "execution_count": 4,
   "metadata": {},
   "outputs": [
    {
     "data": {
      "text/html": [
       "\n",
       "            <div>\n",
       "                <p><b>SparkSession - in-memory</b></p>\n",
       "                \n",
       "        <div>\n",
       "            <p><b>SparkContext</b></p>\n",
       "\n",
       "            <p><a href=\"http://ip-172-31-77-51.ec2.internal:4040\">Spark UI</a></p>\n",
       "\n",
       "            <dl>\n",
       "              <dt>Version</dt>\n",
       "                <dd><code>v2.4.4</code></dd>\n",
       "              <dt>Master</dt>\n",
       "                <dd><code>local[*]</code></dd>\n",
       "              <dt>AppName</dt>\n",
       "                <dd><code>demo</code></dd>\n",
       "            </dl>\n",
       "        </div>\n",
       "        \n",
       "            </div>\n",
       "        "
      ],
      "text/plain": [
       "<pyspark.sql.session.SparkSession at 0x7efe0805e890>"
      ]
     },
     "execution_count": 4,
     "metadata": {},
     "output_type": "execute_result"
    }
   ],
   "source": [
    "# initialising the session with 14 GB driver memory\n",
    "MAX_MEMORY = \"14G\"\n",
    "\n",
    "spark = SparkSession \\\n",
    "    .builder \\\n",
    "    .appName(\"demo\") \\\n",
    "    .config(\"spark.driver.memory\", MAX_MEMORY) \\\n",
    "    .getOrCreate()\n",
    "\n",
    "spark"
   ]
  },
  {
   "cell_type": "code",
   "execution_count": 5,
   "metadata": {},
   "outputs": [
    {
     "data": {
      "text/plain": [
       "'14G'"
      ]
     },
     "execution_count": 5,
     "metadata": {},
     "output_type": "execute_result"
    }
   ],
   "source": [
    "# Spark session with 14 GB driver memory\n",
    "spark.sparkContext.getConf().get('spark.driver.memory')"
   ]
  },
  {
   "cell_type": "code",
   "execution_count": 42,
   "metadata": {},
   "outputs": [],
   "source": [
    "#importing required libraries\n",
    "import pandas as pd\n",
    "from matplotlib import pyplot as plt\n",
    "from pyspark.sql.functions import *"
   ]
  },
  {
   "cell_type": "code",
   "execution_count": 99,
   "metadata": {},
   "outputs": [],
   "source": [
    "# loading the dataset from the EC2 instance - 2019-Oct.csv\n",
    "df = spark.read.csv(\"2019-Oct.csv\",header=True, inferSchema=True)"
   ]
  },
  {
   "cell_type": "code",
   "execution_count": 44,
   "metadata": {},
   "outputs": [
    {
     "name": "stdout",
     "output_type": "stream",
     "text": [
      "+--------------------+----------+----------+-------------------+--------------------+--------+-------+---------+--------------------+\n",
      "|          event_time|event_type|product_id|        category_id|       category_code|   brand|  price|  user_id|        user_session|\n",
      "+--------------------+----------+----------+-------------------+--------------------+--------+-------+---------+--------------------+\n",
      "|2019-10-01 00:00:...|      view|  44600062|2103807459595387724|                null|shiseido|  35.79|541312140|72d76fde-8bb3-4e0...|\n",
      "|2019-10-01 00:00:...|      view|   3900821|2053013552326770905|appliances.enviro...|    aqua|   33.2|554748717|9333dfbd-b87a-470...|\n",
      "|2019-10-01 00:00:...|      view|  17200506|2053013559792632471|furniture.living_...|    null|  543.1|519107250|566511c2-e2e3-422...|\n",
      "|2019-10-01 00:00:...|      view|   1307067|2053013558920217191|  computers.notebook|  lenovo| 251.74|550050854|7c90fc70-0e80-459...|\n",
      "|2019-10-01 00:00:...|      view|   1004237|2053013555631882655|electronics.smart...|   apple|1081.98|535871217|c6bd7419-2748-4c5...|\n",
      "|2019-10-01 00:00:...|      view|   1480613|2053013561092866779|   computers.desktop|  pulser| 908.62|512742880|0d0d91c2-c9c2-4e8...|\n",
      "|2019-10-01 00:00:...|      view|  17300353|2053013553853497655|                null|   creed| 380.96|555447699|4fe811e9-91de-46d...|\n",
      "|2019-10-01 00:00:...|      view|  31500053|2053013558031024687|                null|luminarc|  41.16|550978835|6280d577-25c8-414...|\n",
      "|2019-10-01 00:00:...|      view|  28719074|2053013565480109009|  apparel.shoes.keds|   baden| 102.71|520571932|ac1cd4e5-a3ce-422...|\n",
      "|2019-10-01 00:00:...|      view|   1004545|2053013555631882655|electronics.smart...|  huawei| 566.01|537918940|406c46ed-90a4-478...|\n",
      "|2019-10-01 00:00:...|      view|   2900536|2053013554776244595|appliances.kitche...|elenberg|  51.46|555158050|b5bdd0b3-4ca2-4c5...|\n",
      "|2019-10-01 00:00:...|      view|   1005011|2053013555631882655|electronics.smart...| samsung| 900.64|530282093|50a293fb-5940-41b...|\n",
      "|2019-10-01 00:00:...|      view|   3900746|2053013552326770905|appliances.enviro...|   haier| 102.38|555444559|98b88fa0-d8fa-4b9...|\n",
      "|2019-10-01 00:00:...|      view|  44600062|2103807459595387724|                null|shiseido|  35.79|541312140|72d76fde-8bb3-4e0...|\n",
      "|2019-10-01 00:00:...|      view|  13500240|2053013557099889147|furniture.bedroom...|     brw|  93.18|555446365|7f0062d8-ead0-4e0...|\n",
      "|2019-10-01 00:00:...|      view|  23100006|2053013561638126333|                null|    null| 357.79|513642368|17566c27-0a8f-450...|\n",
      "|2019-10-01 00:00:...|      view|   1801995|2053013554415534427|electronics.video.tv|   haier| 193.03|537192226|e3151795-c355-4ef...|\n",
      "|2019-10-01 00:00:...|      view|  10900029|2053013555069845885|appliances.kitche...|   bosch|  58.95|519528062|901b9e3c-3f8f-414...|\n",
      "|2019-10-01 00:00:...|      view|   1306631|2053013558920217191|  computers.notebook|      hp| 580.89|550050854|7c90fc70-0e80-459...|\n",
      "|2019-10-01 00:00:...|      view|   1005135|2053013555631882655|electronics.smart...|   apple|1747.79|535871217|c6bd7419-2748-4c5...|\n",
      "+--------------------+----------+----------+-------------------+--------------------+--------+-------+---------+--------------------+\n",
      "only showing top 20 rows\n",
      "\n"
     ]
    }
   ],
   "source": [
    "# exploring the dataframe - top 20 rows\n",
    "df.show()"
   ]
  },
  {
   "cell_type": "code",
   "execution_count": 45,
   "metadata": {
    "scrolled": true
   },
   "outputs": [
    {
     "name": "stdout",
     "output_type": "stream",
     "text": [
      "root\n",
      " |-- event_time: string (nullable = true)\n",
      " |-- event_type: string (nullable = true)\n",
      " |-- product_id: integer (nullable = true)\n",
      " |-- category_id: long (nullable = true)\n",
      " |-- category_code: string (nullable = true)\n",
      " |-- brand: string (nullable = true)\n",
      " |-- price: double (nullable = true)\n",
      " |-- user_id: integer (nullable = true)\n",
      " |-- user_session: string (nullable = true)\n",
      "\n"
     ]
    }
   ],
   "source": [
    "# exploring the dataframe - schema\n",
    "df.printSchema()"
   ]
  },
  {
   "cell_type": "code",
   "execution_count": 46,
   "metadata": {
    "scrolled": false
   },
   "outputs": [
    {
     "name": "stdout",
     "output_type": "stream",
     "text": [
      "Dimension of the Dataframe is: (42448764, 9)\n"
     ]
    }
   ],
   "source": [
    "# Number of rows and columns in the dataset\n",
    "row=df.count()\n",
    "col=len(df.columns)\n",
    "print(f\"Dimension of the Dataframe is: {(row,col)}\")"
   ]
  },
  {
   "cell_type": "markdown",
   "metadata": {},
   "source": [
    "So, we have a huge dataset that contains 42 million rows.\n",
    "\n",
    "Now, tha dataset is loaded in Spark environment. Let's proceed with the desired tasks."
   ]
  },
  {
   "cell_type": "markdown",
   "metadata": {},
   "source": [
    "<hr>"
   ]
  },
  {
   "cell_type": "markdown",
   "metadata": {},
   "source": [
    "## Task 1 - Data Exploration\n",
    "\n",
    "**Find**\n",
    "- 5 most popular:\n",
    "    - Products sold by the e-commerce company in the month\n",
    "    - Brands on the platform\n",
    "    - Product categories\n",
    "- Number of unique users and the most active user on the platform\n",
    "- Average and maximum price for smartphones purchased by the customers\n",
    "<br>\n",
    "\n",
    "**Plot and comment**\n",
    "- Event-type funnel distribution in e-commerce shopping journey\n",
    "- Traffic on different days of the week\n",
    "\n",
    "Provide the results in a separate report."
   ]
  },
  {
   "cell_type": "code",
   "execution_count": 47,
   "metadata": {
    "scrolled": true
   },
   "outputs": [],
   "source": [
    "# 5 most popular products sold\n",
    "most=df.select(\"event_type\",\"product_id\")"
   ]
  },
  {
   "cell_type": "code",
   "execution_count": 48,
   "metadata": {},
   "outputs": [
    {
     "name": "stdout",
     "output_type": "stream",
     "text": [
      "+----------+-----+\n",
      "|product_id|count|\n",
      "+----------+-----+\n",
      "|   1004856|28944|\n",
      "|   1004767|21806|\n",
      "|   1004833|12697|\n",
      "|   1005115|12543|\n",
      "|   4804056|12381|\n",
      "+----------+-----+\n",
      "only showing top 5 rows\n",
      "\n"
     ]
    }
   ],
   "source": [
    "most=most.filter(\"event_type == 'purchase' \")\n",
    "most.groupby([\"product_id\"]).count().sort(desc(\"count\")).show(5)"
   ]
  },
  {
   "cell_type": "markdown",
   "metadata": {},
   "source": [
    "Product **1004856** is sold the most popular ut of all products"
   ]
  },
  {
   "cell_type": "code",
   "execution_count": 49,
   "metadata": {},
   "outputs": [
    {
     "name": "stdout",
     "output_type": "stream",
     "text": [
      "+-------+-------+\n",
      "|  brand|  count|\n",
      "+-------+-------+\n",
      "|   null|6113008|\n",
      "|samsung|5282775|\n",
      "|  apple|4122554|\n",
      "| xiaomi|3083763|\n",
      "| huawei|1111205|\n",
      "|lucente| 655861|\n",
      "+-------+-------+\n",
      "only showing top 6 rows\n",
      "\n"
     ]
    }
   ],
   "source": [
    "# 5 most popular brands\n",
    "most=df.select(\"brand\")\n",
    "most.groupby([\"brand\"]).count().sort(desc(\"count\")).show(6)"
   ]
  },
  {
   "cell_type": "markdown",
   "metadata": {},
   "source": [
    "It is clear that most of the products sold on don't have a brand associated with them. Henace printing 6 rows to grt top 5.\n",
    "<br>The five most popular brands are: Samsung, Apple, Xiaomi, Huawei, Lucente.It is clear that the most popular product is mobile phone."
   ]
  },
  {
   "cell_type": "code",
   "execution_count": 50,
   "metadata": {},
   "outputs": [
    {
     "name": "stdout",
     "output_type": "stream",
     "text": [
      "+--------------------+--------+\n",
      "|       category_code|   count|\n",
      "+--------------------+--------+\n",
      "|                null|13515609|\n",
      "|electronics.smart...|11507231|\n",
      "|  electronics.clocks| 1311033|\n",
      "|  computers.notebook| 1137623|\n",
      "|electronics.video.tv| 1113750|\n",
      "|electronics.audio...| 1100188|\n",
      "+--------------------+--------+\n",
      "only showing top 6 rows\n",
      "\n"
     ]
    }
   ],
   "source": [
    "#5 most popular product categories\n",
    "most=df.select(\"category_code\")\n",
    "most.groupby([\"category_code\"]).count().sort(desc(\"count\")).show(6)"
   ]
  },
  {
   "cell_type": "markdown",
   "metadata": {},
   "source": [
    "The top five category codes are printed above. As expected, smartphones are the most popular product category"
   ]
  },
  {
   "cell_type": "code",
   "execution_count": 51,
   "metadata": {
    "scrolled": true
   },
   "outputs": [
    {
     "data": {
      "text/plain": [
       "3022290"
      ]
     },
     "execution_count": 51,
     "metadata": {},
     "output_type": "execute_result"
    }
   ],
   "source": [
    "# Number of unique users\n",
    "df.select(\"user_id\").distinct().count()"
   ]
  },
  {
   "cell_type": "markdown",
   "metadata": {},
   "source": [
    "There are **3022290** unique active users on the platform."
   ]
  },
  {
   "cell_type": "code",
   "execution_count": 52,
   "metadata": {
    "scrolled": true
   },
   "outputs": [
    {
     "name": "stdout",
     "output_type": "stream",
     "text": [
      "+---------+-----+\n",
      "|  user_id|count|\n",
      "+---------+-----+\n",
      "|512475445| 7436|\n",
      "+---------+-----+\n",
      "only showing top 1 row\n",
      "\n"
     ]
    }
   ],
   "source": [
    "# The most active user on the platform\n",
    "au=df.select(\"user_id\",\"user_session\")\n",
    "au.groupby(\"user_id\").count().sort(desc(\"count\")).show(1)"
   ]
  },
  {
   "cell_type": "markdown",
   "metadata": {},
   "source": [
    "Most active user is **512475445**. He/She has registered 7436 user sessions"
   ]
  },
  {
   "cell_type": "code",
   "execution_count": 53,
   "metadata": {},
   "outputs": [],
   "source": [
    "# Average and Maximum price for smartphones purchased by the customers\n",
    "smart_ph=df.select(\"category_code\", \"price\", \"event_type\")"
   ]
  },
  {
   "cell_type": "code",
   "execution_count": 54,
   "metadata": {},
   "outputs": [],
   "source": [
    "smart_ph=smart_ph.filter(\"event_type == 'purchase' \")\n",
    "smart_ph=smart_ph.filter(\"category_code == 'electronics.smartphone' \").toPandas()"
   ]
  },
  {
   "cell_type": "code",
   "execution_count": 55,
   "metadata": {},
   "outputs": [
    {
     "name": "stdout",
     "output_type": "stream",
     "text": [
      "Average price of purchased smartphone : 464.61911309456883\n",
      "Maximum price of purchased smartphone : 2110.45\n"
     ]
    }
   ],
   "source": [
    "print(\"Average price of purchased smartphone :\", smart_ph.price.mean())\n",
    "print(\"Maximum price of purchased smartphone :\", smart_ph.price.max())"
   ]
  },
  {
   "cell_type": "markdown",
   "metadata": {},
   "source": [
    "The above result suggest the prices are not in rupees"
   ]
  },
  {
   "cell_type": "code",
   "execution_count": 56,
   "metadata": {},
   "outputs": [],
   "source": [
    "# Event-type funnel distribution\n",
    "# Remember Spark dataframe cannot be visualised directly\n",
    "event=df.select(\"event_type\",\"user_session\")\n",
    "funnel=event.groupby(\"event_type\").count().toPandas()"
   ]
  },
  {
   "cell_type": "code",
   "execution_count": 57,
   "metadata": {},
   "outputs": [
    {
     "data": {
      "image/png": "[encoded data removed]",
      "text/plain": [
       "<Figure size 504x288 with 1 Axes>"
      ]
     },
     "metadata": {
      "needs_background": "light"
     },
     "output_type": "display_data"
    }
   ],
   "source": [
    "import seaborn as sns\n",
    "plt.figure(figsize=(7,4))\n",
    "sns.barplot(x=\"count\", y=\"event_type\", data=funnel)\n",
    "plt.title('Event-type funnel distribution')\n",
    "plt.xlabel('Number of Events')\n",
    "plt.ylabel('Event Type')\n",
    "plt.show()"
   ]
  },
  {
   "cell_type": "markdown",
   "metadata": {},
   "source": [
    "The above plot clearly shows that many people view the items, but, only a few add the item to the cart and finally purchase it."
   ]
  },
  {
   "cell_type": "code",
   "execution_count": 100,
   "metadata": {},
   "outputs": [],
   "source": [
    "# Traffic on different days of the week\n",
    "# Remember Spark dataframe cannot be visualised directly\n",
    "df=df.withColumn('event_datetime', to_timestamp('event_time', 'yyyy-MM-dd HH:mm:ss'))"
   ]
  },
  {
   "cell_type": "code",
   "execution_count": 101,
   "metadata": {},
   "outputs": [],
   "source": [
    "df=df.withColumn('event_day', dayofweek(df[\"event_datetime\"]))"
   ]
  },
  {
   "cell_type": "code",
   "execution_count": 60,
   "metadata": {},
   "outputs": [],
   "source": [
    "traffic=df.select(\"event_day\",\"user_session\")\n",
    "traffic_week=traffic.groupby(\"event_day\").count().toPandas()"
   ]
  },
  {
   "cell_type": "code",
   "execution_count": 61,
   "metadata": {},
   "outputs": [
    {
     "data": {
      "image/png": "[encoded data removed]",
      "text/plain": [
       "<Figure size 720x576 with 1 Axes>"
      ]
     },
     "metadata": {
      "needs_background": "light"
     },
     "output_type": "display_data"
    }
   ],
   "source": [
    "plt.figure(figsize=(10,8))\n",
    "sns.barplot(x=\"event_day\", y=\"count\", data=traffic_week)\n",
    "plt.title('Day-wise traffic')\n",
    "plt.ylabel('Number of events')\n",
    "plt.xlabel('Day')\n",
    "plt.show()"
   ]
  },
  {
   "cell_type": "markdown",
   "metadata": {},
   "source": [
    "As we can see that maximum traffic is on 3rd day of the week. we can find that it Tuesday.\n",
    "<br> the expectation that the traffic will be more on weekends is not true according to this plot."
   ]
  },
  {
   "cell_type": "code",
   "execution_count": 102,
   "metadata": {},
   "outputs": [],
   "source": [
    "# drop redundant column(s), if any\n",
    "df=df.drop(\"event_time\")"
   ]
  },
  {
   "cell_type": "code",
   "execution_count": 103,
   "metadata": {},
   "outputs": [
    {
     "data": {
      "text/plain": [
       "['event_type',\n",
       " 'product_id',\n",
       " 'category_id',\n",
       " 'category_code',\n",
       " 'brand',\n",
       " 'price',\n",
       " 'user_id',\n",
       " 'user_session',\n",
       " 'event_datetime',\n",
       " 'event_day']"
      ]
     },
     "execution_count": 103,
     "metadata": {},
     "output_type": "execute_result"
    }
   ],
   "source": [
    "df.columns"
   ]
  },
  {
   "cell_type": "markdown",
   "metadata": {},
   "source": [
    "<hr>"
   ]
  },
  {
   "cell_type": "markdown",
   "metadata": {},
   "source": [
    "## Task 2 - Feature Engineering\n",
    "\n",
    "- Handle missing values (provide justification for approach)\n",
    "- Generate the category code at 2 levels (Split into 2 columns)\n",
    "    - Example: electronics.video.tv - electronics, video\n",
    "- Capture user activity in different columns\n",
    "    - Total activities (view/cart/etc.) in the session\n",
    "    - Affinity towards a particular product (Product count for user)\n",
    "    - Affinity towards a category (Secondary category count for user)\n",
    "    - Average shopping expense for a product category (secondary)\n",
    "    - Number of user sessions\n",
    "- Impact of time: Day and Hour (Binning hours into 4 buckets)\n",
    "- Reduction in brands for analysis: Top 20 + ‘others’\n",
    "- Target variable generation: is_purchased\n"
   ]
  },
  {
   "cell_type": "code",
   "execution_count": 64,
   "metadata": {},
   "outputs": [
    {
     "name": "stdout",
     "output_type": "stream",
     "text": [
      "+----------+----------+-----------+-------------+-------+-----+-------+------------+--------------+---------+\n",
      "|event_type|product_id|category_id|category_code|  brand|price|user_id|user_session|event_datetime|event_day|\n",
      "+----------+----------+-----------+-------------+-------+-----+-------+------------+--------------+---------+\n",
      "|         0|         0|          0|     13515609|6113008|    0|      0|           2|             0|        0|\n",
      "+----------+----------+-----------+-------------+-------+-----+-------+------------+--------------+---------+\n",
      "\n"
     ]
    }
   ],
   "source": [
    "# Handling missing values \n",
    "#checking missing values\n",
    "df.select([count(when(isnull(c), c)).alias(c) for c in df.columns]).show()"
   ]
  },
  {
   "cell_type": "markdown",
   "metadata": {},
   "source": [
    "The null values are of mainly in category and brand columns . Also, there is no other column to identify them and thus to impute values. Hence, we will drop the null values.\n",
    "Eventhough roduct_id can be checked to identify some, we have a huge amount of data since dropping wont affect much. "
   ]
  },
  {
   "cell_type": "code",
   "execution_count": 104,
   "metadata": {},
   "outputs": [],
   "source": [
    "# Dropping the null values\n",
    "df = df.na.drop()"
   ]
  },
  {
   "cell_type": "code",
   "execution_count": 66,
   "metadata": {},
   "outputs": [
    {
     "name": "stdout",
     "output_type": "stream",
     "text": [
      "+----------+----------+-----------+-------------+-----+-----+-------+------------+--------------+---------+\n",
      "|event_type|product_id|category_id|category_code|brand|price|user_id|user_session|event_datetime|event_day|\n",
      "+----------+----------+-----------+-------------+-----+-----+-------+------------+--------------+---------+\n",
      "|         0|         0|          0|            0|    0|    0|      0|           0|             0|        0|\n",
      "+----------+----------+-----------+-------------+-----+-----+-------+------------+--------------+---------+\n",
      "\n"
     ]
    }
   ],
   "source": [
    "#rechecking null values\n",
    "df.select([count(when(isnull(c), c)).alias(c) for c in df.columns]).show()"
   ]
  },
  {
   "cell_type": "code",
   "execution_count": 105,
   "metadata": {},
   "outputs": [],
   "source": [
    "# Dropping duplicates\\\n",
    "df=df.dropDuplicates()"
   ]
  },
  {
   "cell_type": "code",
   "execution_count": 106,
   "metadata": {
    "scrolled": true
   },
   "outputs": [],
   "source": [
    "# drop redundant column(s), if any\n",
    "df=df.drop(\"category_id\")"
   ]
  },
  {
   "cell_type": "markdown",
   "metadata": {},
   "source": [
    " "
   ]
  },
  {
   "cell_type": "code",
   "execution_count": 108,
   "metadata": {},
   "outputs": [],
   "source": [
    "# Generating 2 columns from category code\n",
    "# Columns have only single entity (electronics.video.tv: electronics, video)\n",
    "# Check if split command works with '.' or Spark treats it as special character\n",
    "from pyspark.sql.functions import split,col\n",
    "df = df.withColumn('category_1', split(col(\"category_code\"), \"\\.\")\\\n",
    "                   .getItem(0)).withColumn('category_2', split(col(\"category_code\"), \"\\.\").getItem(1))"
   ]
  },
  {
   "cell_type": "code",
   "execution_count": 109,
   "metadata": {},
   "outputs": [
    {
     "data": {
      "text/plain": [
       "['event_type',\n",
       " 'product_id',\n",
       " 'category_code',\n",
       " 'brand',\n",
       " 'price',\n",
       " 'user_id',\n",
       " 'user_session',\n",
       " 'event_datetime',\n",
       " 'event_day',\n",
       " 'category_1',\n",
       " 'category_2']"
      ]
     },
     "execution_count": 109,
     "metadata": {},
     "output_type": "execute_result"
    }
   ],
   "source": [
    "# Check if the column is added\n",
    "df.columns"
   ]
  },
  {
   "cell_type": "markdown",
   "metadata": {},
   "source": [
    " "
   ]
  },
  {
   "cell_type": "code",
   "execution_count": 110,
   "metadata": {},
   "outputs": [],
   "source": [
    "# Activities in a session by the user\n",
    "# Window functions can be helpful here\n",
    "from pyspark.sql import Window"
   ]
  },
  {
   "cell_type": "code",
   "execution_count": 111,
   "metadata": {},
   "outputs": [],
   "source": [
    "# Activities in a session by the user\n",
    "w = Window.partitionBy(\"user_session\")\n",
    "df = df.withColumn(\"user_activity_count\", count(\"user_session\").over(w))"
   ]
  },
  {
   "cell_type": "code",
   "execution_count": 112,
   "metadata": {},
   "outputs": [],
   "source": [
    "# View count for a product by the user\n",
    "# Window functions can be helpful here\n",
    "w = Window.partitionBy(\"user_id\",\"product_id\")\n",
    "df = df.withColumn(\"user_product\", count(\"user_id\").over(w))"
   ]
  },
  {
   "cell_type": "code",
   "execution_count": 113,
   "metadata": {},
   "outputs": [],
   "source": [
    "# View count for the secondary category by the user\n",
    "# Window functions can be helpful here\n",
    "w = Window.partitionBy(\"user_id\",\"category_2\")\n",
    "df = df.withColumn(\"user_category_2\", count(\"user_id\").over(w))"
   ]
  },
  {
   "cell_type": "code",
   "execution_count": 114,
   "metadata": {},
   "outputs": [],
   "source": [
    "# Average shopping expense for a product category\n",
    "# Window functions can be helpful here\n",
    "w = Window.partitionBy(\"user_id\",\"category_2\")\n",
    "df = df.withColumn(\"user_mean_spend\", avg(\"price\").over(w))"
   ]
  },
  {
   "cell_type": "code",
   "execution_count": 115,
   "metadata": {},
   "outputs": [],
   "source": [
    "# Session count for a user\n",
    "# Window functions can be helpful here\n",
    "w = Window.partitionBy(\"user_id\")\n",
    "df = df.withColumn(\"user_session_count\", approx_count_distinct(\"user_session\").over(w))"
   ]
  },
  {
   "cell_type": "markdown",
   "metadata": {},
   "source": [
    " "
   ]
  },
  {
   "cell_type": "code",
   "execution_count": 116,
   "metadata": {},
   "outputs": [],
   "source": [
    "# Generating the hour variable\n",
    "df = df.withColumn(\"hour\", hour(df[\"event_datetime\"]))"
   ]
  },
  {
   "cell_type": "code",
   "execution_count": 117,
   "metadata": {},
   "outputs": [],
   "source": [
    "# Binning the hour variable\n",
    "df = df.withColumn(\"hour_bin\", when(col(\"hour\").between(0,5),1).when(col(\"hour\").between(6,12),2).when(col(\"hour\").between(13,18),3).otherwise(4))"
   ]
  },
  {
   "cell_type": "code",
   "execution_count": 118,
   "metadata": {},
   "outputs": [
    {
     "data": {
      "text/plain": [
       "['event_type',\n",
       " 'product_id',\n",
       " 'category_code',\n",
       " 'brand',\n",
       " 'price',\n",
       " 'user_id',\n",
       " 'user_session',\n",
       " 'event_datetime',\n",
       " 'event_day',\n",
       " 'category_1',\n",
       " 'category_2',\n",
       " 'user_activity_count',\n",
       " 'user_product',\n",
       " 'user_category_2',\n",
       " 'user_mean_spend',\n",
       " 'user_session_count',\n",
       " 'hour',\n",
       " 'hour_bin']"
      ]
     },
     "execution_count": 118,
     "metadata": {},
     "output_type": "execute_result"
    }
   ],
   "source": [
    "# Check for the columns\n",
    "df.columns"
   ]
  },
  {
   "cell_type": "markdown",
   "metadata": {},
   "source": [
    " "
   ]
  },
  {
   "cell_type": "code",
   "execution_count": 119,
   "metadata": {},
   "outputs": [],
   "source": [
    "# Reduction in brands for analysis: Top 20 + ‘others'\n",
    "brand_ds=df.select(\"brand\")\n",
    "brand_ds=brand_ds.groupby(\"brand\").count().sort(desc(\"count\"))"
   ]
  },
  {
   "cell_type": "code",
   "execution_count": 123,
   "metadata": {},
   "outputs": [],
   "source": [
    "bd_df=brand_ds.toPandas()"
   ]
  },
  {
   "cell_type": "code",
   "execution_count": 125,
   "metadata": {},
   "outputs": [],
   "source": [
    "elements = list(bd_df[\"brand\"][20:])"
   ]
  },
  {
   "cell_type": "code",
   "execution_count": 126,
   "metadata": {},
   "outputs": [],
   "source": [
    "df = df.replace(elements, 'others', subset=[\"brand\"])"
   ]
  },
  {
   "cell_type": "code",
   "execution_count": 127,
   "metadata": {},
   "outputs": [
    {
     "name": "stdout",
     "output_type": "stream",
     "text": [
      "+--------+-------+\n",
      "|   brand|  count|\n",
      "+--------+-------+\n",
      "|  others|8880932|\n",
      "| samsung|5147344|\n",
      "|   apple|4087084|\n",
      "|  xiaomi|2695456|\n",
      "|  huawei|1090907|\n",
      "|      lg| 508504|\n",
      "|    oppo| 482131|\n",
      "|    acer| 427810|\n",
      "|  lenovo| 337854|\n",
      "|   bosch| 329665|\n",
      "|      hp| 294927|\n",
      "| indesit| 289681|\n",
      "| respect| 255502|\n",
      "|   casio| 253547|\n",
      "|   artel| 237098|\n",
      "|    sony| 221161|\n",
      "|elenberg| 217987|\n",
      "|    asus| 211622|\n",
      "|    beko| 206664|\n",
      "|   haier| 180166|\n",
      "+--------+-------+\n",
      "only showing top 20 rows\n",
      "\n"
     ]
    }
   ],
   "source": [
    "df.groupby(\"brand\").count().sort(desc(\"count\")).show()"
   ]
  },
  {
   "cell_type": "markdown",
   "metadata": {},
   "source": [
    " "
   ]
  },
  {
   "cell_type": "code",
   "execution_count": 128,
   "metadata": {},
   "outputs": [],
   "source": [
    "# Generating 'is_purchased' variable\n",
    "df = df.withColumn('is_purchased', when(df['event_type']=='purchase',1).otherwise(0))\n",
    "\n",
    "# The column has been creaeted with the name as 'label' in this case\n",
    "w = Window.partitionBy(\"user_id\",\"product_id\")\n",
    "df = df.withColumn(\"label\", max(\"is_purchased\").over(w))"
   ]
  },
  {
   "cell_type": "code",
   "execution_count": 129,
   "metadata": {},
   "outputs": [],
   "source": [
    "# Dropping redundant rows\n",
    "df = df.filter(df.event_type=='cart')"
   ]
  },
  {
   "cell_type": "code",
   "execution_count": 130,
   "metadata": {},
   "outputs": [
    {
     "name": "stdout",
     "output_type": "stream",
     "text": [
      "+-----+------+\n",
      "|label| count|\n",
      "+-----+------+\n",
      "|    1|486047|\n",
      "|    0|298314|\n",
      "+-----+------+\n",
      "\n"
     ]
    }
   ],
   "source": [
    "# Printing the count by label\n",
    "df.groupBy('label').count().show()"
   ]
  },
  {
   "cell_type": "code",
   "execution_count": 131,
   "metadata": {},
   "outputs": [
    {
     "name": "stdout",
     "output_type": "stream",
     "text": [
      "+----------+----------+--------------------+--------+-------+---------+--------------------+-------------------+---------+-----------+----------+-------------------+------------+---------------+------------------+------------------+----+--------+------------+-----+\n",
      "|event_type|product_id|       category_code|   brand|  price|  user_id|        user_session|     event_datetime|event_day| category_1|category_2|user_activity_count|user_product|user_category_2|   user_mean_spend|user_session_count|hour|hour_bin|is_purchased|label|\n",
      "+----------+----------+--------------------+--------+-------+---------+--------------------+-------------------+---------+-----------+----------+-------------------+------------+---------------+------------------+------------------+----+--------+------------+-----+\n",
      "|      cart|   1004870|electronics.smart...| samsung| 283.62|454388908|a45905b4-f628-4df...|2019-10-22 10:26:12|        3|electronics|smartphone|                  2|           2|              3| 270.4633333333333|                 2|  10|       2|           0|    0|\n",
      "|      cart|   1004788|electronics.smart...|  xiaomi| 138.71|457561774|ece78e82-a52d-499...|2019-10-30 17:17:49|        4|electronics|smartphone|                  2|           2|              3|213.38666666666668|                 2|  17|       3|           0|    0|\n",
      "|      cart|   1003306|electronics.smart...|   apple| 581.83|498549511|a33fd664-c116-491...|2019-10-09 14:27:44|        4|electronics|smartphone|                  9|           9|             14| 643.4971428571429|                 4|  14|       3|           0|    0|\n",
      "|      cart|   1002544|electronics.smart...|   apple| 460.54|506848541|9804168a-fb3e-431...|2019-10-11 10:04:50|        6|electronics|smartphone|                  3|           5|              6| 408.0316666666667|                 3|  10|       2|           0|    0|\n",
      "|      cart|   1801690|electronics.video.tv| samsung| 369.37|512372691|143ebb38-dfae-476...|2019-10-26 14:58:36|        7|electronics|     video|                  6|           6|              6|369.36999999999995|                 3|  14|       3|           0|    1|\n",
      "|      cart|   1801690|electronics.video.tv| samsung| 369.37|512372691|143ebb38-dfae-476...|2019-10-26 14:58:30|        7|electronics|     video|                  6|           6|              6|369.36999999999995|                 3|  14|       3|           0|    1|\n",
      "|      cart|   2900536|appliances.kitche...|elenberg|  50.91|512372691|3e0e2983-eacd-422...|2019-10-27 04:52:36|        1| appliances|   kitchen|                  5|           4|              5|            68.974|                 3|   4|       1|           0|    1|\n",
      "|      cart|   1004249|electronics.smart...|   apple| 746.09|512375293|5d9c8d86-4a75-43e...|2019-10-20 09:52:20|        1|electronics|smartphone|                  5|           4|              5| 797.0260000000001|                 1|   9|       2|           0|    1|\n",
      "|      cart|   1005133|electronics.smart...|   apple|1634.28|512375853|6e0b079a-eb8b-43c...|2019-10-15 12:20:16|        3|electronics|smartphone|                 14|          10|             24|1816.1112499999997|                 3|  12|       2|           0|    0|\n",
      "|      cart|   1005133|electronics.smart...|   apple|1634.28|512375853|6e0b079a-eb8b-43c...|2019-10-15 12:21:08|        3|electronics|smartphone|                 14|          10|             24|1816.1112499999997|                 3|  12|       2|           0|    0|\n",
      "|      cart|   1005105|electronics.smart...|   apple|1349.44|512380070|c6214e3e-33c6-4e1...|2019-10-31 09:42:56|        5|electronics|smartphone|                  8|           4|              8|1468.8200000000002|                 2|   9|       2|           0|    0|\n",
      "|      cart|   1005105|electronics.smart...|   apple|1349.44|512380070|c6214e3e-33c6-4e1...|2019-10-31 09:44:01|        5|electronics|smartphone|                  8|           4|              8|1468.8200000000002|                 2|   9|       2|           0|    0|\n",
      "|      cart|   1005124|electronics.smart...|   apple| 1588.2|512380070|c6214e3e-33c6-4e1...|2019-10-31 09:45:35|        5|electronics|smartphone|                  8|           4|              8|1468.8200000000002|                 2|   9|       2|           0|    1|\n",
      "|      cart|   1004751|electronics.smart...| samsung| 197.15|512382720|caea439f-dd2a-471...|2019-10-06 14:18:27|        1|electronics|smartphone|                  8|           4|             58|203.15948275862078|                 6|  14|       3|           0|    0|\n",
      "|      cart|   1004833|electronics.smart...| samsung| 172.23|512382720|51c58b7a-b9bc-4e6...|2019-10-10 17:44:02|        5|electronics|smartphone|                  4|           4|             58|203.15948275862078|                 6|  17|       3|           0|    1|\n",
      "|      cart|   1005169|electronics.smart...| samsung| 233.66|512382720|6ce5f0ea-ed4b-468...|2019-10-07 16:06:12|        2|electronics|smartphone|                 15|           3|             58|203.15948275862078|                 6|  16|       3|           0|    1|\n",
      "|      cart|   1005171|electronics.smart...| samsung| 229.09|512382720|5b5a103b-4b8c-4e6...|2019-10-11 17:05:43|        6|electronics|smartphone|                 16|           4|             58|203.15948275862078|                 6|  17|       3|           0|    1|\n",
      "|      cart|   1004767|electronics.smart...| samsung| 246.96|512394876|e307eba6-9c8b-4c7...|2019-10-22 06:50:11|        3|electronics|smartphone|                 17|           5|             27|241.41111111111118|                 3|   6|       2|           0|    1|\n",
      "|      cart|   1004836|electronics.smart...| samsung| 224.38|512394876|e307eba6-9c8b-4c7...|2019-10-22 06:59:22|        3|electronics|smartphone|                 17|           6|             27|241.41111111111118|                 3|   6|       2|           0|    1|\n",
      "|      cart|   1005115|electronics.smart...|   apple| 975.56|512407417|3eea0a6c-ba07-4a5...|2019-10-06 12:15:28|        1|electronics|smartphone|                  7|          11|             14|1022.7078571428568|                 4|  12|       2|           0|    1|\n",
      "+----------+----------+--------------------+--------+-------+---------+--------------------+-------------------+---------+-----------+----------+-------------------+------------+---------------+------------------+------------------+----+--------+------------+-----+\n",
      "only showing top 20 rows\n",
      "\n"
     ]
    }
   ],
   "source": [
    "# Printing the top 20 rows as output\n",
    "df.show()"
   ]
  },
  {
   "cell_type": "code",
   "execution_count": 132,
   "metadata": {},
   "outputs": [],
   "source": [
    "# Dropping the redundant columns \n",
    "df = df.drop('event_type', 'product_id', 'category_code', 'user_id', 'user_session', 'event_datetime', 'category_1', 'hour', 'is_purchased')"
   ]
  },
  {
   "cell_type": "code",
   "execution_count": 133,
   "metadata": {
    "scrolled": false
   },
   "outputs": [
    {
     "data": {
      "text/plain": [
       "['brand',\n",
       " 'price',\n",
       " 'event_day',\n",
       " 'category_2',\n",
       " 'user_activity_count',\n",
       " 'user_product',\n",
       " 'user_category_2',\n",
       " 'user_mean_spend',\n",
       " 'user_session_count',\n",
       " 'hour_bin',\n",
       " 'label']"
      ]
     },
     "execution_count": 133,
     "metadata": {},
     "output_type": "execute_result"
    }
   ],
   "source": [
    "# Columns in df after feature engineering\n",
    "df.columns"
   ]
  },
  {
   "cell_type": "code",
   "execution_count": 134,
   "metadata": {},
   "outputs": [],
   "source": [
    "# Storing the cleaned df in the instance to prevent repetition of steps again\n",
    "# Rename the file based on your preferences\n",
    "df.coalesce(1).write.option(\"header\", \"true\").parquet(\"cleaned_df.parquet\")"
   ]
  },
  {
   "cell_type": "markdown",
   "metadata": {},
   "source": [
    "Proceed to another notebooks after saving the dataframe."
   ]
  }
 ],
 "metadata": {
  "kernelspec": {
   "display_name": "Python 3",
   "language": "python",
   "name": "python3"
  },
  "language_info": {
   "codemirror_mode": {
    "name": "ipython",
    "version": 3
   },
   "file_extension": ".py",
   "mimetype": "text/x-python",
   "name": "python",
   "nbconvert_exporter": "python",
   "pygments_lexer": "ipython3",
   "version": "3.7.9"
  }
 },
 "nbformat": 4,
 "nbformat_minor": 4
}
