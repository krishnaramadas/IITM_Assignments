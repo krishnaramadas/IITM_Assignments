{
 "cells": [
  {
   "cell_type": "code",
   "execution_count": 2,
   "metadata": {},
   "outputs": [],
   "source": [
    "# Setting the environment variables"
   ]
  },
  {
   "cell_type": "code",
   "execution_count": 3,
   "metadata": {},
   "outputs": [],
   "source": [
    "import os\n",
    "import sys\n",
    "os.environ[\"PYSPARK_PYTHON\"]=\"/usr/bin/python3\"\n",
    "os.environ[\"PYSPARK_DRIVER_PYTHON\"]=\"/usr/bin/python3\"\n",
    "os.environ[\"PYSPARK_DRIVER_PYTHON_OPTS\"]=\"notebook --no-browser\"\n",
    "os.environ[\"JAVA_HOME\"] = \"/usr/java/jdk1.8.0_161/jre\"\n",
    "os.environ[\"SPARK_HOME\"] = \"/home/ec2-user/spark-2.4.4-bin-hadoop2.7\"\n",
    "os.environ[\"PYLIB\"] = os.environ[\"SPARK_HOME\"] + \"/python/lib\"\n",
    "sys.path.insert(0, os.environ[\"PYLIB\"] + \"/py4j-0.10.7-src.zip\")\n",
    "sys.path.insert(0, os.environ[\"PYLIB\"] + \"/pyspark.zip\")"
   ]
  },
  {
   "cell_type": "markdown",
   "metadata": {},
   "source": [
    "# Ecommerce Churn Assignment"
   ]
  },
  {
   "cell_type": "markdown",
   "metadata": {},
   "source": [
    "The aim of the assignment is to build a model that predicts whether a person purchases an item after it has been added to the cart or not. Being a classification problem, you are expected to use your understanding of all the three models covered till now. You must select the most robust model and provide a solution that predicts the churn in the most suitable manner. \n",
    "\n",
    "For this assignment, you are provided the data associated with an e-commerce company for the month of October 2019. Your task is to first analyse the data, and then perform multiple steps towards the model building process.\n",
    "\n",
    "The broad tasks are:\n",
    "- Data Exploration\n",
    "- Feature Engineering\n",
    "- Model Selection\n",
    "- Model Inference"
   ]
  },
  {
   "cell_type": "markdown",
   "metadata": {},
   "source": [
    "### Data description"
   ]
  },
  {
   "cell_type": "markdown",
   "metadata": {},
   "source": [
    "The dataset stores the information of a customer session on the e-commerce platform. It records the activity and the associated parameters with it.\n",
    "\n",
    "- **event_time**: Date and time when user accesses the platform\n",
    "- **event_type**: Action performed by the customer\n",
    "            - View\n",
    "            - Cart\n",
    "            - Purchase\n",
    "            - Remove from cart\n",
    "- **product_id**: Unique number to identify the product in the event\n",
    "- **category_id**: Unique number to identify the category of the product\n",
    "- **category_code**: Stores primary and secondary categories of the product\n",
    "- **brand**: Brand associated with the product\n",
    "- **price**: Price of the product\n",
    "- **user_id**: Unique ID for a customer\n",
    "- **user_session**: Session ID for a user\n"
   ]
  },
  {
   "cell_type": "markdown",
   "metadata": {},
   "source": [
    "### Initialising the SparkSession"
   ]
  },
  {
   "cell_type": "markdown",
   "metadata": {},
   "source": [
    "The dataset provided is 5 GBs in size. Therefore, it is expected that you increase the driver memory to a greater number. You can refer to notebook 1 for the steps involved here."
   ]
  },
  {
   "cell_type": "code",
   "execution_count": 4,
   "metadata": {},
   "outputs": [],
   "source": [
    "# Spark environment\n",
    "from pyspark import SparkConf\n",
    "from pyspark.sql import SparkSession"
   ]
  },
  {
   "cell_type": "code",
   "execution_count": 5,
   "metadata": {},
   "outputs": [
    {
     "data": {
      "text/html": [
       "\n",
       "            <div>\n",
       "                <p><b>SparkSession - in-memory</b></p>\n",
       "                \n",
       "        <div>\n",
       "            <p><b>SparkContext</b></p>\n",
       "\n",
       "            <p><a href=\"http://ip-172-31-77-51.ec2.internal:4041\">Spark UI</a></p>\n",
       "\n",
       "            <dl>\n",
       "              <dt>Version</dt>\n",
       "                <dd><code>v2.4.4</code></dd>\n",
       "              <dt>Master</dt>\n",
       "                <dd><code>local[*]</code></dd>\n",
       "              <dt>AppName</dt>\n",
       "                <dd><code>demo</code></dd>\n",
       "            </dl>\n",
       "        </div>\n",
       "        \n",
       "            </div>\n",
       "        "
      ],
      "text/plain": [
       "<pyspark.sql.session.SparkSession at 0x7f656c0a1710>"
      ]
     },
     "execution_count": 5,
     "metadata": {},
     "output_type": "execute_result"
    }
   ],
   "source": [
    "# initialising the session with 14 GB driver memory\n",
    "MAX_MEMORY = \"14G\"\n",
    "\n",
    "spark = SparkSession \\\n",
    "    .builder \\\n",
    "    .appName(\"demo\") \\\n",
    "    .config(\"spark.driver.memory\", MAX_MEMORY) \\\n",
    "    .getOrCreate()\n",
    "\n",
    "spark"
   ]
  },
  {
   "cell_type": "code",
   "execution_count": 6,
   "metadata": {},
   "outputs": [
    {
     "data": {
      "text/plain": [
       "'14G'"
      ]
     },
     "execution_count": 6,
     "metadata": {},
     "output_type": "execute_result"
    }
   ],
   "source": [
    "# Spark session with 14 GB driver memory\n",
    "spark.sparkContext.getConf().get('spark.driver.memory')"
   ]
  },
  {
   "cell_type": "code",
   "execution_count": 7,
   "metadata": {},
   "outputs": [],
   "source": [
    "#importing required libraries\n",
    "import pandas as pd\n",
    "from matplotlib import pyplot as plt\n",
    "from pyspark.sql.functions import *"
   ]
  },
  {
   "cell_type": "code",
   "execution_count": 8,
   "metadata": {},
   "outputs": [],
   "source": [
    "# Loading the clean data\n",
    "df= spark.read.parquet(\"cleaned_df.parquet\")"
   ]
  },
  {
   "cell_type": "markdown",
   "metadata": {},
   "source": [
    "<hr>"
   ]
  },
  {
   "cell_type": "markdown",
   "metadata": {},
   "source": [
    "## Task 3: Model Selection\n",
    "3 models for classification:\t\n",
    "- Logistic Regression\n",
    "- Decision Tree\n",
    "- Random Forest"
   ]
  },
  {
   "cell_type": "markdown",
   "metadata": {},
   "source": [
    "### Model 1: Logistic Regression"
   ]
  },
  {
   "cell_type": "code",
   "execution_count": 9,
   "metadata": {},
   "outputs": [
    {
     "name": "stdout",
     "output_type": "stream",
     "text": [
      "root\n",
      " |-- brand: string (nullable = true)\n",
      " |-- price: double (nullable = true)\n",
      " |-- event_day: integer (nullable = true)\n",
      " |-- category_2: string (nullable = true)\n",
      " |-- user_activity_count: long (nullable = true)\n",
      " |-- user_product: long (nullable = true)\n",
      " |-- user_category_2: long (nullable = true)\n",
      " |-- user_mean_spend: double (nullable = true)\n",
      " |-- user_session_count: long (nullable = true)\n",
      " |-- hour_bin: integer (nullable = true)\n",
      " |-- label: integer (nullable = true)\n",
      "\n"
     ]
    }
   ],
   "source": [
    "df.printSchema()"
   ]
  },
  {
   "cell_type": "code",
   "execution_count": 10,
   "metadata": {},
   "outputs": [
    {
     "name": "stdout",
     "output_type": "stream",
     "text": [
      "+-------+------+---------+----------+-------------------+------------+---------------+------------------+------------------+--------+-----+\n",
      "|  brand| price|event_day|category_2|user_activity_count|user_product|user_category_2|   user_mean_spend|user_session_count|hour_bin|label|\n",
      "+-------+------+---------+----------+-------------------+------------+---------------+------------------+------------------+--------+-----+\n",
      "|samsung|283.62|        3|smartphone|                  2|           2|              3| 270.4633333333333|                 2|       2|    0|\n",
      "| xiaomi|138.71|        4|smartphone|                  2|           2|              3|213.38666666666668|                 2|       3|    0|\n",
      "+-------+------+---------+----------+-------------------+------------+---------------+------------------+------------------+--------+-----+\n",
      "only showing top 2 rows\n",
      "\n"
     ]
    }
   ],
   "source": [
    "df.show(2)"
   ]
  },
  {
   "cell_type": "markdown",
   "metadata": {},
   "source": [
    "#### Feature Transformation"
   ]
  },
  {
   "cell_type": "code",
   "execution_count": 11,
   "metadata": {},
   "outputs": [
    {
     "data": {
      "text/plain": [
       "['brand',\n",
       " 'price',\n",
       " 'event_day',\n",
       " 'category_2',\n",
       " 'user_activity_count',\n",
       " 'user_product',\n",
       " 'user_category_2',\n",
       " 'user_mean_spend',\n",
       " 'user_session_count',\n",
       " 'hour_bin',\n",
       " 'label']"
      ]
     },
     "execution_count": 11,
     "metadata": {},
     "output_type": "execute_result"
    }
   ],
   "source": [
    "# Check if only the required columns are present to build the model\n",
    "# If not, drop the redundant columns\n",
    "df.columns"
   ]
  },
  {
   "cell_type": "code",
   "execution_count": 12,
   "metadata": {},
   "outputs": [],
   "source": [
    "# Categorising the attributes into its type - Continuous and Categorical\n",
    "cat_cols=['brand','category_2', 'event_day', 'hour_bin']\n",
    "num_cols=['price', 'user_product', 'user_category_2', 'user_mean_spend', 'user_session_count', 'user_activity_count']\n",
    "output_label = 'label'"
   ]
  },
  {
   "cell_type": "code",
   "execution_count": 13,
   "metadata": {},
   "outputs": [],
   "source": [
    "# importing all the required libraries\n",
    "from pyspark.ml.feature import OneHotEncoderEstimator,StringIndexer,VectorAssembler"
   ]
  },
  {
   "cell_type": "code",
   "execution_count": 14,
   "metadata": {},
   "outputs": [],
   "source": [
    "# Empty list to store the steps of pipeline\n",
    "steps=[]"
   ]
  },
  {
   "cell_type": "code",
   "execution_count": 15,
   "metadata": {},
   "outputs": [],
   "source": [
    "# Feature transformation for categorical features\n",
    "for categoricalCol in cat_cols:\n",
    "    stringIndexer=StringIndexer(inputCol=categoricalCol,outputCol=categoricalCol+'_index').setHandleInvalid(\"keep\")\n",
    "    encoder=OneHotEncoderEstimator(inputCols=[stringIndexer.getOutputCol()],outputCols=\\\n",
    "                                   [categoricalCol+\"_enc\"])\n",
    "    steps+=[stringIndexer,encoder]"
   ]
  },
  {
   "cell_type": "code",
   "execution_count": 16,
   "metadata": {},
   "outputs": [],
   "source": [
    "# Vector assembler to combine all the features\n",
    "# Defining the vectore assembler to combine all the features\n",
    "assemblerInputs=[col+\"_enc\" for col in cat_cols]+num_cols\n",
    "assembler=VectorAssembler(inputCols=assemblerInputs,outputCol=\"features\")\n",
    "steps+=[assembler]"
   ]
  },
  {
   "cell_type": "code",
   "execution_count": 17,
   "metadata": {},
   "outputs": [],
   "source": [
    "# Pipeline for the tasks\n",
    "from pyspark.ml import Pipeline\n",
    "pipeline=Pipeline(stages=steps)"
   ]
  },
  {
   "cell_type": "code",
   "execution_count": 18,
   "metadata": {},
   "outputs": [],
   "source": [
    "# Transforming the dataframe df\n",
    "final_df = pipeline.fit(df).transform(df)"
   ]
  },
  {
   "cell_type": "code",
   "execution_count": 19,
   "metadata": {},
   "outputs": [
    {
     "name": "stdout",
     "output_type": "stream",
     "text": [
      "root\n",
      " |-- brand: string (nullable = true)\n",
      " |-- price: double (nullable = true)\n",
      " |-- event_day: integer (nullable = true)\n",
      " |-- category_2: string (nullable = true)\n",
      " |-- user_activity_count: long (nullable = true)\n",
      " |-- user_product: long (nullable = true)\n",
      " |-- user_category_2: long (nullable = true)\n",
      " |-- user_mean_spend: double (nullable = true)\n",
      " |-- user_session_count: long (nullable = true)\n",
      " |-- hour_bin: integer (nullable = true)\n",
      " |-- label: integer (nullable = true)\n",
      " |-- brand_index: double (nullable = false)\n",
      " |-- brand_enc: vector (nullable = true)\n",
      " |-- category_2_index: double (nullable = false)\n",
      " |-- category_2_enc: vector (nullable = true)\n",
      " |-- event_day_index: double (nullable = false)\n",
      " |-- event_day_enc: vector (nullable = true)\n",
      " |-- hour_bin_index: double (nullable = false)\n",
      " |-- hour_bin_enc: vector (nullable = true)\n",
      " |-- features: vector (nullable = true)\n",
      "\n"
     ]
    }
   ],
   "source": [
    "# Schema of the transformed df\n",
    "final_df.printSchema()"
   ]
  },
  {
   "cell_type": "code",
   "execution_count": 20,
   "metadata": {},
   "outputs": [
    {
     "name": "stdout",
     "output_type": "stream",
     "text": [
      "+--------+-------+---------+----------+-------------------+------------+---------------+------------------+------------------+--------+-----+-----------+--------------+----------------+--------------+---------------+-------------+--------------+-------------+--------------------+\n",
      "|   brand|  price|event_day|category_2|user_activity_count|user_product|user_category_2|   user_mean_spend|user_session_count|hour_bin|label|brand_index|     brand_enc|category_2_index|category_2_enc|event_day_index|event_day_enc|hour_bin_index| hour_bin_enc|            features|\n",
      "+--------+-------+---------+----------+-------------------+------------+---------------+------------------+------------------+--------+-----+-----------+--------------+----------------+--------------+---------------+-------------+--------------+-------------+--------------------+\n",
      "| samsung| 283.62|        3|smartphone|                  2|           2|              3| 270.4633333333333|                 2|       2|    0|        0.0|(20,[0],[1.0])|             0.0|(38,[0],[1.0])|            1.0|(7,[1],[1.0])|           0.0|(4,[0],[1.0])|(75,[0,20,59,65,6...|\n",
      "|  xiaomi| 138.71|        4|smartphone|                  2|           2|              3|213.38666666666668|                 2|       3|    0|        3.0|(20,[3],[1.0])|             0.0|(38,[0],[1.0])|            2.0|(7,[2],[1.0])|           1.0|(4,[1],[1.0])|(75,[3,20,60,66,6...|\n",
      "|   apple| 581.83|        4|smartphone|                  9|           9|             14| 643.4971428571429|                 4|       3|    0|        1.0|(20,[1],[1.0])|             0.0|(38,[0],[1.0])|            2.0|(7,[2],[1.0])|           1.0|(4,[1],[1.0])|(75,[1,20,60,66,6...|\n",
      "|   apple| 460.54|        6|smartphone|                  3|           5|              6| 408.0316666666667|                 3|       2|    0|        1.0|(20,[1],[1.0])|             0.0|(38,[0],[1.0])|            0.0|(7,[0],[1.0])|           0.0|(4,[0],[1.0])|(75,[1,20,58,65,6...|\n",
      "| samsung| 369.37|        7|     video|                  6|           6|              6|369.36999999999995|                 3|       3|    1|        0.0|(20,[0],[1.0])|             3.0|(38,[3],[1.0])|            5.0|(7,[5],[1.0])|           1.0|(4,[1],[1.0])|(75,[0,23,63,66,6...|\n",
      "| samsung| 369.37|        7|     video|                  6|           6|              6|369.36999999999995|                 3|       3|    1|        0.0|(20,[0],[1.0])|             3.0|(38,[3],[1.0])|            5.0|(7,[5],[1.0])|           1.0|(4,[1],[1.0])|(75,[0,23,63,66,6...|\n",
      "|elenberg|  50.91|        1|   kitchen|                  5|           4|              5|            68.974|                 3|       1|    1|        8.0|(20,[8],[1.0])|             1.0|(38,[1],[1.0])|            3.0|(7,[3],[1.0])|           2.0|(4,[2],[1.0])|(75,[8,21,61,67,6...|\n",
      "|   apple| 746.09|        1|smartphone|                  5|           4|              5| 797.0260000000001|                 1|       2|    1|        1.0|(20,[1],[1.0])|             0.0|(38,[0],[1.0])|            3.0|(7,[3],[1.0])|           0.0|(4,[0],[1.0])|(75,[1,20,61,65,6...|\n",
      "|   apple|1634.28|        3|smartphone|                 14|          10|             24|1816.1112499999997|                 3|       2|    0|        1.0|(20,[1],[1.0])|             0.0|(38,[0],[1.0])|            1.0|(7,[1],[1.0])|           0.0|(4,[0],[1.0])|(75,[1,20,59,65,6...|\n",
      "|   apple|1634.28|        3|smartphone|                 14|          10|             24|1816.1112499999997|                 3|       2|    0|        1.0|(20,[1],[1.0])|             0.0|(38,[0],[1.0])|            1.0|(7,[1],[1.0])|           0.0|(4,[0],[1.0])|(75,[1,20,59,65,6...|\n",
      "|   apple|1349.44|        5|smartphone|                  8|           4|              8|1468.8200000000002|                 2|       2|    0|        1.0|(20,[1],[1.0])|             0.0|(38,[0],[1.0])|            4.0|(7,[4],[1.0])|           0.0|(4,[0],[1.0])|(75,[1,20,62,65,6...|\n",
      "|   apple|1349.44|        5|smartphone|                  8|           4|              8|1468.8200000000002|                 2|       2|    0|        1.0|(20,[1],[1.0])|             0.0|(38,[0],[1.0])|            4.0|(7,[4],[1.0])|           0.0|(4,[0],[1.0])|(75,[1,20,62,65,6...|\n",
      "|   apple| 1588.2|        5|smartphone|                  8|           4|              8|1468.8200000000002|                 2|       2|    1|        1.0|(20,[1],[1.0])|             0.0|(38,[0],[1.0])|            4.0|(7,[4],[1.0])|           0.0|(4,[0],[1.0])|(75,[1,20,62,65,6...|\n",
      "| samsung| 197.15|        1|smartphone|                  8|           4|             58|203.15948275862078|                 6|       3|    0|        0.0|(20,[0],[1.0])|             0.0|(38,[0],[1.0])|            3.0|(7,[3],[1.0])|           1.0|(4,[1],[1.0])|(75,[0,20,61,66,6...|\n",
      "| samsung| 172.23|        5|smartphone|                  4|           4|             58|203.15948275862078|                 6|       3|    1|        0.0|(20,[0],[1.0])|             0.0|(38,[0],[1.0])|            4.0|(7,[4],[1.0])|           1.0|(4,[1],[1.0])|(75,[0,20,62,66,6...|\n",
      "| samsung| 233.66|        2|smartphone|                 15|           3|             58|203.15948275862078|                 6|       3|    1|        0.0|(20,[0],[1.0])|             0.0|(38,[0],[1.0])|            6.0|(7,[6],[1.0])|           1.0|(4,[1],[1.0])|(75,[0,20,64,66,6...|\n",
      "| samsung| 229.09|        6|smartphone|                 16|           4|             58|203.15948275862078|                 6|       3|    1|        0.0|(20,[0],[1.0])|             0.0|(38,[0],[1.0])|            0.0|(7,[0],[1.0])|           1.0|(4,[1],[1.0])|(75,[0,20,58,66,6...|\n",
      "| samsung| 246.96|        3|smartphone|                 17|           5|             27|241.41111111111118|                 3|       2|    1|        0.0|(20,[0],[1.0])|             0.0|(38,[0],[1.0])|            1.0|(7,[1],[1.0])|           0.0|(4,[0],[1.0])|(75,[0,20,59,65,6...|\n",
      "| samsung| 224.38|        3|smartphone|                 17|           6|             27|241.41111111111118|                 3|       2|    1|        0.0|(20,[0],[1.0])|             0.0|(38,[0],[1.0])|            1.0|(7,[1],[1.0])|           0.0|(4,[0],[1.0])|(75,[0,20,59,65,6...|\n",
      "|   apple| 975.56|        1|smartphone|                  7|          11|             14|1022.7078571428568|                 4|       2|    1|        1.0|(20,[1],[1.0])|             0.0|(38,[0],[1.0])|            3.0|(7,[3],[1.0])|           0.0|(4,[0],[1.0])|(75,[1,20,61,65,6...|\n",
      "+--------+-------+---------+----------+-------------------+------------+---------------+------------------+------------------+--------+-----+-----------+--------------+----------------+--------------+---------------+-------------+--------------+-------------+--------------------+\n",
      "only showing top 20 rows\n",
      "\n"
     ]
    }
   ],
   "source": [
    "# Checking the elements of the transformed df - Top 20 rows\n",
    "final_df.show()"
   ]
  },
  {
   "cell_type": "code",
   "execution_count": 22,
   "metadata": {},
   "outputs": [],
   "source": [
    "# Storing the transformed df in S3 bucket to prevent repetition of steps again\n",
    "final_df.coalesce(1).write.option(\"header\", \"true\").parquet(\"final_df.parquet\")"
   ]
  },
  {
   "cell_type": "markdown",
   "metadata": {},
   "source": [
    "**Feature Scaling**"
   ]
  },
  {
   "cell_type": "code",
   "execution_count": 23,
   "metadata": {},
   "outputs": [],
   "source": [
    "# Scaling the features vector\n",
    "from pyspark.ml.feature import MinMaxScaler\n",
    "scaler = MinMaxScaler().setInputCol(\"features\").setOutputCol(\"scaled_features\")\n",
    "logistic_df = scaler.fit(final_df).transform(final_df)"
   ]
  },
  {
   "cell_type": "code",
   "execution_count": 24,
   "metadata": {},
   "outputs": [
    {
     "data": {
      "text/plain": [
       "Row(features=SparseVector(75, {0: 1.0, 20: 1.0, 59: 1.0, 65: 1.0, 69: 283.62, 70: 2.0, 71: 3.0, 72: 270.4633, 73: 2.0, 74: 2.0}), scaled_features=DenseVector([1.0, 0.0, 0.0, 0.0, 0.0, 0.0, 0.0, 0.0, 0.0, 0.0, 0.0, 0.0, 0.0, 0.0, 0.0, 0.0, 0.0, 0.0, 0.0, 0.0, 1.0, 0.0, 0.0, 0.0, 0.0, 0.0, 0.0, 0.0, 0.0, 0.0, 0.0, 0.0, 0.0, 0.0, 0.0, 0.0, 0.0, 0.0, 0.0, 0.0, 0.0, 0.0, 0.0, 0.0, 0.0, 0.0, 0.0, 0.0, 0.0, 0.0, 0.0, 0.0, 0.0, 0.0, 0.0, 0.0, 0.0, 0.0, 0.0, 1.0, 0.0, 0.0, 0.0, 0.0, 0.0, 1.0, 0.0, 0.0, 0.0, 0.1098, 0.0013, 0.0006, 0.1047, 0.0005, 0.0031]))"
      ]
     },
     "execution_count": 24,
     "metadata": {},
     "output_type": "execute_result"
    }
   ],
   "source": [
    "# Scaled features\n",
    "logistic_df.select(\"features\",\"scaled_features\").head()"
   ]
  },
  {
   "cell_type": "markdown",
   "metadata": {},
   "source": [
    "#### Train-test split"
   ]
  },
  {
   "cell_type": "code",
   "execution_count": 25,
   "metadata": {},
   "outputs": [],
   "source": [
    "# Splitting the data into train and test (Remember you are expected to compare the model later)\n",
    "train_data, test_data =logistic_df.randomSplit([0.7,0.3], seed=100)"
   ]
  },
  {
   "cell_type": "code",
   "execution_count": 26,
   "metadata": {},
   "outputs": [
    {
     "data": {
      "text/plain": [
       "549095"
      ]
     },
     "execution_count": 26,
     "metadata": {},
     "output_type": "execute_result"
    }
   ],
   "source": [
    "# Number of rows in train\n",
    "train_data.count()"
   ]
  },
  {
   "cell_type": "code",
   "execution_count": 27,
   "metadata": {},
   "outputs": [
    {
     "data": {
      "text/plain": [
       "235266"
      ]
     },
     "execution_count": 27,
     "metadata": {},
     "output_type": "execute_result"
    }
   ],
   "source": [
    "# Number of rows in test\n",
    "test_data.count()"
   ]
  },
  {
   "cell_type": "markdown",
   "metadata": {},
   "source": [
    "#### Model Fitting"
   ]
  },
  {
   "cell_type": "code",
   "execution_count": 28,
   "metadata": {},
   "outputs": [],
   "source": [
    "# Building the model\n",
    "# Importing the library for Logistic regression\n",
    "from pyspark.ml.classification import LogisticRegression\n",
    "\n",
    "# create the logistic model, configure it and call fit it to the data. \n",
    "log_reg = LogisticRegression(featuresCol='scaled_features', labelCol='label')"
   ]
  },
  {
   "cell_type": "code",
   "execution_count": 29,
   "metadata": {},
   "outputs": [],
   "source": [
    "# Fitting the model on transformed df\n",
    "model = log_reg.fit(train_data)"
   ]
  },
  {
   "cell_type": "code",
   "execution_count": 30,
   "metadata": {},
   "outputs": [],
   "source": [
    "# Fit on train data\n",
    "predictions_train = model.transform(train_data)"
   ]
  },
  {
   "cell_type": "markdown",
   "metadata": {},
   "source": [
    "#### Model Analysis"
   ]
  },
  {
   "cell_type": "markdown",
   "metadata": {},
   "source": [
    "Required Steps:\n",
    "- Fit on test data\n",
    "- Performance analysis\n",
    "    - Appropriate Metric with reasoning\n",
    "    - Threshold selection"
   ]
  },
  {
   "cell_type": "code",
   "execution_count": 31,
   "metadata": {},
   "outputs": [],
   "source": [
    "# Fit on test data\n",
    "predictions_test = model.transform(test_data)"
   ]
  },
  {
   "cell_type": "code",
   "execution_count": 32,
   "metadata": {},
   "outputs": [
    {
     "name": "stdout",
     "output_type": "stream",
     "text": [
      "+-----+----------+\n",
      "|label|prediction|\n",
      "+-----+----------+\n",
      "|    1|       1.0|\n",
      "|    1|       1.0|\n",
      "|    1|       1.0|\n",
      "|    0|       1.0|\n",
      "|    0|       1.0|\n",
      "|    1|       0.0|\n",
      "|    0|       0.0|\n",
      "|    1|       1.0|\n",
      "|    0|       1.0|\n",
      "|    0|       1.0|\n",
      "|    1|       1.0|\n",
      "|    1|       1.0|\n",
      "|    1|       1.0|\n",
      "|    1|       1.0|\n",
      "|    1|       1.0|\n",
      "|    1|       1.0|\n",
      "|    1|       1.0|\n",
      "|    1|       1.0|\n",
      "|    1|       1.0|\n",
      "|    1|       1.0|\n",
      "+-----+----------+\n",
      "only showing top 20 rows\n",
      "\n"
     ]
    }
   ],
   "source": [
    "# Predictions on the test data\n",
    "predictions_test.select('label', 'prediction').show()"
   ]
  },
  {
   "cell_type": "code",
   "execution_count": 33,
   "metadata": {},
   "outputs": [
    {
     "name": "stdout",
     "output_type": "stream",
     "text": [
      "Test Area Under ROC 0.7092825632054874\n",
      "Test Area Under ROC 0.7092499990705057\n"
     ]
    }
   ],
   "source": [
    "# Performance evaluation\n",
    "from pyspark.ml.evaluation import BinaryClassificationEvaluator\n",
    "\n",
    "evaluator = BinaryClassificationEvaluator()\n",
    "# ROC Curve\n",
    "print('Test Area Under ROC', evaluator.evaluate(predictions_train))\n",
    "print('Test Area Under ROC', evaluator.evaluate(predictions_test))"
   ]
  },
  {
   "cell_type": "code",
   "execution_count": 34,
   "metadata": {},
   "outputs": [
    {
     "name": "stdout",
     "output_type": "stream",
     "text": [
      "fMeasure on Training data [0.4461440172987849, 0.7666117020312755]\n",
      "fMeasure on Test data [0.44643737628538155, 0.7656786441334207]\n"
     ]
    }
   ],
   "source": [
    "# Performance evaluation\n",
    "train_eval = model.evaluate(train_data)\n",
    "test_eval = model.evaluate(test_data)\n",
    "\n",
    "# fMeasure\n",
    "print('fMeasure on Training data', train_eval.fMeasureByLabel())\n",
    "print('fMeasure on Test data', test_eval.fMeasureByLabel())"
   ]
  },
  {
   "cell_type": "code",
   "execution_count": 35,
   "metadata": {},
   "outputs": [
    {
     "name": "stdout",
     "output_type": "stream",
     "text": [
      "+-----+--------------------+----------+\n",
      "|label|         probability|prediction|\n",
      "+-----+--------------------+----------+\n",
      "|    1|[0.63178576267841...|       0.0|\n",
      "|    0|[0.49684016656274...|       1.0|\n",
      "|    0|[0.55074823719078...|       0.0|\n",
      "|    1|[0.25545541849683...|       1.0|\n",
      "|    1|[0.22431074342995...|       1.0|\n",
      "+-----+--------------------+----------+\n",
      "only showing top 5 rows\n",
      "\n"
     ]
    }
   ],
   "source": [
    "# Threshold optimisation\n",
    "thresh_results = predictions_train.select('label','probability','prediction')\n",
    "thresh_results.show(5)"
   ]
  },
  {
   "cell_type": "code",
   "execution_count": 36,
   "metadata": {},
   "outputs": [],
   "source": [
    "from pyspark.sql.functions import udf, when\n",
    "from pyspark.sql.types import FloatType\n",
    "\n",
    "element_extrac=udf(lambda v:float(v[1]),FloatType())\n",
    "\n",
    "result_list = []       # to store the values of accuracy, precision and recall\n",
    "\n",
    "threshold_list = [0.05, 0.1, 0.2, 0.3, 0.4, 0.5, 0.6, 0.7]"
   ]
  },
  {
   "cell_type": "code",
   "execution_count": 37,
   "metadata": {},
   "outputs": [],
   "source": [
    "for i in threshold_list:\n",
    "    test_pred = thresh_results.withColumn('label_p',when(element_extrac(thresh_results[\"probability\"]) >= i, 1).otherwise(0))\n",
    "    TP = test_pred.filter(\"label==1 AND label_p==1\").count()\n",
    "    FP = test_pred.filter(\"label==0 AND label_p==1\").count()\n",
    "    FN = test_pred.filter(\"label==1 AND label_p==0\").count()\n",
    "    TN = test_pred.filter(\"label==0 AND label_p==0\").count()    \n",
    "    list1 = []\n",
    "    list1.append(i)\n",
    "    list1.append(TP)\n",
    "    list1.append(TN)\n",
    "    list1.append(FP)\n",
    "    list1.append(FN)\n",
    "    result_list.append(list1)"
   ]
  },
  {
   "cell_type": "code",
   "execution_count": 38,
   "metadata": {},
   "outputs": [],
   "source": [
    "# Converting the list into dataframe\n",
    "from pyspark.sql.types import *\n",
    "\n",
    "schema = StructType([StructField('threshold', FloatType(), True),\n",
    "                      StructField('TP', IntegerType(), True),\n",
    "                      StructField('TN', IntegerType(), True),\n",
    "                      StructField('FP', IntegerType(), True),\n",
    "                      StructField('FN', IntegerType(), True)])\n",
    "\n",
    "\n",
    "# create a rdd from the list\n",
    "rdd = spark.sparkContext.parallelize(result_list)\n",
    "\n",
    "\n",
    "# create a spark dataframe form rdd\n",
    "thresh_df = spark.createDataFrame(rdd,schema)"
   ]
  },
  {
   "cell_type": "code",
   "execution_count": 39,
   "metadata": {},
   "outputs": [],
   "source": [
    "# Generating the required metrics\n",
    "thresh_df = thresh_df.withColumn('accuracy',((thresh_df['TP']+thresh_df['TN'])/(thresh_df['TP']+thresh_df['FP']+thresh_df['TN']+thresh_df['FN'])))\n",
    "thresh_df = thresh_df.withColumn('recall',(thresh_df['TP'])/(thresh_df['TP']+thresh_df['FN']))\n",
    "thresh_df = thresh_df.withColumn('precision',(thresh_df['TP'])/(thresh_df['TP']+thresh_df['FP']))\n",
    "thresh_df = thresh_df.withColumn('fscore',(2*thresh_df['recall']*thresh_df['precision'])/(thresh_df['recall']+thresh_df['precision']))"
   ]
  },
  {
   "cell_type": "code",
   "execution_count": 40,
   "metadata": {},
   "outputs": [],
   "source": [
    "pandas_df = thresh_df.toPandas()"
   ]
  },
  {
   "cell_type": "code",
   "execution_count": 41,
   "metadata": {},
   "outputs": [
    {
     "data": {
      "text/html": [
       "<div>\n",
       "<style scoped>\n",
       "    .dataframe tbody tr th:only-of-type {\n",
       "        vertical-align: middle;\n",
       "    }\n",
       "\n",
       "    .dataframe tbody tr th {\n",
       "        vertical-align: top;\n",
       "    }\n",
       "\n",
       "    .dataframe thead th {\n",
       "        text-align: right;\n",
       "    }\n",
       "</style>\n",
       "<table border=\"1\" class=\"dataframe\">\n",
       "  <thead>\n",
       "    <tr style=\"text-align: right;\">\n",
       "      <th></th>\n",
       "      <th>threshold</th>\n",
       "      <th>TP</th>\n",
       "      <th>TN</th>\n",
       "      <th>FP</th>\n",
       "      <th>FN</th>\n",
       "      <th>accuracy</th>\n",
       "      <th>recall</th>\n",
       "      <th>precision</th>\n",
       "      <th>fscore</th>\n",
       "    </tr>\n",
       "  </thead>\n",
       "  <tbody>\n",
       "    <tr>\n",
       "      <th>0</th>\n",
       "      <td>0.05</td>\n",
       "      <td>340431</td>\n",
       "      <td>70</td>\n",
       "      <td>208592</td>\n",
       "      <td>2</td>\n",
       "      <td>0.620113</td>\n",
       "      <td>0.999994</td>\n",
       "      <td>0.620067</td>\n",
       "      <td>0.765481</td>\n",
       "    </tr>\n",
       "    <tr>\n",
       "      <th>1</th>\n",
       "      <td>0.10</td>\n",
       "      <td>340408</td>\n",
       "      <td>209</td>\n",
       "      <td>208453</td>\n",
       "      <td>25</td>\n",
       "      <td>0.620324</td>\n",
       "      <td>0.999927</td>\n",
       "      <td>0.620208</td>\n",
       "      <td>0.765569</td>\n",
       "    </tr>\n",
       "    <tr>\n",
       "      <th>2</th>\n",
       "      <td>0.20</td>\n",
       "      <td>340204</td>\n",
       "      <td>758</td>\n",
       "      <td>207904</td>\n",
       "      <td>229</td>\n",
       "      <td>0.620953</td>\n",
       "      <td>0.999327</td>\n",
       "      <td>0.620688</td>\n",
       "      <td>0.765759</td>\n",
       "    </tr>\n",
       "    <tr>\n",
       "      <th>3</th>\n",
       "      <td>0.30</td>\n",
       "      <td>339259</td>\n",
       "      <td>3596</td>\n",
       "      <td>205066</td>\n",
       "      <td>1174</td>\n",
       "      <td>0.624400</td>\n",
       "      <td>0.996551</td>\n",
       "      <td>0.623266</td>\n",
       "      <td>0.766897</td>\n",
       "    </tr>\n",
       "    <tr>\n",
       "      <th>4</th>\n",
       "      <td>0.40</td>\n",
       "      <td>333121</td>\n",
       "      <td>18931</td>\n",
       "      <td>189731</td>\n",
       "      <td>7312</td>\n",
       "      <td>0.641150</td>\n",
       "      <td>0.978521</td>\n",
       "      <td>0.637123</td>\n",
       "      <td>0.771752</td>\n",
       "    </tr>\n",
       "    <tr>\n",
       "      <th>5</th>\n",
       "      <td>0.50</td>\n",
       "      <td>296149</td>\n",
       "      <td>72626</td>\n",
       "      <td>136036</td>\n",
       "      <td>44284</td>\n",
       "      <td>0.671605</td>\n",
       "      <td>0.869919</td>\n",
       "      <td>0.685237</td>\n",
       "      <td>0.766612</td>\n",
       "    </tr>\n",
       "    <tr>\n",
       "      <th>6</th>\n",
       "      <td>0.60</td>\n",
       "      <td>206780</td>\n",
       "      <td>146386</td>\n",
       "      <td>62276</td>\n",
       "      <td>133653</td>\n",
       "      <td>0.643178</td>\n",
       "      <td>0.607403</td>\n",
       "      <td>0.768539</td>\n",
       "      <td>0.678536</td>\n",
       "    </tr>\n",
       "    <tr>\n",
       "      <th>7</th>\n",
       "      <td>0.70</td>\n",
       "      <td>117473</td>\n",
       "      <td>184748</td>\n",
       "      <td>23914</td>\n",
       "      <td>222960</td>\n",
       "      <td>0.550398</td>\n",
       "      <td>0.345069</td>\n",
       "      <td>0.830861</td>\n",
       "      <td>0.487622</td>\n",
       "    </tr>\n",
       "  </tbody>\n",
       "</table>\n",
       "</div>"
      ],
      "text/plain": [
       "   threshold      TP      TN      FP      FN  accuracy    recall  precision  \\\n",
       "0       0.05  340431      70  208592       2  0.620113  0.999994   0.620067   \n",
       "1       0.10  340408     209  208453      25  0.620324  0.999927   0.620208   \n",
       "2       0.20  340204     758  207904     229  0.620953  0.999327   0.620688   \n",
       "3       0.30  339259    3596  205066    1174  0.624400  0.996551   0.623266   \n",
       "4       0.40  333121   18931  189731    7312  0.641150  0.978521   0.637123   \n",
       "5       0.50  296149   72626  136036   44284  0.671605  0.869919   0.685237   \n",
       "6       0.60  206780  146386   62276  133653  0.643178  0.607403   0.768539   \n",
       "7       0.70  117473  184748   23914  222960  0.550398  0.345069   0.830861   \n",
       "\n",
       "     fscore  \n",
       "0  0.765481  \n",
       "1  0.765569  \n",
       "2  0.765759  \n",
       "3  0.766897  \n",
       "4  0.771752  \n",
       "5  0.766612  \n",
       "6  0.678536  \n",
       "7  0.487622  "
      ]
     },
     "execution_count": 41,
     "metadata": {},
     "output_type": "execute_result"
    }
   ],
   "source": [
    "pandas_df"
   ]
  },
  {
   "cell_type": "code",
   "execution_count": 42,
   "metadata": {},
   "outputs": [
    {
     "data": {
      "image/png": "[encoded data removed]",
      "text/plain": [
       "<Figure size 432x288 with 1 Axes>"
      ]
     },
     "metadata": {
      "needs_background": "light"
     },
     "output_type": "display_data"
    }
   ],
   "source": [
    "# Plotting the different measures\n",
    "import matplotlib.pyplot as plt\n",
    "\n",
    "# create the plot\n",
    "pandas_df.plot.line(x='threshold', y=['accuracy','recall','precision', 'fscore'])\n",
    "\n",
    "# display the plot\n",
    "plt.show()"
   ]
  },
  {
   "cell_type": "markdown",
   "metadata": {},
   "source": [
    "Selecting the threshold value as **0.55**"
   ]
  },
  {
   "cell_type": "code",
   "execution_count": 43,
   "metadata": {},
   "outputs": [],
   "source": [
    "test_pred = thresh_results.withColumn('label_p',when(element_extrac(thresh_results[\"probability\"]) >= 0.55, 1).otherwise(0))\n",
    "TP = test_pred.filter(\"label==1 AND label_p==1\").count()\n",
    "FP = test_pred.filter(\"label==0 AND label_p==1\").count()\n",
    "FN = test_pred.filter(\"label==1 AND label_p==0\").count()\n",
    "TN = test_pred.filter(\"label==0 AND label_p==0\").count() "
   ]
  },
  {
   "cell_type": "code",
   "execution_count": 44,
   "metadata": {},
   "outputs": [
    {
     "name": "stdout",
     "output_type": "stream",
     "text": [
      "Accuracy score = 0.6702446753294057\n"
     ]
    }
   ],
   "source": [
    "accuracy = (TP + TN)/(TP + TN + FP + FN)\n",
    "print(\"Accuracy score =\",accuracy)"
   ]
  },
  {
   "cell_type": "code",
   "execution_count": 45,
   "metadata": {},
   "outputs": [
    {
     "name": "stdout",
     "output_type": "stream",
     "text": [
      "Precision = 0.7227686234602761\n"
     ]
    }
   ],
   "source": [
    "precision = (TP)/(TP+FP)\n",
    "print(\"Precision =\",precision)"
   ]
  },
  {
   "cell_type": "code",
   "execution_count": 46,
   "metadata": {},
   "outputs": [
    {
     "name": "stdout",
     "output_type": "stream",
     "text": [
      "Recall = 0.7594152153287137\n"
     ]
    }
   ],
   "source": [
    "recall = (TP)/(TP+FN)\n",
    "print(\"Recall =\",recall)"
   ]
  },
  {
   "cell_type": "code",
   "execution_count": 47,
   "metadata": {},
   "outputs": [
    {
     "name": "stdout",
     "output_type": "stream",
     "text": [
      "F score = 0.7406388808912991\n"
     ]
    }
   ],
   "source": [
    "fscore = (2*precision*recall)/(precision + recall)\n",
    "print(\"F score =\",fscore)"
   ]
  },
  {
   "cell_type": "markdown",
   "metadata": {},
   "source": [
    "**Recall** is the appropriate metric since here we are concentrating on the churn. ie the 1's. \n",
    "<br>Here we can see that the recall is about 0.76"
   ]
  },
  {
   "cell_type": "code",
   "execution_count": null,
   "metadata": {},
   "outputs": [],
   "source": []
  }
 ],
 "metadata": {
  "kernelspec": {
   "display_name": "Python 3",
   "language": "python",
   "name": "python3"
  },
  "language_info": {
   "codemirror_mode": {
    "name": "ipython",
    "version": 3
   },
   "file_extension": ".py",
   "mimetype": "text/x-python",
   "name": "python",
   "nbconvert_exporter": "python",
   "pygments_lexer": "ipython3",
   "version": "3.7.9"
  }
 },
 "nbformat": 4,
 "nbformat_minor": 4
}
