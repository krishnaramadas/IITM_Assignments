{
 "cells": [
  {
   "cell_type": "markdown",
   "metadata": {
    "id": "S08RwB85qSjG"
   },
   "source": [
    "# **StackOverFlow Case Study**\n",
    "\n",
    "### **Contents:**\n",
    "\n",
    "\n",
    "1.   Loading Datasets\n",
    "2.   Data wrangling         \n",
    "           * Basic exploration of datasets, identification of variables and data types.\n",
    "           * Handling Missing Values\n",
    "           * Handling Duplicates\n",
    "           * Outlier Treatment and Standardization\n",
    "           * Formatting columns\n",
    "          \n",
    "\n",
    "\n",
    "3. Univariate Analysis\n",
    "\n",
    "4. Bivariate Analysis\n",
    "5. Multivariate Analysis \n",
    "\n",
    "6. Problem statement and its solutions\n",
    "\n",
    "\n",
    "\n"
   ]
  },
  {
   "cell_type": "code",
   "execution_count": 1,
   "metadata": {
    "id": "aOwj3bO98-Lq"
   },
   "outputs": [],
   "source": [
    "#Importing necessary libraries\n",
    "import pandas as pd\n",
    "import numpy as np\n",
    "import matplotlib.pyplot as plt\n",
    "import seaborn as sns\n"
   ]
  },
  {
   "cell_type": "markdown",
   "metadata": {
    "id": "-RSKbceoflTo"
   },
   "source": [
    "# **Loading the Datasets**"
   ]
  },
  {
   "cell_type": "code",
   "execution_count": 2,
   "metadata": {
    "id": "AUilJN1g_2Ij"
   },
   "outputs": [],
   "source": [
    "#Loading Stackoverflow datasets for question,answers, tags and users\n",
    "url= \"https://stack-overflow-casestudy-datasets.s3.amazonaws.com/Questions.csv\"\n",
    "q=pd.read_csv(url,encoding='latin-1')"
   ]
  },
  {
   "cell_type": "code",
   "execution_count": 3,
   "metadata": {
    "id": "lzUHxrpChevZ"
   },
   "outputs": [],
   "source": [
    "url= \"https://stack-overflow-casestudy-datasets.s3.amazonaws.com/Answers.csv\"\n",
    "a=pd.read_csv(url,encoding='latin-1')"
   ]
  },
  {
   "cell_type": "code",
   "execution_count": 4,
   "metadata": {
    "id": "7SMCcBrohfur"
   },
   "outputs": [],
   "source": [
    "url= \"https://stack-overflow-casestudy-datasets.s3.amazonaws.com/Tags.csv\"\n",
    "t=pd.read_csv(url,encoding='latin-1')"
   ]
  },
  {
   "cell_type": "code",
   "execution_count": 5,
   "metadata": {
    "id": "6nsrDd4zhge2"
   },
   "outputs": [],
   "source": [
    "url= \"https://stack-overflow-casestudy-datasets.s3.amazonaws.com/Users.csv\"\n",
    "u=pd.read_csv(url,encoding='latin-1')"
   ]
  },
  {
   "cell_type": "markdown",
   "metadata": {
    "id": "TtErMIrMhxlK"
   },
   "source": [
    "# **Questions Dataset**"
   ]
  },
  {
   "cell_type": "code",
   "execution_count": 6,
   "metadata": {
    "colab": {
     "base_uri": "https://localhost:8080/",
     "height": 289
    },
    "id": "wMU5hkj1_Fij",
    "outputId": "537f8560-1ff0-4cf7-f825-315e3bc25d3a"
   },
   "outputs": [
    {
     "data": {
      "text/html": [
       "<div>\n",
       "<style scoped>\n",
       "    .dataframe tbody tr th:only-of-type {\n",
       "        vertical-align: middle;\n",
       "    }\n",
       "\n",
       "    .dataframe tbody tr th {\n",
       "        vertical-align: top;\n",
       "    }\n",
       "\n",
       "    .dataframe thead th {\n",
       "        text-align: right;\n",
       "    }\n",
       "</style>\n",
       "<table border=\"1\" class=\"dataframe\">\n",
       "  <thead>\n",
       "    <tr style=\"text-align: right;\">\n",
       "      <th></th>\n",
       "      <th>Id</th>\n",
       "      <th>OwnerUserId</th>\n",
       "      <th>CreationDate</th>\n",
       "      <th>ClosedDate</th>\n",
       "      <th>Score</th>\n",
       "      <th>Title</th>\n",
       "      <th>Body</th>\n",
       "    </tr>\n",
       "  </thead>\n",
       "  <tbody>\n",
       "    <tr>\n",
       "      <th>0</th>\n",
       "      <td>80</td>\n",
       "      <td>26.0</td>\n",
       "      <td>2008-08-01T13:57:07Z</td>\n",
       "      <td>NaN</td>\n",
       "      <td>26</td>\n",
       "      <td>SQLStatement.execute() - multiple queries in o...</td>\n",
       "      <td>&lt;p&gt;I've written a database generation script i...</td>\n",
       "    </tr>\n",
       "    <tr>\n",
       "      <th>1</th>\n",
       "      <td>90</td>\n",
       "      <td>58.0</td>\n",
       "      <td>2008-08-01T14:41:24Z</td>\n",
       "      <td>2012-12-26T03:45:49Z</td>\n",
       "      <td>144</td>\n",
       "      <td>Good branching and merging tutorials for Torto...</td>\n",
       "      <td>&lt;p&gt;Are there any really good tutorials explain...</td>\n",
       "    </tr>\n",
       "    <tr>\n",
       "      <th>2</th>\n",
       "      <td>120</td>\n",
       "      <td>83.0</td>\n",
       "      <td>2008-08-01T15:50:08Z</td>\n",
       "      <td>NaN</td>\n",
       "      <td>21</td>\n",
       "      <td>ASP.NET Site Maps</td>\n",
       "      <td>&lt;p&gt;Has anyone got experience creating &lt;strong&gt;...</td>\n",
       "    </tr>\n",
       "    <tr>\n",
       "      <th>3</th>\n",
       "      <td>180</td>\n",
       "      <td>2089740.0</td>\n",
       "      <td>2008-08-01T18:42:19Z</td>\n",
       "      <td>NaN</td>\n",
       "      <td>53</td>\n",
       "      <td>Function for creating color wheels</td>\n",
       "      <td>&lt;p&gt;This is something I've pseudo-solved many t...</td>\n",
       "    </tr>\n",
       "    <tr>\n",
       "      <th>4</th>\n",
       "      <td>260</td>\n",
       "      <td>91.0</td>\n",
       "      <td>2008-08-01T23:22:08Z</td>\n",
       "      <td>NaN</td>\n",
       "      <td>49</td>\n",
       "      <td>Adding scripting functionality to .NET applica...</td>\n",
       "      <td>&lt;p&gt;I have a little game written in C#. It uses...</td>\n",
       "    </tr>\n",
       "  </tbody>\n",
       "</table>\n",
       "</div>"
      ],
      "text/plain": [
       "    Id  OwnerUserId          CreationDate            ClosedDate  Score  \\\n",
       "0   80         26.0  2008-08-01T13:57:07Z                   NaN     26   \n",
       "1   90         58.0  2008-08-01T14:41:24Z  2012-12-26T03:45:49Z    144   \n",
       "2  120         83.0  2008-08-01T15:50:08Z                   NaN     21   \n",
       "3  180    2089740.0  2008-08-01T18:42:19Z                   NaN     53   \n",
       "4  260         91.0  2008-08-01T23:22:08Z                   NaN     49   \n",
       "\n",
       "                                               Title  \\\n",
       "0  SQLStatement.execute() - multiple queries in o...   \n",
       "1  Good branching and merging tutorials for Torto...   \n",
       "2                                  ASP.NET Site Maps   \n",
       "3                 Function for creating color wheels   \n",
       "4  Adding scripting functionality to .NET applica...   \n",
       "\n",
       "                                                Body  \n",
       "0  <p>I've written a database generation script i...  \n",
       "1  <p>Are there any really good tutorials explain...  \n",
       "2  <p>Has anyone got experience creating <strong>...  \n",
       "3  <p>This is something I've pseudo-solved many t...  \n",
       "4  <p>I have a little game written in C#. It uses...  "
      ]
     },
     "execution_count": 6,
     "metadata": {},
     "output_type": "execute_result"
    }
   ],
   "source": [
    "#Viewing the first 5 rows of the question dataset\n",
    "q.head()"
   ]
  },
  {
   "cell_type": "code",
   "execution_count": 7,
   "metadata": {
    "colab": {
     "base_uri": "https://localhost:8080/"
    },
    "id": "8KmvjI0o0s_K",
    "outputId": "9080e041-c334-4507-a53e-1d07662365f7"
   },
   "outputs": [
    {
     "name": "stdout",
     "output_type": "stream",
     "text": [
      "<class 'pandas.core.frame.DataFrame'>\n",
      "RangeIndex: 1264216 entries, 0 to 1264215\n",
      "Data columns (total 7 columns):\n",
      " #   Column        Non-Null Count    Dtype  \n",
      "---  ------        --------------    -----  \n",
      " 0   Id            1264216 non-null  int64  \n",
      " 1   OwnerUserId   1249762 non-null  float64\n",
      " 2   CreationDate  1264216 non-null  object \n",
      " 3   ClosedDate    55959 non-null    object \n",
      " 4   Score         1264216 non-null  int64  \n",
      " 5   Title         1264216 non-null  object \n",
      " 6   Body          1264216 non-null  object \n",
      "dtypes: float64(1), int64(2), object(4)\n",
      "memory usage: 67.5+ MB\n"
     ]
    }
   ],
   "source": [
    "#The basic information regarding the dataset\n",
    "q.info()"
   ]
  },
  {
   "cell_type": "markdown",
   "metadata": {
    "id": "zGD6C6fG2NtK"
   },
   "source": [
    "# **Data Wrangling**\n",
    "\n",
    "\n",
    "# 1.  Handling Missing Values\n",
    "\n",
    "\n"
   ]
  },
  {
   "cell_type": "code",
   "execution_count": 8,
   "metadata": {
    "colab": {
     "base_uri": "https://localhost:8080/"
    },
    "id": "sfpKfxgA3oAW",
    "outputId": "0626072c-5741-48d0-93c4-adbf19a0edf0"
   },
   "outputs": [
    {
     "data": {
      "text/plain": [
       "Id                    0\n",
       "OwnerUserId       14454\n",
       "CreationDate          0\n",
       "ClosedDate      1208257\n",
       "Score                 0\n",
       "Title                 0\n",
       "Body                  0\n",
       "dtype: int64"
      ]
     },
     "execution_count": 8,
     "metadata": {},
     "output_type": "execute_result"
    }
   ],
   "source": [
    "#Creating a copy of original dataset\n",
    "question= q.copy()\n",
    "\n",
    "#To find the number of missing values in the question dataset\n",
    "question.isnull().sum()"
   ]
  },
  {
   "cell_type": "markdown",
   "metadata": {
    "id": "FACLZExZ6QUH"
   },
   "source": [
    "There is two columns with null values viz. **OwnerUserId** and **ClosedDate**.\n",
    "According to the Data dictionary **OwnerUserId** is the user who asked the question, so the **nan values** are those questions posted by anonymous user or a guest user of stack overflow. \n",
    "So that null value cannot be dropped or ignored. It is part of the analysis."
   ]
  },
  {
   "cell_type": "code",
   "execution_count": 9,
   "metadata": {
    "id": "Ra1fosGubGAS"
   },
   "outputs": [],
   "source": [
    "#Replacing NaN value withb zero to avoid nan value treatment\n",
    "question.OwnerUserId=question.OwnerUserId.fillna(0)"
   ]
  },
  {
   "cell_type": "code",
   "execution_count": 10,
   "metadata": {
    "colab": {
     "base_uri": "https://localhost:8080/"
    },
    "id": "52BqdC6-bfyK",
    "outputId": "74b821d4-919c-4ec9-ac9b-67abad91ce32"
   },
   "outputs": [
    {
     "data": {
      "text/plain": [
       "Id                    0\n",
       "OwnerUserId           0\n",
       "CreationDate          0\n",
       "ClosedDate      1208257\n",
       "Score                 0\n",
       "Title                 0\n",
       "Body                  0\n",
       "dtype: int64"
      ]
     },
     "execution_count": 10,
     "metadata": {},
     "output_type": "execute_result"
    }
   ],
   "source": [
    "question.isnull().sum()"
   ]
  },
  {
   "cell_type": "markdown",
   "metadata": {
    "id": "WApePFOZa1H2"
   },
   "source": [
    "The second column with null values the **ClosedDate** only means the date in which the **question** is closed or is tagged as **inactive**.So the **null values means the questions are still active** and open for answers."
   ]
  },
  {
   "cell_type": "markdown",
   "metadata": {
    "id": "9CHAJEIDMeaA"
   },
   "source": [
    "\n",
    "# 2.  Handling Duplicate values\n",
    "\n",
    "Same questions will be posted multiple times by different or same person.\n",
    "\n"
   ]
  },
  {
   "cell_type": "code",
   "execution_count": 11,
   "metadata": {
    "colab": {
     "base_uri": "https://localhost:8080/"
    },
    "id": "aes6mWzINehf",
    "outputId": "860de1f2-2459-4988-acdb-3295c8018f3e"
   },
   "outputs": [
    {
     "data": {
      "text/plain": [
       "0"
      ]
     },
     "execution_count": 11,
     "metadata": {},
     "output_type": "execute_result"
    }
   ],
   "source": [
    "#Finding the number of duplicate questions\n",
    "question.duplicated().sum()"
   ]
  },
  {
   "cell_type": "code",
   "execution_count": 12,
   "metadata": {
    "colab": {
     "base_uri": "https://localhost:8080/"
    },
    "id": "sfY3DU-nZl2Q",
    "outputId": "8917fa90-420b-4142-8e02-1fbd4f690c83"
   },
   "outputs": [
    {
     "data": {
      "text/plain": [
       "(1264216, 7)"
      ]
     },
     "execution_count": 12,
     "metadata": {},
     "output_type": "execute_result"
    }
   ],
   "source": [
    "question.shape"
   ]
  },
  {
   "cell_type": "markdown",
   "metadata": {
    "id": "Zu99T5H4U8yj"
   },
   "source": [
    "# 3. Handling Outliers\n",
    "Only numerical value in this datset is of the scores given to the questiosn posted"
   ]
  },
  {
   "cell_type": "code",
   "execution_count": 13,
   "metadata": {
    "colab": {
     "base_uri": "https://localhost:8080/",
     "height": 265
    },
    "id": "27kOWUMwVB-t",
    "outputId": "04eecaaf-e625-4abd-e836-65895f91f17f"
   },
   "outputs": [
    {
     "data": {
      "image/png": "[encoded data removed]",
      "text/plain": [
       "<Figure size 432x288 with 1 Axes>"
      ]
     },
     "metadata": {
      "needs_background": "light"
     },
     "output_type": "display_data"
    }
   ],
   "source": [
    "#Plotting boxplot to detect outliers\n",
    "question['Score'].plot(kind='box')\n",
    "plt.show()"
   ]
  },
  {
   "cell_type": "code",
   "execution_count": 14,
   "metadata": {
    "id": "67arpCRsVxld"
   },
   "outputs": [],
   "source": [
    "#Removing the oulier\n",
    "question= question[~(question['Score'] > 1250)]"
   ]
  },
  {
   "cell_type": "code",
   "execution_count": 15,
   "metadata": {
    "colab": {
     "base_uri": "https://localhost:8080/"
    },
    "id": "ngtSDSp6WaOo",
    "outputId": "7bc8fc23-4016-46f0-9428-b75b17125b2b"
   },
   "outputs": [
    {
     "data": {
      "text/plain": [
       "(1264198, 7)"
      ]
     },
     "execution_count": 15,
     "metadata": {},
     "output_type": "execute_result"
    }
   ],
   "source": [
    "question.shape"
   ]
  },
  {
   "cell_type": "code",
   "execution_count": 16,
   "metadata": {
    "colab": {
     "base_uri": "https://localhost:8080/",
     "height": 268
    },
    "id": "M5MgERUXWezn",
    "outputId": "d5b431bd-f822-49db-a7fb-0fcc90f31f52"
   },
   "outputs": [
    {
     "data": {
      "image/png": "[encoded data removed]",
      "text/plain": [
       "<Figure size 432x288 with 1 Axes>"
      ]
     },
     "metadata": {
      "needs_background": "light"
     },
     "output_type": "display_data"
    }
   ],
   "source": [
    "question.Score.plot(kind='box')\n",
    "plt.show()"
   ]
  },
  {
   "cell_type": "markdown",
   "metadata": {
    "id": "tCIDATCNRgq7"
   },
   "source": [
    "# 4. Formatting columns\n",
    "\n"
   ]
  },
  {
   "cell_type": "code",
   "execution_count": 17,
   "metadata": {
    "id": "9ryzCRsyUrVQ"
   },
   "outputs": [],
   "source": [
    "#Changing the format of columns containing date and time \n",
    "question['CreationDate']=pd.to_datetime(question.CreationDate)\n",
    "question['ClosedDate']=pd.to_datetime(question.ClosedDate)"
   ]
  },
  {
   "cell_type": "code",
   "execution_count": 18,
   "metadata": {
    "id": "Ko7jtbPPXUXI"
   },
   "outputs": [],
   "source": [
    "question=question.reset_index(drop=True)"
   ]
  },
  {
   "cell_type": "markdown",
   "metadata": {
    "id": "y2XoATOSgl4f"
   },
   "source": [
    "# **Answers Dataset**"
   ]
  },
  {
   "cell_type": "code",
   "execution_count": 19,
   "metadata": {
    "colab": {
     "base_uri": "https://localhost:8080/",
     "height": 202
    },
    "id": "8d0ymmhIgrUE",
    "outputId": "df622c52-8844-430a-c332-fca3c0785471"
   },
   "outputs": [
    {
     "data": {
      "text/html": [
       "<div>\n",
       "<style scoped>\n",
       "    .dataframe tbody tr th:only-of-type {\n",
       "        vertical-align: middle;\n",
       "    }\n",
       "\n",
       "    .dataframe tbody tr th {\n",
       "        vertical-align: top;\n",
       "    }\n",
       "\n",
       "    .dataframe thead th {\n",
       "        text-align: right;\n",
       "    }\n",
       "</style>\n",
       "<table border=\"1\" class=\"dataframe\">\n",
       "  <thead>\n",
       "    <tr style=\"text-align: right;\">\n",
       "      <th></th>\n",
       "      <th>Id</th>\n",
       "      <th>OwnerUserId</th>\n",
       "      <th>CreationDate</th>\n",
       "      <th>ParentId</th>\n",
       "      <th>Score</th>\n",
       "      <th>Body</th>\n",
       "    </tr>\n",
       "  </thead>\n",
       "  <tbody>\n",
       "    <tr>\n",
       "      <th>0</th>\n",
       "      <td>92</td>\n",
       "      <td>61.0</td>\n",
       "      <td>2008-08-01T14:45:37Z</td>\n",
       "      <td>90</td>\n",
       "      <td>13</td>\n",
       "      <td>&lt;p&gt;&lt;a href=\"http://svnbook.red-bean.com/\"&gt;Vers...</td>\n",
       "    </tr>\n",
       "    <tr>\n",
       "      <th>1</th>\n",
       "      <td>124</td>\n",
       "      <td>26.0</td>\n",
       "      <td>2008-08-01T16:09:47Z</td>\n",
       "      <td>80</td>\n",
       "      <td>12</td>\n",
       "      <td>&lt;p&gt;I wound up using this. It is a kind of a ha...</td>\n",
       "    </tr>\n",
       "    <tr>\n",
       "      <th>2</th>\n",
       "      <td>199</td>\n",
       "      <td>50.0</td>\n",
       "      <td>2008-08-01T19:36:46Z</td>\n",
       "      <td>180</td>\n",
       "      <td>1</td>\n",
       "      <td>&lt;p&gt;I've read somewhere the human eye can't dis...</td>\n",
       "    </tr>\n",
       "    <tr>\n",
       "      <th>3</th>\n",
       "      <td>269</td>\n",
       "      <td>91.0</td>\n",
       "      <td>2008-08-01T23:49:57Z</td>\n",
       "      <td>260</td>\n",
       "      <td>4</td>\n",
       "      <td>&lt;p&gt;Yes, I thought about that, but I soon figur...</td>\n",
       "    </tr>\n",
       "    <tr>\n",
       "      <th>4</th>\n",
       "      <td>307</td>\n",
       "      <td>49.0</td>\n",
       "      <td>2008-08-02T01:49:46Z</td>\n",
       "      <td>260</td>\n",
       "      <td>28</td>\n",
       "      <td>&lt;p&gt;&lt;a href=\"http://www.codeproject.com/Article...</td>\n",
       "    </tr>\n",
       "  </tbody>\n",
       "</table>\n",
       "</div>"
      ],
      "text/plain": [
       "    Id  OwnerUserId          CreationDate  ParentId  Score  \\\n",
       "0   92         61.0  2008-08-01T14:45:37Z        90     13   \n",
       "1  124         26.0  2008-08-01T16:09:47Z        80     12   \n",
       "2  199         50.0  2008-08-01T19:36:46Z       180      1   \n",
       "3  269         91.0  2008-08-01T23:49:57Z       260      4   \n",
       "4  307         49.0  2008-08-02T01:49:46Z       260     28   \n",
       "\n",
       "                                                Body  \n",
       "0  <p><a href=\"http://svnbook.red-bean.com/\">Vers...  \n",
       "1  <p>I wound up using this. It is a kind of a ha...  \n",
       "2  <p>I've read somewhere the human eye can't dis...  \n",
       "3  <p>Yes, I thought about that, but I soon figur...  \n",
       "4  <p><a href=\"http://www.codeproject.com/Article...  "
      ]
     },
     "execution_count": 19,
     "metadata": {},
     "output_type": "execute_result"
    }
   ],
   "source": [
    "#Viewing the first 5 rows of the answers dataset\n",
    "a.head()\n"
   ]
  },
  {
   "cell_type": "code",
   "execution_count": 20,
   "metadata": {
    "colab": {
     "base_uri": "https://localhost:8080/"
    },
    "id": "-Rzw5FmyiKiF",
    "outputId": "a9bc5c78-d35a-4098-f8bb-1ffd928e0b31"
   },
   "outputs": [
    {
     "name": "stdout",
     "output_type": "stream",
     "text": [
      "<class 'pandas.core.frame.DataFrame'>\n",
      "RangeIndex: 2014516 entries, 0 to 2014515\n",
      "Data columns (total 6 columns):\n",
      " #   Column        Dtype  \n",
      "---  ------        -----  \n",
      " 0   Id            int64  \n",
      " 1   OwnerUserId   float64\n",
      " 2   CreationDate  object \n",
      " 3   ParentId      int64  \n",
      " 4   Score         int64  \n",
      " 5   Body          object \n",
      "dtypes: float64(1), int64(3), object(2)\n",
      "memory usage: 92.2+ MB\n"
     ]
    }
   ],
   "source": [
    "a.info()"
   ]
  },
  {
   "cell_type": "markdown",
   "metadata": {
    "id": "hPeYrusmitpH"
   },
   "source": [
    "# **Data Wrangling**\n",
    "# 1. Handling Missing Values"
   ]
  },
  {
   "cell_type": "code",
   "execution_count": 21,
   "metadata": {
    "colab": {
     "base_uri": "https://localhost:8080/"
    },
    "id": "uruOPeqti4Wl",
    "outputId": "1d53673a-1be0-479b-88c1-daaadc3d88b5"
   },
   "outputs": [
    {
     "data": {
      "text/plain": [
       "Id                  0\n",
       "OwnerUserId     13200\n",
       "CreationDate        0\n",
       "ParentId            0\n",
       "Score               0\n",
       "Body                0\n",
       "dtype: int64"
      ]
     },
     "execution_count": 21,
     "metadata": {},
     "output_type": "execute_result"
    }
   ],
   "source": [
    "#Creating a copy of original dataset\n",
    "answer=a.copy()\n",
    "\n",
    "#To find the number of missing values in the answer dataset\n",
    "answer.isnull().sum()"
   ]
  },
  {
   "cell_type": "markdown",
   "metadata": {
    "id": "6aeFPBFyk0cN"
   },
   "source": [
    "Similar to the questions dataset the column with **null value is OwnerUserId** According to the Data dictionary OwnerUserId is the user who answered the question, so the **nan values** are those who posted the answer as **anonymous user or a guest user** of stack overflow. So that null value cannot be dropped or ignored. It is part of the analysis."
   ]
  },
  {
   "cell_type": "code",
   "execution_count": 22,
   "metadata": {
    "id": "jii3CtA1jqNG"
   },
   "outputs": [],
   "source": [
    "#Replacing NaN value withb zero to avoid nan value treatment\n",
    "answer.OwnerUserId=answer.OwnerUserId.fillna(0)"
   ]
  },
  {
   "cell_type": "code",
   "execution_count": 23,
   "metadata": {
    "colab": {
     "base_uri": "https://localhost:8080/"
    },
    "id": "MMz9_Dw8lc7Q",
    "outputId": "97df6c98-f227-4d7b-bf32-baad257d2e48"
   },
   "outputs": [
    {
     "data": {
      "text/plain": [
       "Id              0\n",
       "OwnerUserId     0\n",
       "CreationDate    0\n",
       "ParentId        0\n",
       "Score           0\n",
       "Body            0\n",
       "dtype: int64"
      ]
     },
     "execution_count": 23,
     "metadata": {},
     "output_type": "execute_result"
    }
   ],
   "source": [
    "#Checking for null values in dataset\n",
    "answer.isnull().sum()"
   ]
  },
  {
   "cell_type": "markdown",
   "metadata": {
    "id": "etB2D6Imp1Fb"
   },
   "source": [
    "# 2.  Handling Duplicate values\n",
    "\n",
    "Similar answers will be posted multiple times by different or same person."
   ]
  },
  {
   "cell_type": "code",
   "execution_count": 24,
   "metadata": {
    "colab": {
     "base_uri": "https://localhost:8080/"
    },
    "id": "eiGsVT-Wp8Pr",
    "outputId": "2d1c3fdb-dbc9-430f-cded-83a54aac5b29"
   },
   "outputs": [
    {
     "data": {
      "text/plain": [
       "0"
      ]
     },
     "execution_count": 24,
     "metadata": {},
     "output_type": "execute_result"
    }
   ],
   "source": [
    "#Finding the mumber of duplicate answers\n",
    "answer.duplicated().sum()"
   ]
  },
  {
   "cell_type": "code",
   "execution_count": 25,
   "metadata": {
    "colab": {
     "base_uri": "https://localhost:8080/"
    },
    "id": "BRlkjfaiq6Ch",
    "outputId": "72a75e7f-5a73-40a5-bd15-5ee822fba821"
   },
   "outputs": [
    {
     "data": {
      "text/plain": [
       "(2014516, 6)"
      ]
     },
     "execution_count": 25,
     "metadata": {},
     "output_type": "execute_result"
    }
   ],
   "source": [
    "answer.shape"
   ]
  },
  {
   "cell_type": "markdown",
   "metadata": {
    "id": "h8wZNzviYCjK"
   },
   "source": [
    "# 3. Handling Outliers\n",
    "The only nunerical value in this datset is the scores given to the answers"
   ]
  },
  {
   "cell_type": "code",
   "execution_count": 26,
   "metadata": {
    "colab": {
     "base_uri": "https://localhost:8080/",
     "height": 269
    },
    "id": "-3VUXz30YRRM",
    "outputId": "556ff9c2-5678-446c-c0ab-6b5336390d7a"
   },
   "outputs": [
    {
     "data": {
      "image/png": "[encoded data removed]",
      "text/plain": [
       "<Figure size 432x288 with 1 Axes>"
      ]
     },
     "metadata": {
      "needs_background": "light"
     },
     "output_type": "display_data"
    }
   ],
   "source": [
    "#Plotting boxplot to detect outliers\n",
    "answer['Score'].plot(kind='box')\n",
    "plt.show()"
   ]
  },
  {
   "cell_type": "code",
   "execution_count": 27,
   "metadata": {
    "id": "KlO1mIs6Y1p_"
   },
   "outputs": [],
   "source": [
    "#Removing the ouliers\n",
    "answer= answer[~(answer['Score']> 1750)]"
   ]
  },
  {
   "cell_type": "code",
   "execution_count": 28,
   "metadata": {
    "colab": {
     "base_uri": "https://localhost:8080/"
    },
    "id": "-jhFSxXkZAZc",
    "outputId": "ccbcae7b-eeea-41e8-a6fa-0f7bc90aa916"
   },
   "outputs": [
    {
     "data": {
      "text/plain": [
       "(2014497, 6)"
      ]
     },
     "execution_count": 28,
     "metadata": {},
     "output_type": "execute_result"
    }
   ],
   "source": [
    "answer.shape"
   ]
  },
  {
   "cell_type": "code",
   "execution_count": 29,
   "metadata": {
    "colab": {
     "base_uri": "https://localhost:8080/",
     "height": 265
    },
    "id": "R1ST6VJ-ZFxj",
    "outputId": "576d2b38-bc42-4b11-b2f3-ce8d3d106b61"
   },
   "outputs": [
    {
     "data": {
      "image/png": "[encoded data removed]",
      "text/plain": [
       "<Figure size 432x288 with 1 Axes>"
      ]
     },
     "metadata": {
      "needs_background": "light"
     },
     "output_type": "display_data"
    }
   ],
   "source": [
    "answer['Score'].plot(kind='box')\n",
    "plt.show()"
   ]
  },
  {
   "cell_type": "markdown",
   "metadata": {
    "id": "c9ef5YthrK26"
   },
   "source": [
    "# 4. Formatting columns"
   ]
  },
  {
   "cell_type": "code",
   "execution_count": 30,
   "metadata": {
    "id": "TCUUN5JqrMro"
   },
   "outputs": [],
   "source": [
    "#Changing the format of columns containing date and time \n",
    "answer['CreationDate']=pd.to_datetime(answer.CreationDate)"
   ]
  },
  {
   "cell_type": "code",
   "execution_count": 31,
   "metadata": {
    "colab": {
     "base_uri": "https://localhost:8080/"
    },
    "id": "4dPe6GrlrtfU",
    "outputId": "57ee9396-9c02-45e3-cf79-56c12c9499cd"
   },
   "outputs": [
    {
     "name": "stdout",
     "output_type": "stream",
     "text": [
      "<class 'pandas.core.frame.DataFrame'>\n",
      "Int64Index: 2014497 entries, 0 to 2014515\n",
      "Data columns (total 6 columns):\n",
      " #   Column        Dtype              \n",
      "---  ------        -----              \n",
      " 0   Id            int64              \n",
      " 1   OwnerUserId   float64            \n",
      " 2   CreationDate  datetime64[ns, UTC]\n",
      " 3   ParentId      int64              \n",
      " 4   Score         int64              \n",
      " 5   Body          object             \n",
      "dtypes: datetime64[ns, UTC](1), float64(1), int64(3), object(1)\n",
      "memory usage: 107.6+ MB\n"
     ]
    }
   ],
   "source": [
    "answer.info()"
   ]
  },
  {
   "cell_type": "code",
   "execution_count": 32,
   "metadata": {
    "colab": {
     "base_uri": "https://localhost:8080/",
     "height": 202
    },
    "id": "dkHrvqsEsfF1",
    "outputId": "8e9787a8-2285-499d-da4e-0ae89e3ff4f0"
   },
   "outputs": [
    {
     "data": {
      "text/html": [
       "<div>\n",
       "<style scoped>\n",
       "    .dataframe tbody tr th:only-of-type {\n",
       "        vertical-align: middle;\n",
       "    }\n",
       "\n",
       "    .dataframe tbody tr th {\n",
       "        vertical-align: top;\n",
       "    }\n",
       "\n",
       "    .dataframe thead th {\n",
       "        text-align: right;\n",
       "    }\n",
       "</style>\n",
       "<table border=\"1\" class=\"dataframe\">\n",
       "  <thead>\n",
       "    <tr style=\"text-align: right;\">\n",
       "      <th></th>\n",
       "      <th>Id</th>\n",
       "      <th>OwnerUserId</th>\n",
       "      <th>CreationDate</th>\n",
       "      <th>ParentId</th>\n",
       "      <th>Score</th>\n",
       "      <th>Body</th>\n",
       "    </tr>\n",
       "  </thead>\n",
       "  <tbody>\n",
       "    <tr>\n",
       "      <th>0</th>\n",
       "      <td>92</td>\n",
       "      <td>61.0</td>\n",
       "      <td>2008-08-01 14:45:37+00:00</td>\n",
       "      <td>90</td>\n",
       "      <td>13</td>\n",
       "      <td>&lt;p&gt;&lt;a href=\"http://svnbook.red-bean.com/\"&gt;Vers...</td>\n",
       "    </tr>\n",
       "    <tr>\n",
       "      <th>1</th>\n",
       "      <td>124</td>\n",
       "      <td>26.0</td>\n",
       "      <td>2008-08-01 16:09:47+00:00</td>\n",
       "      <td>80</td>\n",
       "      <td>12</td>\n",
       "      <td>&lt;p&gt;I wound up using this. It is a kind of a ha...</td>\n",
       "    </tr>\n",
       "    <tr>\n",
       "      <th>2</th>\n",
       "      <td>199</td>\n",
       "      <td>50.0</td>\n",
       "      <td>2008-08-01 19:36:46+00:00</td>\n",
       "      <td>180</td>\n",
       "      <td>1</td>\n",
       "      <td>&lt;p&gt;I've read somewhere the human eye can't dis...</td>\n",
       "    </tr>\n",
       "    <tr>\n",
       "      <th>3</th>\n",
       "      <td>269</td>\n",
       "      <td>91.0</td>\n",
       "      <td>2008-08-01 23:49:57+00:00</td>\n",
       "      <td>260</td>\n",
       "      <td>4</td>\n",
       "      <td>&lt;p&gt;Yes, I thought about that, but I soon figur...</td>\n",
       "    </tr>\n",
       "    <tr>\n",
       "      <th>4</th>\n",
       "      <td>307</td>\n",
       "      <td>49.0</td>\n",
       "      <td>2008-08-02 01:49:46+00:00</td>\n",
       "      <td>260</td>\n",
       "      <td>28</td>\n",
       "      <td>&lt;p&gt;&lt;a href=\"http://www.codeproject.com/Article...</td>\n",
       "    </tr>\n",
       "  </tbody>\n",
       "</table>\n",
       "</div>"
      ],
      "text/plain": [
       "    Id  OwnerUserId              CreationDate  ParentId  Score  \\\n",
       "0   92         61.0 2008-08-01 14:45:37+00:00        90     13   \n",
       "1  124         26.0 2008-08-01 16:09:47+00:00        80     12   \n",
       "2  199         50.0 2008-08-01 19:36:46+00:00       180      1   \n",
       "3  269         91.0 2008-08-01 23:49:57+00:00       260      4   \n",
       "4  307         49.0 2008-08-02 01:49:46+00:00       260     28   \n",
       "\n",
       "                                                Body  \n",
       "0  <p><a href=\"http://svnbook.red-bean.com/\">Vers...  \n",
       "1  <p>I wound up using this. It is a kind of a ha...  \n",
       "2  <p>I've read somewhere the human eye can't dis...  \n",
       "3  <p>Yes, I thought about that, but I soon figur...  \n",
       "4  <p><a href=\"http://www.codeproject.com/Article...  "
      ]
     },
     "execution_count": 32,
     "metadata": {},
     "output_type": "execute_result"
    }
   ],
   "source": [
    "answer.head()"
   ]
  },
  {
   "cell_type": "code",
   "execution_count": 33,
   "metadata": {
    "colab": {
     "base_uri": "https://localhost:8080/",
     "height": 202
    },
    "id": "z6ubIvUwtfVO",
    "outputId": "8c16f4e0-1ecc-474c-f47d-a0d5dd00d2ed"
   },
   "outputs": [
    {
     "data": {
      "text/html": [
       "<div>\n",
       "<style scoped>\n",
       "    .dataframe tbody tr th:only-of-type {\n",
       "        vertical-align: middle;\n",
       "    }\n",
       "\n",
       "    .dataframe tbody tr th {\n",
       "        vertical-align: top;\n",
       "    }\n",
       "\n",
       "    .dataframe thead th {\n",
       "        text-align: right;\n",
       "    }\n",
       "</style>\n",
       "<table border=\"1\" class=\"dataframe\">\n",
       "  <thead>\n",
       "    <tr style=\"text-align: right;\">\n",
       "      <th></th>\n",
       "      <th>Id</th>\n",
       "      <th>OwnerUserId</th>\n",
       "      <th>CreationDate</th>\n",
       "      <th>ParentId</th>\n",
       "      <th>Score</th>\n",
       "      <th>Body</th>\n",
       "    </tr>\n",
       "  </thead>\n",
       "  <tbody>\n",
       "    <tr>\n",
       "      <th>0</th>\n",
       "      <td>92</td>\n",
       "      <td>61.0</td>\n",
       "      <td>2008-08-01 14:45:37+00:00</td>\n",
       "      <td>90</td>\n",
       "      <td>13</td>\n",
       "      <td>&lt;p&gt;&lt;a href=\"http://svnbook.red-bean.com/\"&gt;Vers...</td>\n",
       "    </tr>\n",
       "    <tr>\n",
       "      <th>1</th>\n",
       "      <td>124</td>\n",
       "      <td>26.0</td>\n",
       "      <td>2008-08-01 16:09:47+00:00</td>\n",
       "      <td>80</td>\n",
       "      <td>12</td>\n",
       "      <td>&lt;p&gt;I wound up using this. It is a kind of a ha...</td>\n",
       "    </tr>\n",
       "    <tr>\n",
       "      <th>2</th>\n",
       "      <td>199</td>\n",
       "      <td>50.0</td>\n",
       "      <td>2008-08-01 19:36:46+00:00</td>\n",
       "      <td>180</td>\n",
       "      <td>1</td>\n",
       "      <td>&lt;p&gt;I've read somewhere the human eye can't dis...</td>\n",
       "    </tr>\n",
       "    <tr>\n",
       "      <th>3</th>\n",
       "      <td>269</td>\n",
       "      <td>91.0</td>\n",
       "      <td>2008-08-01 23:49:57+00:00</td>\n",
       "      <td>260</td>\n",
       "      <td>4</td>\n",
       "      <td>&lt;p&gt;Yes, I thought about that, but I soon figur...</td>\n",
       "    </tr>\n",
       "    <tr>\n",
       "      <th>4</th>\n",
       "      <td>307</td>\n",
       "      <td>49.0</td>\n",
       "      <td>2008-08-02 01:49:46+00:00</td>\n",
       "      <td>260</td>\n",
       "      <td>28</td>\n",
       "      <td>&lt;p&gt;&lt;a href=\"http://www.codeproject.com/Article...</td>\n",
       "    </tr>\n",
       "  </tbody>\n",
       "</table>\n",
       "</div>"
      ],
      "text/plain": [
       "    Id  OwnerUserId              CreationDate  ParentId  Score  \\\n",
       "0   92         61.0 2008-08-01 14:45:37+00:00        90     13   \n",
       "1  124         26.0 2008-08-01 16:09:47+00:00        80     12   \n",
       "2  199         50.0 2008-08-01 19:36:46+00:00       180      1   \n",
       "3  269         91.0 2008-08-01 23:49:57+00:00       260      4   \n",
       "4  307         49.0 2008-08-02 01:49:46+00:00       260     28   \n",
       "\n",
       "                                                Body  \n",
       "0  <p><a href=\"http://svnbook.red-bean.com/\">Vers...  \n",
       "1  <p>I wound up using this. It is a kind of a ha...  \n",
       "2  <p>I've read somewhere the human eye can't dis...  \n",
       "3  <p>Yes, I thought about that, but I soon figur...  \n",
       "4  <p><a href=\"http://www.codeproject.com/Article...  "
      ]
     },
     "execution_count": 33,
     "metadata": {},
     "output_type": "execute_result"
    }
   ],
   "source": [
    "answer=answer.reset_index(drop=True)\n",
    "answer.head()"
   ]
  },
  {
   "cell_type": "markdown",
   "metadata": {
    "id": "l4TV7pULzx3P"
   },
   "source": [
    "# **Tags Dataset**"
   ]
  },
  {
   "cell_type": "code",
   "execution_count": 34,
   "metadata": {
    "colab": {
     "base_uri": "https://localhost:8080/",
     "height": 202
    },
    "id": "MvyyE2NEz5Nj",
    "outputId": "2ae9817e-f5fe-40db-e209-3b59aa9d5b81"
   },
   "outputs": [
    {
     "data": {
      "text/html": [
       "<div>\n",
       "<style scoped>\n",
       "    .dataframe tbody tr th:only-of-type {\n",
       "        vertical-align: middle;\n",
       "    }\n",
       "\n",
       "    .dataframe tbody tr th {\n",
       "        vertical-align: top;\n",
       "    }\n",
       "\n",
       "    .dataframe thead th {\n",
       "        text-align: right;\n",
       "    }\n",
       "</style>\n",
       "<table border=\"1\" class=\"dataframe\">\n",
       "  <thead>\n",
       "    <tr style=\"text-align: right;\">\n",
       "      <th></th>\n",
       "      <th>Id</th>\n",
       "      <th>Tag</th>\n",
       "    </tr>\n",
       "  </thead>\n",
       "  <tbody>\n",
       "    <tr>\n",
       "      <th>0</th>\n",
       "      <td>80</td>\n",
       "      <td>flex</td>\n",
       "    </tr>\n",
       "    <tr>\n",
       "      <th>1</th>\n",
       "      <td>80</td>\n",
       "      <td>actionscript-3</td>\n",
       "    </tr>\n",
       "    <tr>\n",
       "      <th>2</th>\n",
       "      <td>80</td>\n",
       "      <td>air</td>\n",
       "    </tr>\n",
       "    <tr>\n",
       "      <th>3</th>\n",
       "      <td>90</td>\n",
       "      <td>svn</td>\n",
       "    </tr>\n",
       "    <tr>\n",
       "      <th>4</th>\n",
       "      <td>90</td>\n",
       "      <td>tortoisesvn</td>\n",
       "    </tr>\n",
       "  </tbody>\n",
       "</table>\n",
       "</div>"
      ],
      "text/plain": [
       "   Id             Tag\n",
       "0  80            flex\n",
       "1  80  actionscript-3\n",
       "2  80             air\n",
       "3  90             svn\n",
       "4  90     tortoisesvn"
      ]
     },
     "execution_count": 34,
     "metadata": {},
     "output_type": "execute_result"
    }
   ],
   "source": [
    "#Viewing the first 5 rows of the tags dataset\n",
    "t.head()"
   ]
  },
  {
   "cell_type": "code",
   "execution_count": 35,
   "metadata": {
    "colab": {
     "base_uri": "https://localhost:8080/"
    },
    "id": "JC7ioxzz0DM2",
    "outputId": "a229b05b-b599-4aa9-eff8-7546a6024c11"
   },
   "outputs": [
    {
     "name": "stdout",
     "output_type": "stream",
     "text": [
      "<class 'pandas.core.frame.DataFrame'>\n",
      "RangeIndex: 3750994 entries, 0 to 3750993\n",
      "Data columns (total 2 columns):\n",
      " #   Column  Dtype \n",
      "---  ------  ----- \n",
      " 0   Id      int64 \n",
      " 1   Tag     object\n",
      "dtypes: int64(1), object(1)\n",
      "memory usage: 57.2+ MB\n"
     ]
    }
   ],
   "source": [
    "t.info()"
   ]
  },
  {
   "cell_type": "markdown",
   "metadata": {
    "id": "foUOHaHW0Kze"
   },
   "source": [
    "# **Data Wrangling**\n",
    "# 1. Handling Missing Values"
   ]
  },
  {
   "cell_type": "code",
   "execution_count": 36,
   "metadata": {
    "colab": {
     "base_uri": "https://localhost:8080/"
    },
    "id": "wLZxIV_O0PKy",
    "outputId": "d0444465-2188-46ef-a599-86acbb38792d"
   },
   "outputs": [
    {
     "data": {
      "text/plain": [
       "Id        0\n",
       "Tag    1113\n",
       "dtype: int64"
      ]
     },
     "execution_count": 36,
     "metadata": {},
     "output_type": "execute_result"
    }
   ],
   "source": [
    "#Creating a copy of original dataset\n",
    "tag=t.copy()\n",
    "\n",
    "#To find the number of missing values in the dataset\n",
    "tag.isnull().sum()"
   ]
  },
  {
   "cell_type": "code",
   "execution_count": 37,
   "metadata": {
    "id": "2aJAHJhD0dJE"
   },
   "outputs": [],
   "source": [
    "#Replacing NaN values in 'Tag' with 'Unknown'\n",
    "tag['Tag'].fillna('Unknown', inplace=True)"
   ]
  },
  {
   "cell_type": "code",
   "execution_count": 38,
   "metadata": {
    "colab": {
     "base_uri": "https://localhost:8080/"
    },
    "id": "TsBZaVOY1e0I",
    "outputId": "3e08379f-64fb-4f2a-e551-9da6eb9f97fa"
   },
   "outputs": [
    {
     "data": {
      "text/plain": [
       "Id     0\n",
       "Tag    0\n",
       "dtype: int64"
      ]
     },
     "execution_count": 38,
     "metadata": {},
     "output_type": "execute_result"
    }
   ],
   "source": [
    "#Checking for null values in dataset\n",
    "tag.isnull().sum()"
   ]
  },
  {
   "cell_type": "code",
   "execution_count": 39,
   "metadata": {
    "colab": {
     "base_uri": "https://localhost:8080/"
    },
    "id": "vOu4pZucO6aZ",
    "outputId": "0f4c5265-fbe4-48b0-988d-1c23f2c228d9"
   },
   "outputs": [
    {
     "data": {
      "text/plain": [
       "(3750994, 2)"
      ]
     },
     "execution_count": 39,
     "metadata": {},
     "output_type": "execute_result"
    }
   ],
   "source": [
    "tag.shape"
   ]
  },
  {
   "cell_type": "markdown",
   "metadata": {
    "id": "34gEVBlJOWjb"
   },
   "source": [
    "# 2. Handling Duplicates"
   ]
  },
  {
   "cell_type": "code",
   "execution_count": 40,
   "metadata": {
    "colab": {
     "base_uri": "https://localhost:8080/"
    },
    "id": "qeYxBfmTOhVW",
    "outputId": "3ba6ac32-0913-4ba0-e2da-8b4c99d9ed3e"
   },
   "outputs": [
    {
     "data": {
      "text/plain": [
       "1"
      ]
     },
     "execution_count": 40,
     "metadata": {},
     "output_type": "execute_result"
    }
   ],
   "source": [
    "#Checking for duplicates\n",
    "tag.duplicated().sum()"
   ]
  },
  {
   "cell_type": "code",
   "execution_count": 41,
   "metadata": {
    "id": "qptBzY2lOmyG"
   },
   "outputs": [],
   "source": [
    "#droping the duplicates\n",
    "tag=tag.drop_duplicates()"
   ]
  },
  {
   "cell_type": "code",
   "execution_count": 42,
   "metadata": {
    "colab": {
     "base_uri": "https://localhost:8080/"
    },
    "id": "Q3K7rWddPEVC",
    "outputId": "e6dd6e78-a9c8-466e-9597-2f800060c16c"
   },
   "outputs": [
    {
     "data": {
      "text/plain": [
       "(3750993, 2)"
      ]
     },
     "execution_count": 42,
     "metadata": {},
     "output_type": "execute_result"
    }
   ],
   "source": [
    "tag.shape"
   ]
  },
  {
   "cell_type": "markdown",
   "metadata": {
    "id": "V6eVeLaQPyh4"
   },
   "source": [
    "# **Users Dataset**"
   ]
  },
  {
   "cell_type": "code",
   "execution_count": 43,
   "metadata": {
    "colab": {
     "base_uri": "https://localhost:8080/",
     "height": 202
    },
    "id": "opTb-Wkf-ueg",
    "outputId": "e87ed4ab-cd87-4a8d-f6dd-e724624189bc"
   },
   "outputs": [
    {
     "data": {
      "text/html": [
       "<div>\n",
       "<style scoped>\n",
       "    .dataframe tbody tr th:only-of-type {\n",
       "        vertical-align: middle;\n",
       "    }\n",
       "\n",
       "    .dataframe tbody tr th {\n",
       "        vertical-align: top;\n",
       "    }\n",
       "\n",
       "    .dataframe thead th {\n",
       "        text-align: right;\n",
       "    }\n",
       "</style>\n",
       "<table border=\"1\" class=\"dataframe\">\n",
       "  <thead>\n",
       "    <tr style=\"text-align: right;\">\n",
       "      <th></th>\n",
       "      <th>Unnamed: 0</th>\n",
       "      <th>id</th>\n",
       "      <th>display_name</th>\n",
       "      <th>creation_date</th>\n",
       "      <th>last_access_date</th>\n",
       "      <th>reputation</th>\n",
       "      <th>up_votes</th>\n",
       "      <th>down_votes</th>\n",
       "      <th>views</th>\n",
       "    </tr>\n",
       "  </thead>\n",
       "  <tbody>\n",
       "    <tr>\n",
       "      <th>0</th>\n",
       "      <td>0</td>\n",
       "      <td>26</td>\n",
       "      <td>Shawn</td>\n",
       "      <td>2008-08-01 12:18:14.52 UTC</td>\n",
       "      <td>2018-04-11 04:40:35.66 UTC</td>\n",
       "      <td>11820</td>\n",
       "      <td>565</td>\n",
       "      <td>67</td>\n",
       "      <td>3547</td>\n",
       "    </tr>\n",
       "    <tr>\n",
       "      <th>1</th>\n",
       "      <td>1</td>\n",
       "      <td>26</td>\n",
       "      <td>Shawn</td>\n",
       "      <td>2008-08-01 12:18:14.52 UTC</td>\n",
       "      <td>2018-04-11 04:40:35.66 UTC</td>\n",
       "      <td>11820</td>\n",
       "      <td>565</td>\n",
       "      <td>67</td>\n",
       "      <td>3547</td>\n",
       "    </tr>\n",
       "    <tr>\n",
       "      <th>2</th>\n",
       "      <td>2</td>\n",
       "      <td>26</td>\n",
       "      <td>Shawn</td>\n",
       "      <td>2008-08-01 12:18:14.52 UTC</td>\n",
       "      <td>2018-04-11 04:40:35.66 UTC</td>\n",
       "      <td>11820</td>\n",
       "      <td>565</td>\n",
       "      <td>67</td>\n",
       "      <td>3547</td>\n",
       "    </tr>\n",
       "    <tr>\n",
       "      <th>3</th>\n",
       "      <td>3</td>\n",
       "      <td>26</td>\n",
       "      <td>Shawn</td>\n",
       "      <td>2008-08-01 12:18:14.52 UTC</td>\n",
       "      <td>2018-04-11 04:40:35.66 UTC</td>\n",
       "      <td>11820</td>\n",
       "      <td>565</td>\n",
       "      <td>67</td>\n",
       "      <td>3547</td>\n",
       "    </tr>\n",
       "    <tr>\n",
       "      <th>4</th>\n",
       "      <td>4</td>\n",
       "      <td>26</td>\n",
       "      <td>Shawn</td>\n",
       "      <td>2008-08-01 12:18:14.52 UTC</td>\n",
       "      <td>2018-04-11 04:40:35.66 UTC</td>\n",
       "      <td>11820</td>\n",
       "      <td>565</td>\n",
       "      <td>67</td>\n",
       "      <td>3547</td>\n",
       "    </tr>\n",
       "  </tbody>\n",
       "</table>\n",
       "</div>"
      ],
      "text/plain": [
       "   Unnamed: 0  id display_name               creation_date  \\\n",
       "0           0  26        Shawn  2008-08-01 12:18:14.52 UTC   \n",
       "1           1  26        Shawn  2008-08-01 12:18:14.52 UTC   \n",
       "2           2  26        Shawn  2008-08-01 12:18:14.52 UTC   \n",
       "3           3  26        Shawn  2008-08-01 12:18:14.52 UTC   \n",
       "4           4  26        Shawn  2008-08-01 12:18:14.52 UTC   \n",
       "\n",
       "             last_access_date  reputation  up_votes  down_votes  views  \n",
       "0  2018-04-11 04:40:35.66 UTC       11820       565          67   3547  \n",
       "1  2018-04-11 04:40:35.66 UTC       11820       565          67   3547  \n",
       "2  2018-04-11 04:40:35.66 UTC       11820       565          67   3547  \n",
       "3  2018-04-11 04:40:35.66 UTC       11820       565          67   3547  \n",
       "4  2018-04-11 04:40:35.66 UTC       11820       565          67   3547  "
      ]
     },
     "execution_count": 43,
     "metadata": {},
     "output_type": "execute_result"
    }
   ],
   "source": [
    "#Viewing the first 5 rows of the users dataset\n",
    "u.head()"
   ]
  },
  {
   "cell_type": "code",
   "execution_count": 44,
   "metadata": {
    "id": "16ReQII9RF6F"
   },
   "outputs": [],
   "source": [
    "#Dropping the first column\n",
    "u.drop('Unnamed: 0', inplace=True, axis=1)"
   ]
  },
  {
   "cell_type": "code",
   "execution_count": 45,
   "metadata": {
    "colab": {
     "base_uri": "https://localhost:8080/",
     "height": 202
    },
    "id": "yZMsh_MjQIXj",
    "outputId": "9b8699c8-3458-45b6-d2fa-9c005df836cc"
   },
   "outputs": [
    {
     "data": {
      "text/html": [
       "<div>\n",
       "<style scoped>\n",
       "    .dataframe tbody tr th:only-of-type {\n",
       "        vertical-align: middle;\n",
       "    }\n",
       "\n",
       "    .dataframe tbody tr th {\n",
       "        vertical-align: top;\n",
       "    }\n",
       "\n",
       "    .dataframe thead th {\n",
       "        text-align: right;\n",
       "    }\n",
       "</style>\n",
       "<table border=\"1\" class=\"dataframe\">\n",
       "  <thead>\n",
       "    <tr style=\"text-align: right;\">\n",
       "      <th></th>\n",
       "      <th>id</th>\n",
       "      <th>display_name</th>\n",
       "      <th>creation_date</th>\n",
       "      <th>last_access_date</th>\n",
       "      <th>reputation</th>\n",
       "      <th>up_votes</th>\n",
       "      <th>down_votes</th>\n",
       "      <th>views</th>\n",
       "    </tr>\n",
       "  </thead>\n",
       "  <tbody>\n",
       "    <tr>\n",
       "      <th>0</th>\n",
       "      <td>26</td>\n",
       "      <td>Shawn</td>\n",
       "      <td>2008-08-01 12:18:14.52 UTC</td>\n",
       "      <td>2018-04-11 04:40:35.66 UTC</td>\n",
       "      <td>11820</td>\n",
       "      <td>565</td>\n",
       "      <td>67</td>\n",
       "      <td>3547</td>\n",
       "    </tr>\n",
       "    <tr>\n",
       "      <th>1</th>\n",
       "      <td>26</td>\n",
       "      <td>Shawn</td>\n",
       "      <td>2008-08-01 12:18:14.52 UTC</td>\n",
       "      <td>2018-04-11 04:40:35.66 UTC</td>\n",
       "      <td>11820</td>\n",
       "      <td>565</td>\n",
       "      <td>67</td>\n",
       "      <td>3547</td>\n",
       "    </tr>\n",
       "    <tr>\n",
       "      <th>2</th>\n",
       "      <td>26</td>\n",
       "      <td>Shawn</td>\n",
       "      <td>2008-08-01 12:18:14.52 UTC</td>\n",
       "      <td>2018-04-11 04:40:35.66 UTC</td>\n",
       "      <td>11820</td>\n",
       "      <td>565</td>\n",
       "      <td>67</td>\n",
       "      <td>3547</td>\n",
       "    </tr>\n",
       "    <tr>\n",
       "      <th>3</th>\n",
       "      <td>26</td>\n",
       "      <td>Shawn</td>\n",
       "      <td>2008-08-01 12:18:14.52 UTC</td>\n",
       "      <td>2018-04-11 04:40:35.66 UTC</td>\n",
       "      <td>11820</td>\n",
       "      <td>565</td>\n",
       "      <td>67</td>\n",
       "      <td>3547</td>\n",
       "    </tr>\n",
       "    <tr>\n",
       "      <th>4</th>\n",
       "      <td>26</td>\n",
       "      <td>Shawn</td>\n",
       "      <td>2008-08-01 12:18:14.52 UTC</td>\n",
       "      <td>2018-04-11 04:40:35.66 UTC</td>\n",
       "      <td>11820</td>\n",
       "      <td>565</td>\n",
       "      <td>67</td>\n",
       "      <td>3547</td>\n",
       "    </tr>\n",
       "  </tbody>\n",
       "</table>\n",
       "</div>"
      ],
      "text/plain": [
       "   id display_name               creation_date            last_access_date  \\\n",
       "0  26        Shawn  2008-08-01 12:18:14.52 UTC  2018-04-11 04:40:35.66 UTC   \n",
       "1  26        Shawn  2008-08-01 12:18:14.52 UTC  2018-04-11 04:40:35.66 UTC   \n",
       "2  26        Shawn  2008-08-01 12:18:14.52 UTC  2018-04-11 04:40:35.66 UTC   \n",
       "3  26        Shawn  2008-08-01 12:18:14.52 UTC  2018-04-11 04:40:35.66 UTC   \n",
       "4  26        Shawn  2008-08-01 12:18:14.52 UTC  2018-04-11 04:40:35.66 UTC   \n",
       "\n",
       "   reputation  up_votes  down_votes  views  \n",
       "0       11820       565          67   3547  \n",
       "1       11820       565          67   3547  \n",
       "2       11820       565          67   3547  \n",
       "3       11820       565          67   3547  \n",
       "4       11820       565          67   3547  "
      ]
     },
     "execution_count": 45,
     "metadata": {},
     "output_type": "execute_result"
    }
   ],
   "source": [
    "u.head()"
   ]
  },
  {
   "cell_type": "code",
   "execution_count": 46,
   "metadata": {
    "colab": {
     "base_uri": "https://localhost:8080/"
    },
    "id": "3ocCRFUGT2bH",
    "outputId": "bf0ebf3f-fe97-403e-98ef-05cf87752348"
   },
   "outputs": [
    {
     "name": "stdout",
     "output_type": "stream",
     "text": [
      "<class 'pandas.core.frame.DataFrame'>\n",
      "RangeIndex: 1990480 entries, 0 to 1990479\n",
      "Data columns (total 8 columns):\n",
      " #   Column            Dtype \n",
      "---  ------            ----- \n",
      " 0   id                int64 \n",
      " 1   display_name      object\n",
      " 2   creation_date     object\n",
      " 3   last_access_date  object\n",
      " 4   reputation        int64 \n",
      " 5   up_votes          int64 \n",
      " 6   down_votes        int64 \n",
      " 7   views             int64 \n",
      "dtypes: int64(5), object(3)\n",
      "memory usage: 121.5+ MB\n"
     ]
    }
   ],
   "source": [
    "u.info()"
   ]
  },
  {
   "cell_type": "markdown",
   "metadata": {
    "id": "rzPe8as8QYJo"
   },
   "source": [
    "# **Data Wrangling**\n",
    "# 1. Handling Missing Values"
   ]
  },
  {
   "cell_type": "code",
   "execution_count": 47,
   "metadata": {
    "colab": {
     "base_uri": "https://localhost:8080/"
    },
    "id": "OLrBETTWQcKT",
    "outputId": "0f1b007a-b279-4db5-81bd-7d3f189e9d58"
   },
   "outputs": [
    {
     "data": {
      "text/plain": [
       "id                    0\n",
       "display_name        136\n",
       "creation_date         0\n",
       "last_access_date      0\n",
       "reputation            0\n",
       "up_votes              0\n",
       "down_votes            0\n",
       "views                 0\n",
       "dtype: int64"
      ]
     },
     "execution_count": 47,
     "metadata": {},
     "output_type": "execute_result"
    }
   ],
   "source": [
    "#Creating a copy of original dataset\n",
    "user=u.copy()\n",
    "\n",
    "#To find the number of missing values in the dataset\n",
    "user.isnull().sum()"
   ]
  },
  {
   "cell_type": "code",
   "execution_count": 48,
   "metadata": {
    "id": "R0vNd8wpQuOF"
   },
   "outputs": [],
   "source": [
    "#Replacing NaN values in 'DisplayName' with 'Unknown'\n",
    "user['display_name'].fillna('Unknown', inplace=True)"
   ]
  },
  {
   "cell_type": "code",
   "execution_count": 49,
   "metadata": {
    "colab": {
     "base_uri": "https://localhost:8080/"
    },
    "id": "_B_rhq6mTbNz",
    "outputId": "58b26384-af63-4e50-a7a6-b07573273285"
   },
   "outputs": [
    {
     "data": {
      "text/plain": [
       "id                  0\n",
       "display_name        0\n",
       "creation_date       0\n",
       "last_access_date    0\n",
       "reputation          0\n",
       "up_votes            0\n",
       "down_votes          0\n",
       "views               0\n",
       "dtype: int64"
      ]
     },
     "execution_count": 49,
     "metadata": {},
     "output_type": "execute_result"
    }
   ],
   "source": [
    "#Checking for null values in dataset\n",
    "user.isnull().sum()"
   ]
  },
  {
   "cell_type": "code",
   "execution_count": 50,
   "metadata": {
    "colab": {
     "base_uri": "https://localhost:8080/"
    },
    "id": "xuDKUXPATuQo",
    "outputId": "4688db10-6436-44cf-aa03-a00382351f73"
   },
   "outputs": [
    {
     "data": {
      "text/plain": [
       "(1990480, 8)"
      ]
     },
     "execution_count": 50,
     "metadata": {},
     "output_type": "execute_result"
    }
   ],
   "source": [
    "user.shape"
   ]
  },
  {
   "cell_type": "markdown",
   "metadata": {
    "id": "ohLCvHU2T6uK"
   },
   "source": [
    "# 2. Handling Duplicates"
   ]
  },
  {
   "cell_type": "code",
   "execution_count": 51,
   "metadata": {
    "colab": {
     "base_uri": "https://localhost:8080/"
    },
    "id": "8aFpz1zfUBl5",
    "outputId": "38851dd2-beca-40c7-c54b-6a77ae0ebcc5"
   },
   "outputs": [
    {
     "data": {
      "text/plain": [
       "1525020"
      ]
     },
     "execution_count": 51,
     "metadata": {},
     "output_type": "execute_result"
    }
   ],
   "source": [
    "#cheaking for duplicates\n",
    "user.duplicated().sum()"
   ]
  },
  {
   "cell_type": "code",
   "execution_count": 52,
   "metadata": {
    "id": "VZYdTT_AVVx9"
   },
   "outputs": [],
   "source": [
    "#Dropping duplicates from dataset\n",
    "user=user.drop_duplicates()"
   ]
  },
  {
   "cell_type": "code",
   "execution_count": 53,
   "metadata": {
    "colab": {
     "base_uri": "https://localhost:8080/",
     "height": 202
    },
    "id": "vnPJvDcRV59q",
    "outputId": "86ef897f-030a-40aa-9b50-16435e84f902"
   },
   "outputs": [
    {
     "data": {
      "text/html": [
       "<div>\n",
       "<style scoped>\n",
       "    .dataframe tbody tr th:only-of-type {\n",
       "        vertical-align: middle;\n",
       "    }\n",
       "\n",
       "    .dataframe tbody tr th {\n",
       "        vertical-align: top;\n",
       "    }\n",
       "\n",
       "    .dataframe thead th {\n",
       "        text-align: right;\n",
       "    }\n",
       "</style>\n",
       "<table border=\"1\" class=\"dataframe\">\n",
       "  <thead>\n",
       "    <tr style=\"text-align: right;\">\n",
       "      <th></th>\n",
       "      <th>id</th>\n",
       "      <th>display_name</th>\n",
       "      <th>creation_date</th>\n",
       "      <th>last_access_date</th>\n",
       "      <th>reputation</th>\n",
       "      <th>up_votes</th>\n",
       "      <th>down_votes</th>\n",
       "      <th>views</th>\n",
       "    </tr>\n",
       "  </thead>\n",
       "  <tbody>\n",
       "    <tr>\n",
       "      <th>0</th>\n",
       "      <td>26</td>\n",
       "      <td>Shawn</td>\n",
       "      <td>2008-08-01 12:18:14.52 UTC</td>\n",
       "      <td>2018-04-11 04:40:35.66 UTC</td>\n",
       "      <td>11820</td>\n",
       "      <td>565</td>\n",
       "      <td>67</td>\n",
       "      <td>3547</td>\n",
       "    </tr>\n",
       "    <tr>\n",
       "      <th>27</th>\n",
       "      <td>1109</td>\n",
       "      <td>Theo</td>\n",
       "      <td>2008-08-12 12:16:58.61 UTC</td>\n",
       "      <td>2019-08-31 11:39:52.28 UTC</td>\n",
       "      <td>116072</td>\n",
       "      <td>457</td>\n",
       "      <td>136</td>\n",
       "      <td>6905</td>\n",
       "    </tr>\n",
       "    <tr>\n",
       "      <th>85</th>\n",
       "      <td>364174</td>\n",
       "      <td>stats</td>\n",
       "      <td>2010-06-11 03:34:57.137 UTC</td>\n",
       "      <td>2019-08-29 18:37:35.027 UTC</td>\n",
       "      <td>325</td>\n",
       "      <td>25</td>\n",
       "      <td>1</td>\n",
       "      <td>60</td>\n",
       "    </tr>\n",
       "    <tr>\n",
       "      <th>87</th>\n",
       "      <td>61</td>\n",
       "      <td>Bernard</td>\n",
       "      <td>2008-08-01 14:21:00.573 UTC</td>\n",
       "      <td>2019-08-30 07:11:58.297 UTC</td>\n",
       "      <td>22779</td>\n",
       "      <td>1321</td>\n",
       "      <td>219</td>\n",
       "      <td>1731</td>\n",
       "    </tr>\n",
       "    <tr>\n",
       "      <th>97</th>\n",
       "      <td>20709</td>\n",
       "      <td>Black Horus</td>\n",
       "      <td>2008-09-22 20:03:39.71 UTC</td>\n",
       "      <td>2019-09-01 01:17:38.133 UTC</td>\n",
       "      <td>978</td>\n",
       "      <td>73</td>\n",
       "      <td>2</td>\n",
       "      <td>96</td>\n",
       "    </tr>\n",
       "  </tbody>\n",
       "</table>\n",
       "</div>"
      ],
      "text/plain": [
       "        id display_name                creation_date  \\\n",
       "0       26        Shawn   2008-08-01 12:18:14.52 UTC   \n",
       "27    1109         Theo   2008-08-12 12:16:58.61 UTC   \n",
       "85  364174        stats  2010-06-11 03:34:57.137 UTC   \n",
       "87      61      Bernard  2008-08-01 14:21:00.573 UTC   \n",
       "97   20709  Black Horus   2008-09-22 20:03:39.71 UTC   \n",
       "\n",
       "               last_access_date  reputation  up_votes  down_votes  views  \n",
       "0    2018-04-11 04:40:35.66 UTC       11820       565          67   3547  \n",
       "27   2019-08-31 11:39:52.28 UTC      116072       457         136   6905  \n",
       "85  2019-08-29 18:37:35.027 UTC         325        25           1     60  \n",
       "87  2019-08-30 07:11:58.297 UTC       22779      1321         219   1731  \n",
       "97  2019-09-01 01:17:38.133 UTC         978        73           2     96  "
      ]
     },
     "execution_count": 53,
     "metadata": {},
     "output_type": "execute_result"
    }
   ],
   "source": [
    "user.head()"
   ]
  },
  {
   "cell_type": "code",
   "execution_count": 54,
   "metadata": {
    "id": "jr1vrdExWMU8"
   },
   "outputs": [],
   "source": [
    "#Resetting index of dataset\n",
    "user=user.reset_index(drop=True)"
   ]
  },
  {
   "cell_type": "code",
   "execution_count": 55,
   "metadata": {
    "colab": {
     "base_uri": "https://localhost:8080/"
    },
    "id": "PFo5RKHHWg2M",
    "outputId": "b976a32e-501b-4a56-f523-4b3a103e3755"
   },
   "outputs": [
    {
     "data": {
      "text/plain": [
       "(465460, 8)"
      ]
     },
     "execution_count": 55,
     "metadata": {},
     "output_type": "execute_result"
    }
   ],
   "source": [
    "user.shape"
   ]
  },
  {
   "cell_type": "markdown",
   "metadata": {
    "id": "BXjfJRRUQFZ0"
   },
   "source": [
    "# 3. Handling Outliers\n",
    "There arer four column with numerical values which need to be evaluated for outliers.\n",
    "Since there is **multi-variables with prospective outliers**, it is better to **cap and floor the variables**"
   ]
  },
  {
   "cell_type": "markdown",
   "metadata": {
    "id": "wR3gAUWOS3cC"
   },
   "source": [
    "### Handling variable: reputation"
   ]
  },
  {
   "cell_type": "code",
   "execution_count": 56,
   "metadata": {
    "colab": {
     "base_uri": "https://localhost:8080/",
     "height": 276
    },
    "id": "Jn5f-IBgQO3C",
    "outputId": "e1726743-ea5b-427b-c3f6-908e84aa8df0"
   },
   "outputs": [
    {
     "data": {
      "image/png": "[encoded data removed]",
      "text/plain": [
       "<Figure size 432x288 with 1 Axes>"
      ]
     },
     "metadata": {
      "needs_background": "light"
     },
     "output_type": "display_data"
    }
   ],
   "source": [
    "user['reputation'].plot(kind='box')\n",
    "plt.show()"
   ]
  },
  {
   "cell_type": "code",
   "execution_count": 57,
   "metadata": {
    "id": "f-wzio6bQhHs"
   },
   "outputs": [],
   "source": [
    "#Removing the ouliers\n",
    "user=user[~(user['reputation']>1000000)]"
   ]
  },
  {
   "cell_type": "code",
   "execution_count": 58,
   "metadata": {
    "colab": {
     "base_uri": "https://localhost:8080/",
     "height": 265
    },
    "id": "8YdOhckZQhQf",
    "outputId": "4ffd2c54-7e1c-45ef-e79a-5a3f1a1dd283"
   },
   "outputs": [
    {
     "data": {
      "image/png": "[encoded data removed]",
      "text/plain": [
       "<Figure size 432x288 with 1 Axes>"
      ]
     },
     "metadata": {
      "needs_background": "light"
     },
     "output_type": "display_data"
    }
   ],
   "source": [
    "user['reputation'].plot(kind='box')\n",
    "plt.show()"
   ]
  },
  {
   "cell_type": "markdown",
   "metadata": {
    "id": "mlespm8sTsOn"
   },
   "source": [
    "### Handling variable: upvotes"
   ]
  },
  {
   "cell_type": "code",
   "execution_count": 59,
   "metadata": {
    "colab": {
     "base_uri": "https://localhost:8080/",
     "height": 266
    },
    "id": "aLhrZN-eQhaV",
    "outputId": "03fd94b6-7ce6-4bc8-9904-a5d6b7ea32df"
   },
   "outputs": [
    {
     "data": {
      "image/png": "[encoded data removed]",
      "text/plain": [
       "<Figure size 432x288 with 1 Axes>"
      ]
     },
     "metadata": {
      "needs_background": "light"
     },
     "output_type": "display_data"
    }
   ],
   "source": [
    "user['up_votes'].plot(kind='box')\n",
    "plt.show()"
   ]
  },
  {
   "cell_type": "code",
   "execution_count": 60,
   "metadata": {
    "id": "RefDEO7DQhtV"
   },
   "outputs": [],
   "source": [
    "#Removing the ouliers\n",
    "user=user[~(user['up_votes']> 40000)]"
   ]
  },
  {
   "cell_type": "code",
   "execution_count": 61,
   "metadata": {
    "colab": {
     "base_uri": "https://localhost:8080/",
     "height": 267
    },
    "id": "4dKMWsHrQh9D",
    "outputId": "c8cba93d-a3a3-4086-babb-a5acafc8aaa2"
   },
   "outputs": [
    {
     "data": {
      "image/png": "[encoded data removed]",
      "text/plain": [
       "<Figure size 432x288 with 1 Axes>"
      ]
     },
     "metadata": {
      "needs_background": "light"
     },
     "output_type": "display_data"
    }
   ],
   "source": [
    "user['up_votes'].plot(kind='box')\n",
    "plt.show()"
   ]
  },
  {
   "cell_type": "markdown",
   "metadata": {
    "id": "e-FW8imMVNVe"
   },
   "source": [
    "### Handling variable: down votes"
   ]
  },
  {
   "cell_type": "code",
   "execution_count": 62,
   "metadata": {
    "colab": {
     "base_uri": "https://localhost:8080/",
     "height": 266
    },
    "id": "zw12mGVtQiHz",
    "outputId": "272065cf-c237-4688-8d53-6a298caa7bd4"
   },
   "outputs": [
    {
     "data": {
      "image/png": "[encoded data removed]",
      "text/plain": [
       "<Figure size 432x288 with 1 Axes>"
      ]
     },
     "metadata": {
      "needs_background": "light"
     },
     "output_type": "display_data"
    }
   ],
   "source": [
    "user['down_votes'].plot(kind='box')\n",
    "plt.show()"
   ]
  },
  {
   "cell_type": "code",
   "execution_count": 63,
   "metadata": {
    "id": "rQvjTxiDQidb"
   },
   "outputs": [],
   "source": [
    "#Removing the ouliers\n",
    "user=user[~(user['down_votes']> 40000)]"
   ]
  },
  {
   "cell_type": "code",
   "execution_count": 64,
   "metadata": {
    "colab": {
     "base_uri": "https://localhost:8080/",
     "height": 266
    },
    "id": "Z12LJbInVz6E",
    "outputId": "affb8d4f-78fc-490b-faa6-8d8268192e94"
   },
   "outputs": [
    {
     "data": {
      "image/png": "[encoded data removed]",
      "text/plain": [
       "<Figure size 432x288 with 1 Axes>"
      ]
     },
     "metadata": {
      "needs_background": "light"
     },
     "output_type": "display_data"
    }
   ],
   "source": [
    "user['down_votes'].plot(kind='box')\n",
    "plt.show()"
   ]
  },
  {
   "cell_type": "markdown",
   "metadata": {
    "id": "ZAnnW5EcXCTA"
   },
   "source": [
    "### Handling variable: views"
   ]
  },
  {
   "cell_type": "code",
   "execution_count": 65,
   "metadata": {
    "colab": {
     "base_uri": "https://localhost:8080/",
     "height": 265
    },
    "id": "m-NRPCy5XIzv",
    "outputId": "59256e62-6c22-4599-91a1-70f7f78bdf87"
   },
   "outputs": [
    {
     "data": {
      "image/png": "[encoded data removed]",
      "text/plain": [
       "<Figure size 432x288 with 1 Axes>"
      ]
     },
     "metadata": {
      "needs_background": "light"
     },
     "output_type": "display_data"
    }
   ],
   "source": [
    "user['views'].plot(kind='box')\n",
    "plt.show()"
   ]
  },
  {
   "cell_type": "code",
   "execution_count": 66,
   "metadata": {
    "id": "eVdycAU-XTOa"
   },
   "outputs": [],
   "source": [
    "#Removing the ouliers\n",
    "user=user[~(user['views']> 200000)]"
   ]
  },
  {
   "cell_type": "code",
   "execution_count": 67,
   "metadata": {
    "colab": {
     "base_uri": "https://localhost:8080/",
     "height": 267
    },
    "id": "lFQJ_syJXTZA",
    "outputId": "d560caee-bcfb-4b71-d8aa-1a212980c698"
   },
   "outputs": [
    {
     "data": {
      "image/png": "[encoded data removed]",
      "text/plain": [
       "<Figure size 432x288 with 1 Axes>"
      ]
     },
     "metadata": {
      "needs_background": "light"
     },
     "output_type": "display_data"
    }
   ],
   "source": [
    "user['views'].plot(kind='box')\n",
    "plt.show()"
   ]
  },
  {
   "cell_type": "markdown",
   "metadata": {
    "id": "rp5P3NEUXYGS"
   },
   "source": [
    "# 4. Formatting Columns"
   ]
  },
  {
   "cell_type": "code",
   "execution_count": 68,
   "metadata": {
    "id": "MCasnysgXaT6"
   },
   "outputs": [],
   "source": [
    "#Changing the format of columns containing date and time \n",
    "user['creation_date']=pd.to_datetime(user.creation_date)"
   ]
  },
  {
   "cell_type": "code",
   "execution_count": 69,
   "metadata": {
    "id": "vh2jL8n7X1Vi"
   },
   "outputs": [],
   "source": [
    "user['last_access_date']=pd.to_datetime(user.last_access_date)"
   ]
  },
  {
   "cell_type": "code",
   "execution_count": 70,
   "metadata": {
    "colab": {
     "base_uri": "https://localhost:8080/",
     "height": 202
    },
    "id": "Haia9ijbfnTV",
    "outputId": "248c56a2-2f13-4577-8f18-2261943853be"
   },
   "outputs": [
    {
     "data": {
      "text/html": [
       "<div>\n",
       "<style scoped>\n",
       "    .dataframe tbody tr th:only-of-type {\n",
       "        vertical-align: middle;\n",
       "    }\n",
       "\n",
       "    .dataframe tbody tr th {\n",
       "        vertical-align: top;\n",
       "    }\n",
       "\n",
       "    .dataframe thead th {\n",
       "        text-align: right;\n",
       "    }\n",
       "</style>\n",
       "<table border=\"1\" class=\"dataframe\">\n",
       "  <thead>\n",
       "    <tr style=\"text-align: right;\">\n",
       "      <th></th>\n",
       "      <th>id</th>\n",
       "      <th>display_name</th>\n",
       "      <th>creation_date</th>\n",
       "      <th>last_access_date</th>\n",
       "      <th>reputation</th>\n",
       "      <th>up_votes</th>\n",
       "      <th>down_votes</th>\n",
       "      <th>views</th>\n",
       "    </tr>\n",
       "  </thead>\n",
       "  <tbody>\n",
       "    <tr>\n",
       "      <th>0</th>\n",
       "      <td>26</td>\n",
       "      <td>Shawn</td>\n",
       "      <td>2008-08-01 12:18:14.520000+00:00</td>\n",
       "      <td>2018-04-11 04:40:35.660000+00:00</td>\n",
       "      <td>11820</td>\n",
       "      <td>565</td>\n",
       "      <td>67</td>\n",
       "      <td>3547</td>\n",
       "    </tr>\n",
       "    <tr>\n",
       "      <th>1</th>\n",
       "      <td>1109</td>\n",
       "      <td>Theo</td>\n",
       "      <td>2008-08-12 12:16:58.610000+00:00</td>\n",
       "      <td>2019-08-31 11:39:52.280000+00:00</td>\n",
       "      <td>116072</td>\n",
       "      <td>457</td>\n",
       "      <td>136</td>\n",
       "      <td>6905</td>\n",
       "    </tr>\n",
       "    <tr>\n",
       "      <th>2</th>\n",
       "      <td>364174</td>\n",
       "      <td>stats</td>\n",
       "      <td>2010-06-11 03:34:57.137000+00:00</td>\n",
       "      <td>2019-08-29 18:37:35.027000+00:00</td>\n",
       "      <td>325</td>\n",
       "      <td>25</td>\n",
       "      <td>1</td>\n",
       "      <td>60</td>\n",
       "    </tr>\n",
       "    <tr>\n",
       "      <th>3</th>\n",
       "      <td>61</td>\n",
       "      <td>Bernard</td>\n",
       "      <td>2008-08-01 14:21:00.573000+00:00</td>\n",
       "      <td>2019-08-30 07:11:58.297000+00:00</td>\n",
       "      <td>22779</td>\n",
       "      <td>1321</td>\n",
       "      <td>219</td>\n",
       "      <td>1731</td>\n",
       "    </tr>\n",
       "    <tr>\n",
       "      <th>4</th>\n",
       "      <td>20709</td>\n",
       "      <td>Black Horus</td>\n",
       "      <td>2008-09-22 20:03:39.710000+00:00</td>\n",
       "      <td>2019-09-01 01:17:38.133000+00:00</td>\n",
       "      <td>978</td>\n",
       "      <td>73</td>\n",
       "      <td>2</td>\n",
       "      <td>96</td>\n",
       "    </tr>\n",
       "  </tbody>\n",
       "</table>\n",
       "</div>"
      ],
      "text/plain": [
       "       id display_name                    creation_date  \\\n",
       "0      26        Shawn 2008-08-01 12:18:14.520000+00:00   \n",
       "1    1109         Theo 2008-08-12 12:16:58.610000+00:00   \n",
       "2  364174        stats 2010-06-11 03:34:57.137000+00:00   \n",
       "3      61      Bernard 2008-08-01 14:21:00.573000+00:00   \n",
       "4   20709  Black Horus 2008-09-22 20:03:39.710000+00:00   \n",
       "\n",
       "                  last_access_date  reputation  up_votes  down_votes  views  \n",
       "0 2018-04-11 04:40:35.660000+00:00       11820       565          67   3547  \n",
       "1 2019-08-31 11:39:52.280000+00:00      116072       457         136   6905  \n",
       "2 2019-08-29 18:37:35.027000+00:00         325        25           1     60  \n",
       "3 2019-08-30 07:11:58.297000+00:00       22779      1321         219   1731  \n",
       "4 2019-09-01 01:17:38.133000+00:00         978        73           2     96  "
      ]
     },
     "execution_count": 70,
     "metadata": {},
     "output_type": "execute_result"
    }
   ],
   "source": [
    "user.head()"
   ]
  },
  {
   "cell_type": "markdown",
   "metadata": {
    "id": "2bbMw8I8gp8c"
   },
   "source": [
    "# Univariate Analysis"
   ]
  },
  {
   "cell_type": "markdown",
   "metadata": {
    "id": "ZF378Y8AFXIT"
   },
   "source": [
    "# 1. Questions Dataset\n",
    "\n",
    "### Analysing the **OwnerUserId** which represents the Id of the user who asked the question."
   ]
  },
  {
   "cell_type": "code",
   "execution_count": 71,
   "metadata": {
    "colab": {
     "base_uri": "https://localhost:8080/"
    },
    "id": "1fTpZqwJhiTi",
    "outputId": "41e0efc1-ce07-45f6-88f6-5f0ca8ab3dd3"
   },
   "outputs": [
    {
     "data": {
      "text/plain": [
       "0.0          14454\n",
       "875317.0       250\n",
       "39677.0        227\n",
       "4653.0         175\n",
       "651174.0       164\n",
       "             ...  \n",
       "4587503.0        1\n",
       "2611177.0        1\n",
       "5508243.0        1\n",
       "3955813.0        1\n",
       "5512875.0        1\n",
       "Name: OwnerUserId, Length: 630906, dtype: int64"
      ]
     },
     "execution_count": 71,
     "metadata": {},
     "output_type": "execute_result"
    }
   ],
   "source": [
    "#Calculating which user had asked the most number of questions\n",
    "question['OwnerUserId'].value_counts()"
   ]
  },
  {
   "cell_type": "code",
   "execution_count": 72,
   "metadata": {
    "colab": {
     "base_uri": "https://localhost:8080/"
    },
    "id": "TOnjtEw9G6qW",
    "outputId": "59b879a8-9267-4823-f115-2c57db7a11ce"
   },
   "outputs": [
    {
     "data": {
      "text/plain": [
       "0.0          1.143334\n",
       "875317.0     0.019775\n",
       "39677.0      0.017956\n",
       "4653.0       0.013843\n",
       "651174.0     0.012973\n",
       "               ...   \n",
       "4587503.0    0.000079\n",
       "2611177.0    0.000079\n",
       "5508243.0    0.000079\n",
       "3955813.0    0.000079\n",
       "5512875.0    0.000079\n",
       "Name: OwnerUserId, Length: 630906, dtype: float64"
      ]
     },
     "execution_count": 72,
     "metadata": {},
     "output_type": "execute_result"
    }
   ],
   "source": [
    "#Percentage of questions asked\n",
    "question['OwnerUserId'].value_counts(normalize=True)*100"
   ]
  },
  {
   "cell_type": "markdown",
   "metadata": {
    "id": "-PJ-D2ucGtVW"
   },
   "source": [
    "**Most of the questions**; be it active or inactive has been asked by the **OwnerUserId 0.0** who represents Anonymous or guest user. About **1.14%** of total 1264216 questions were asked by **anonymous or guest user**.\n",
    "The **second highest number** of questions is been asked by the user **875317.0, about 0.019%**. The **third highest by 39677.0** and is of about **0.017%**"
   ]
  },
  {
   "cell_type": "markdown",
   "metadata": {
    "id": "mIcCnoQ3K-lH"
   },
   "source": [
    "## Analysis of **Date** column."
   ]
  },
  {
   "cell_type": "code",
   "execution_count": 73,
   "metadata": {
    "colab": {
     "base_uri": "https://localhost:8080/"
    },
    "id": "090iX3jSOTAh",
    "outputId": "956301b2-6254-4f87-b17a-ce377ec5392e"
   },
   "outputs": [
    {
     "data": {
      "text/plain": [
       "2014-03-07 15:01:31+00:00    2\n",
       "2016-09-07 12:47:34+00:00    2\n",
       "2011-07-19 14:14:34+00:00    2\n",
       "2015-06-05 18:27:36+00:00    2\n",
       "2014-05-27 21:02:22+00:00    2\n",
       "                            ..\n",
       "2015-05-25 08:54:47+00:00    1\n",
       "2014-03-14 13:56:05+00:00    1\n",
       "2016-02-02 09:13:52+00:00    1\n",
       "2011-08-11 02:19:57+00:00    1\n",
       "2010-06-21 15:52:09+00:00    1\n",
       "Name: CreationDate, Length: 1264189, dtype: int64"
      ]
     },
     "execution_count": 73,
     "metadata": {},
     "output_type": "execute_result"
    }
   ],
   "source": [
    "#Date on which most number of questions were asked\n",
    "question['CreationDate'].value_counts()"
   ]
  },
  {
   "cell_type": "markdown",
   "metadata": {
    "id": "u8mVOEwWOtdY"
   },
   "source": [
    "The most number of questions asked is about 2 that too on multiple dates. Tha analysis have not given any fruitful insights."
   ]
  },
  {
   "cell_type": "code",
   "execution_count": 74,
   "metadata": {
    "colab": {
     "base_uri": "https://localhost:8080/"
    },
    "id": "ien0r0y4PC0P",
    "outputId": "c5c51dff-8ecf-49c5-de67-7ef836f34e50"
   },
   "outputs": [
    {
     "data": {
      "text/plain": [
       "2014-03-06 21:15:55+00:00    2\n",
       "2016-10-18 10:17:30+00:00    2\n",
       "2012-07-25 14:00:18+00:00    2\n",
       "2013-03-19 13:09:06+00:00    2\n",
       "2013-05-17 13:31:52+00:00    2\n",
       "                            ..\n",
       "2015-10-23 21:29:13+00:00    1\n",
       "2013-07-19 00:31:57+00:00    1\n",
       "2014-04-19 10:36:48+00:00    1\n",
       "2013-01-09 00:48:21+00:00    1\n",
       "2013-12-31 13:27:57+00:00    1\n",
       "Name: ClosedDate, Length: 55949, dtype: int64"
      ]
     },
     "execution_count": 74,
     "metadata": {},
     "output_type": "execute_result"
    }
   ],
   "source": [
    "question['ClosedDate'].value_counts()"
   ]
  },
  {
   "cell_type": "markdown",
   "metadata": {
    "id": "eyVFD-AZPVPN"
   },
   "source": [
    "The most number of questions closed also is about 2 that too on multiple dates. Tha analysis have not given any fruitful insights."
   ]
  },
  {
   "cell_type": "code",
   "execution_count": 75,
   "metadata": {
    "id": "6yxk_2sxg-f5"
   },
   "outputs": [],
   "source": [
    "#Creating a new column to see the time taken for creation and closure of a question\n",
    "question['TimeTaken']= question['ClosedDate']-question['CreationDate']"
   ]
  },
  {
   "cell_type": "code",
   "execution_count": 76,
   "metadata": {
    "colab": {
     "base_uri": "https://localhost:8080/"
    },
    "id": "pR2cGwU3hGwk",
    "outputId": "27b95032-aeef-48c9-a07b-78e748729f9f"
   },
   "outputs": [
    {
     "name": "stdout",
     "output_type": "stream",
     "text": [
      "Least Time taken for closing a question :  0 days 00:00:13\n",
      "Maximum time taken for the closing of a question :  2971 days 23:20:43\n",
      "Average time taken for the closure of a question :  138 days 01:10:29.731231788\n"
     ]
    }
   ],
   "source": [
    "#Calculating the minimum and maximum time taken for the closure of a question\n",
    "print(\"Least Time taken for closing a question : \",question['TimeTaken'].min())\n",
    "print(\"Maximum time taken for the closing of a question : \",question['TimeTaken'].max())\n",
    "print(\"Average time taken for the closure of a question : \", question['TimeTaken'].mean())"
   ]
  },
  {
   "cell_type": "markdown",
   "metadata": {
    "id": "Z0q4G1Emh9h_"
   },
   "source": [
    "**Based on** data from **ClosedDate** cloumn on an **average it takes 138 days to close a question** or in other words a question to be marked closed for answers"
   ]
  },
  {
   "cell_type": "markdown",
   "metadata": {
    "id": "9aJ4xvFLP6tx"
   },
   "source": [
    "## Analysis of **Score** column"
   ]
  },
  {
   "cell_type": "code",
   "execution_count": 77,
   "metadata": {
    "colab": {
     "base_uri": "https://localhost:8080/"
    },
    "id": "rJ8FF2l0PatE",
    "outputId": "170475dc-9a5d-4e74-ba85-5ad613d09174"
   },
   "outputs": [
    {
     "name": "stdout",
     "output_type": "stream",
     "text": [
      "Maximum score given to a question:  1147\n",
      "Minimum score given to a question:  -73\n",
      "Range of Scores given to question is :  1220\n"
     ]
    }
   ],
   "source": [
    "#Calculating the range of Scores\n",
    "print('Maximum score given to a question: ', question['Score'].max())\n",
    "print('Minimum score given to a question: ', question['Score'].min())\n",
    "range=question['Score'].max()-question['Score'].min()\n",
    "print('Range of Scores given to question is : ', range)"
   ]
  },
  {
   "cell_type": "code",
   "execution_count": 78,
   "metadata": {
    "colab": {
     "base_uri": "https://localhost:8080/"
    },
    "id": "vesBAVlRQ930",
    "outputId": "d7d8c9cf-54cd-4a93-c3f8-2da3d7b1d8e6"
   },
   "outputs": [
    {
     "data": {
      "text/plain": [
       "count    1.264198e+06\n",
       "mean     1.752725e+00\n",
       "std      1.075818e+01\n",
       "min     -7.300000e+01\n",
       "25%      0.000000e+00\n",
       "50%      0.000000e+00\n",
       "75%      1.000000e+00\n",
       "max      1.147000e+03\n",
       "Name: Score, dtype: float64"
      ]
     },
     "execution_count": 78,
     "metadata": {},
     "output_type": "execute_result"
    }
   ],
   "source": [
    "#Summary statistics of Score variable\n",
    "question['Score'].describe()"
   ]
  },
  {
   "cell_type": "markdown",
   "metadata": {
    "id": "CKHHtXrhRsXp"
   },
   "source": [
    "It is clear from above analysis that the distribution is now normal and the variable has been handled properly. The average score given to question is 1.75"
   ]
  },
  {
   "cell_type": "code",
   "execution_count": 79,
   "metadata": {
    "colab": {
     "base_uri": "https://localhost:8080/",
     "height": 268
    },
    "id": "jPgV_lXwR4s1",
    "outputId": "0f52c1cf-c2ab-482c-aa19-673d3f2b5519"
   },
   "outputs": [
    {
     "data": {
      "image/png": "[encoded data removed]",
      "text/plain": [
       "<Figure size 432x288 with 1 Axes>"
      ]
     },
     "metadata": {
      "needs_background": "light"
     },
     "output_type": "display_data"
    }
   ],
   "source": [
    "#Visualization of Score variable\n",
    "question['Score'].plot(kind='box')\n",
    "plt.show()"
   ]
  },
  {
   "cell_type": "markdown",
   "metadata": {
    "id": "HlSgN3lioABD"
   },
   "source": [
    "### Analysis of **Title** column"
   ]
  },
  {
   "cell_type": "code",
   "execution_count": 80,
   "metadata": {
    "colab": {
     "base_uri": "https://localhost:8080/"
    },
    "id": "wzjUbdd-m4g8",
    "outputId": "2854df0b-ce33-4705-cc43-dd6a01ce7553"
   },
   "outputs": [
    {
     "data": {
      "text/plain": [
       "count                                      1264198\n",
       "unique                                     1263977\n",
       "top       Input string was not in a correct format\n",
       "freq                                             6\n",
       "Name: Title, dtype: object"
      ]
     },
     "execution_count": 80,
     "metadata": {},
     "output_type": "execute_result"
    }
   ],
   "source": [
    "#basic summary statistics\n",
    "question['Title'].describe()"
   ]
  },
  {
   "cell_type": "markdown",
   "metadata": {
    "id": "46kv-B69og0y"
   },
   "source": [
    "**The most frequently asked question is related to \"Input string was not in a correct format\"**. Eventhough it cannot be called as the most frequently asked question explicitily, still its been asked 6 times. "
   ]
  },
  {
   "cell_type": "markdown",
   "metadata": {
    "id": "J7HVZe61pyfY"
   },
   "source": [
    "# 2. Answer Dataset"
   ]
  },
  {
   "cell_type": "markdown",
   "metadata": {
    "id": "F6d1scN--B2q"
   },
   "source": [
    "### Analysing the OwnerUserId "
   ]
  },
  {
   "cell_type": "code",
   "execution_count": 81,
   "metadata": {
    "colab": {
     "base_uri": "https://localhost:8080/"
    },
    "id": "p9Hk9xhC9s3p",
    "outputId": "25a23b3c-b7a0-4538-d0f5-1a243418ac55"
   },
   "outputs": [
    {
     "data": {
      "text/plain": [
       "0.0          0.655250\n",
       "22656.0      0.162323\n",
       "1144035.0    0.149367\n",
       "29407.0      0.106429\n",
       "548225.0     0.095508\n",
       "               ...   \n",
       "1611998.0    0.000050\n",
       "5276243.0    0.000050\n",
       "1458414.0    0.000050\n",
       "111919.0     0.000050\n",
       "1436013.0    0.000050\n",
       "Name: OwnerUserId, Length: 468797, dtype: float64"
      ]
     },
     "execution_count": 81,
     "metadata": {},
     "output_type": "execute_result"
    }
   ],
   "source": [
    "#Calculating which user had answered the most number of questions\n",
    "answer['OwnerUserId'].value_counts(normalize=True)*100"
   ]
  },
  {
   "cell_type": "markdown",
   "metadata": {
    "id": "WeVelgoN-YXd"
   },
   "source": [
    "**Most of the answers are by anonymous or guest users**, about 0.6%.\n",
    "The **second highest** is done by OwnerUserId **1144035**, about 0.15% and so on. "
   ]
  },
  {
   "cell_type": "markdown",
   "metadata": {
    "id": "pOGkPxYc-102"
   },
   "source": [
    "### Analysis of Date column."
   ]
  },
  {
   "cell_type": "code",
   "execution_count": 82,
   "metadata": {
    "colab": {
     "base_uri": "https://localhost:8080/"
    },
    "id": "H-Y-guX5-wDo",
    "outputId": "2b975845-471a-49f0-9e71-21671074e7e1"
   },
   "outputs": [
    {
     "data": {
      "text/plain": [
       "2013-08-27 15:04:48+00:00    3\n",
       "2012-09-17 16:45:48+00:00    3\n",
       "2013-01-22 13:02:29+00:00    3\n",
       "2014-03-04 15:05:46+00:00    3\n",
       "2015-02-26 13:03:23+00:00    3\n",
       "                            ..\n",
       "2011-12-30 13:44:31+00:00    1\n",
       "2010-05-24 20:18:28+00:00    1\n",
       "2011-11-06 13:21:05+00:00    1\n",
       "2010-04-19 14:54:00+00:00    1\n",
       "2012-07-17 08:08:12+00:00    1\n",
       "Name: CreationDate, Length: 2002748, dtype: int64"
      ]
     },
     "execution_count": 82,
     "metadata": {},
     "output_type": "execute_result"
    }
   ],
   "source": [
    "#Date on which most number of questions were asked\n",
    "answer['CreationDate'].value_counts()"
   ]
  },
  {
   "cell_type": "markdown",
   "metadata": {
    "id": "gvD1_O_0_dla"
   },
   "source": [
    "Similar to the question dataset, no fruitful insights from this analysis"
   ]
  },
  {
   "cell_type": "markdown",
   "metadata": {
    "id": "bJ_wwlN0APkI"
   },
   "source": [
    "### Analysis of ParentId column"
   ]
  },
  {
   "cell_type": "code",
   "execution_count": 83,
   "metadata": {
    "colab": {
     "base_uri": "https://localhost:8080/"
    },
    "id": "kv2vxdd2AOIt",
    "outputId": "6c6314e4-2c65-4b1e-e296-9cff3c1a9ba3"
   },
   "outputs": [
    {
     "data": {
      "text/plain": [
       "406760      408\n",
       "38210       316\n",
       "23930       129\n",
       "100420      100\n",
       "40480        67\n",
       "           ... \n",
       "2580820       1\n",
       "10957150      1\n",
       "31900000      1\n",
       "26076960      1\n",
       "21768920      1\n",
       "Name: ParentId, Length: 1102568, dtype: int64"
      ]
     },
     "execution_count": 83,
     "metadata": {},
     "output_type": "execute_result"
    }
   ],
   "source": [
    "answer['ParentId'].value_counts()"
   ]
  },
  {
   "cell_type": "markdown",
   "metadata": {
    "id": "ew2Zd14qAw5v"
   },
   "source": [
    "**Most number of questions** came from the question Id **406760 and 38210**"
   ]
  },
  {
   "cell_type": "markdown",
   "metadata": {
    "id": "8lf_scvGBDbN"
   },
   "source": [
    "### Analysis of Score column"
   ]
  },
  {
   "cell_type": "code",
   "execution_count": 84,
   "metadata": {
    "colab": {
     "base_uri": "https://localhost:8080/"
    },
    "id": "0VlSIywVBBFm",
    "outputId": "793f5c8c-28c0-4a06-aa51-98f67add0632"
   },
   "outputs": [
    {
     "name": "stdout",
     "output_type": "stream",
     "text": [
      "Maximum score given to a question:  1730\n",
      "Minimum score given to a question:  -42\n"
     ]
    }
   ],
   "source": [
    "#Calculating the range of Scores\n",
    "print('Maximum score given to a question: ', answer['Score'].max())\n",
    "print('Minimum score given to a question: ', answer['Score'].min())\n"
   ]
  },
  {
   "cell_type": "code",
   "execution_count": 85,
   "metadata": {
    "colab": {
     "base_uri": "https://localhost:8080/"
    },
    "id": "qSNEFocoBcBZ",
    "outputId": "babf583e-1686-4b00-d7a1-399ff4c6a46c"
   },
   "outputs": [
    {
     "data": {
      "text/plain": [
       "count    2.014497e+06\n",
       "mean     2.455454e+00\n",
       "std      1.337130e+01\n",
       "min     -4.200000e+01\n",
       "25%      0.000000e+00\n",
       "50%      1.000000e+00\n",
       "75%      2.000000e+00\n",
       "max      1.730000e+03\n",
       "Name: Score, dtype: float64"
      ]
     },
     "execution_count": 85,
     "metadata": {},
     "output_type": "execute_result"
    }
   ],
   "source": [
    "#Summary statistics of Score variable\n",
    "answer['Score'].describe()"
   ]
  },
  {
   "cell_type": "markdown",
   "metadata": {
    "id": "CY2ydhswBlrl"
   },
   "source": [
    "It can be seen that the distribution of the data is normal and outliers are handled properly.\n",
    "On an **average there is about 2.46 score** given to the answeres posted."
   ]
  },
  {
   "cell_type": "code",
   "execution_count": 86,
   "metadata": {
    "colab": {
     "base_uri": "https://localhost:8080/",
     "height": 265
    },
    "id": "2I6fUBiSB4hJ",
    "outputId": "e0d3cb32-f5ca-43a1-ecec-5234deebd286"
   },
   "outputs": [
    {
     "data": {
      "image/png": "[encoded data removed]",
      "text/plain": [
       "<Figure size 432x288 with 1 Axes>"
      ]
     },
     "metadata": {
      "needs_background": "light"
     },
     "output_type": "display_data"
    }
   ],
   "source": [
    "#Visualization of Score variable\n",
    "answer['Score'].plot(kind='box')\n",
    "plt.show()"
   ]
  },
  {
   "cell_type": "markdown",
   "metadata": {
    "id": "56fOGVNuC9_q"
   },
   "source": [
    "# 3. Tags Dataset"
   ]
  },
  {
   "cell_type": "markdown",
   "metadata": {
    "id": "0E5SU9_HDCiK"
   },
   "source": [
    "### Analysis of Id column"
   ]
  },
  {
   "cell_type": "code",
   "execution_count": 87,
   "metadata": {
    "colab": {
     "base_uri": "https://localhost:8080/"
    },
    "id": "HnomM-kwDJn9",
    "outputId": "221f2b48-2a2e-4dd8-9f69-ed3516ba1189"
   },
   "outputs": [
    {
     "data": {
      "text/plain": [
       "21768920    5\n",
       "34819770    5\n",
       "28090750    5\n",
       "14455460    5\n",
       "34409880    5\n",
       "           ..\n",
       "13222570    1\n",
       "25801380    1\n",
       "2765240     1\n",
       "38435070    1\n",
       "39346820    1\n",
       "Name: Id, Length: 1264216, dtype: int64"
      ]
     },
     "execution_count": 87,
     "metadata": {},
     "output_type": "execute_result"
    }
   ],
   "source": [
    "#Calculating the most tagged question\n",
    "tag['Id'].value_counts()"
   ]
  },
  {
   "cell_type": "markdown",
   "metadata": {
    "id": "Cq5DgC-mD96_"
   },
   "source": [
    "Several Questions have more than 5 tags attched to them."
   ]
  },
  {
   "cell_type": "markdown",
   "metadata": {
    "id": "SuMeXr4uEGjl"
   },
   "source": [
    "### Analysing Tags column"
   ]
  },
  {
   "cell_type": "code",
   "execution_count": 88,
   "metadata": {
    "colab": {
     "base_uri": "https://localhost:8080/"
    },
    "id": "lm7b9C2gENDx",
    "outputId": "14dbf719-0a8b-4116-f750-57e429ef8632"
   },
   "outputs": [
    {
     "data": {
      "text/plain": [
       "javascript              3.309924\n",
       "java                    3.071507\n",
       "c#                      2.697579\n",
       "php                     2.634182\n",
       "android                 2.416933\n",
       "                          ...   \n",
       "program-structure       0.000027\n",
       "qlogin                  0.000027\n",
       "sharepoint-documents    0.000027\n",
       "cjson                   0.000027\n",
       "routedevents            0.000027\n",
       "Name: Tag, Length: 37035, dtype: float64"
      ]
     },
     "execution_count": 88,
     "metadata": {},
     "output_type": "execute_result"
    }
   ],
   "source": [
    "#Most frequently used tags\n",
    "tag['Tag'].value_counts(normalize=True)*100"
   ]
  },
  {
   "cell_type": "markdown",
   "metadata": {
    "id": "WJk7nKKWEeZ6"
   },
   "source": [
    "**Javascript and Java** are most frequently used tags. Around **3% of tags** are them. "
   ]
  },
  {
   "cell_type": "code",
   "execution_count": 89,
   "metadata": {
    "colab": {
     "base_uri": "https://localhost:8080/"
    },
    "id": "qmFsLVOuEFpi",
    "outputId": "d1b53953-d096-4ab8-9dcb-dd0e64377bd0"
   },
   "outputs": [
    {
     "data": {
      "text/plain": [
       "count        3750993\n",
       "unique         37035\n",
       "top       javascript\n",
       "freq          124155\n",
       "Name: Tag, dtype: object"
      ]
     },
     "execution_count": 89,
     "metadata": {},
     "output_type": "execute_result"
    }
   ],
   "source": [
    "#Basic summary statistics\n",
    "tag['Tag'].describe()"
   ]
  },
  {
   "cell_type": "markdown",
   "metadata": {
    "id": "U-hM2OayE2iF"
   },
   "source": [
    "There is **37035 uniques tags** in total. "
   ]
  },
  {
   "cell_type": "markdown",
   "metadata": {
    "id": "IcRY3vbJFlJ8"
   },
   "source": [
    "# 4. Users Dataset"
   ]
  },
  {
   "cell_type": "markdown",
   "metadata": {
    "id": "Tnxjz8TLFqjW"
   },
   "source": [
    "### Analysing the creation_date and last_access_date column"
   ]
  },
  {
   "cell_type": "code",
   "execution_count": 90,
   "metadata": {
    "id": "dUnkWvbkFpm6"
   },
   "outputs": [],
   "source": [
    "#Creating a new column to cheack the activity of users\n",
    "user['ActiveTime']=user['last_access_date']- user['creation_date']"
   ]
  },
  {
   "cell_type": "code",
   "execution_count": 91,
   "metadata": {
    "colab": {
     "base_uri": "https://localhost:8080/"
    },
    "id": "vVBo2YU4HqpI",
    "outputId": "916200ee-0359-4e7f-8846-e1c004bf6504"
   },
   "outputs": [
    {
     "data": {
      "text/plain": [
       "0 days 00:00:00              5039\n",
       "0 days 00:16:09.594000          2\n",
       "0 days 00:15:19.730000          2\n",
       "0 days 00:15:03.780000          2\n",
       "2220 days 03:27:00.340000       2\n",
       "                             ... \n",
       "2118 days 00:52:06.324000       1\n",
       "1401 days 23:11:30.566000       1\n",
       "2385 days 19:12:01.570000       1\n",
       "2236 days 05:15:28.633000       1\n",
       "2494 days 19:07:25.580000       1\n",
       "Name: ActiveTime, Length: 460384, dtype: int64"
      ]
     },
     "execution_count": 91,
     "metadata": {},
     "output_type": "execute_result"
    }
   ],
   "source": [
    "user['ActiveTime'].value_counts()"
   ]
  },
  {
   "cell_type": "code",
   "execution_count": 92,
   "metadata": {
    "colab": {
     "base_uri": "https://localhost:8080/"
    },
    "id": "fp7q09gqIfAf",
    "outputId": "281fd18c-7969-4e30-bad8-92ef5d25c982"
   },
   "outputs": [
    {
     "name": "stdout",
     "output_type": "stream",
     "text": [
      "StackOverflow's oldest member is :  4048 days 13:40:47.583000 old\n"
     ]
    }
   ],
   "source": [
    "print(\"StackOverflow's oldest member is : \", user['ActiveTime'].max(), \"old\")"
   ]
  },
  {
   "cell_type": "markdown",
   "metadata": {
    "id": "q367aoh-INty"
   },
   "source": [
    "**Most** of the signed up **users have never accessed** the website after signup. Around **5039 user never accessed** the site at all after signing up. \n"
   ]
  },
  {
   "cell_type": "markdown",
   "metadata": {
    "id": "IB1qhnzkJfF-"
   },
   "source": [
    "### Analysis of reputation column"
   ]
  },
  {
   "cell_type": "code",
   "execution_count": 93,
   "metadata": {
    "colab": {
     "base_uri": "https://localhost:8080/"
    },
    "id": "U68iUyPzQpUe",
    "outputId": "0c6dbffd-4c07-47a5-d34d-bd1270aa904d"
   },
   "outputs": [
    {
     "data": {
      "text/plain": [
       "count    465428.000000\n",
       "mean       1954.355778\n",
       "std       10192.231820\n",
       "min           1.000000\n",
       "25%          66.000000\n",
       "50%         353.000000\n",
       "75%        1164.000000\n",
       "max      732984.000000\n",
       "Name: reputation, dtype: float64"
      ]
     },
     "execution_count": 93,
     "metadata": {},
     "output_type": "execute_result"
    }
   ],
   "source": [
    "#Basic summary statistics\n",
    "user['reputation'].describe()"
   ]
  },
  {
   "cell_type": "markdown",
   "metadata": {
    "id": "93xlJ48KKPDP"
   },
   "source": [
    "The average reputation score is about 1954.35.\n",
    "The minimum reputation is 1.0 and the maximum is 732984. \n"
   ]
  },
  {
   "cell_type": "markdown",
   "metadata": {
    "id": "dhvEMr02NRKK"
   },
   "source": [
    "### Analysis of up_votes column"
   ]
  },
  {
   "cell_type": "code",
   "execution_count": 94,
   "metadata": {
    "colab": {
     "base_uri": "https://localhost:8080/"
    },
    "id": "VuYUuwdeQzQb",
    "outputId": "deb668a8-fa1d-4fdf-825f-94fbd00b06ab"
   },
   "outputs": [
    {
     "data": {
      "text/plain": [
       "count    465428.000000\n",
       "mean        191.772096\n",
       "std         603.189415\n",
       "min           0.000000\n",
       "25%           3.000000\n",
       "50%          26.000000\n",
       "75%         130.000000\n",
       "max       33777.000000\n",
       "Name: up_votes, dtype: float64"
      ]
     },
     "execution_count": 94,
     "metadata": {},
     "output_type": "execute_result"
    }
   ],
   "source": [
    "#Basic summary statistics\n",
    "user['up_votes'].describe()"
   ]
  },
  {
   "cell_type": "markdown",
   "metadata": {
    "id": "Li01JoffQ0AB"
   },
   "source": [
    "The average number of up votes received by a user is 192.\n",
    "The maximum number of up votes received by a user is 33777 and minimum is 0"
   ]
  },
  {
   "cell_type": "markdown",
   "metadata": {
    "id": "r4hS-BxbOUsN"
   },
   "source": [
    "### Analysis of down_votes column"
   ]
  },
  {
   "cell_type": "code",
   "execution_count": 95,
   "metadata": {
    "colab": {
     "base_uri": "https://localhost:8080/"
    },
    "id": "o28YVI5YRGzf",
    "outputId": "aa334fc0-d4ed-4979-d8c1-23fd7d1e7b2d"
   },
   "outputs": [
    {
     "data": {
      "text/plain": [
       "count    465428.000000\n",
       "mean         26.839447\n",
       "std         389.317948\n",
       "min           0.000000\n",
       "25%           0.000000\n",
       "50%           0.000000\n",
       "75%           5.000000\n",
       "max       39975.000000\n",
       "Name: down_votes, dtype: float64"
      ]
     },
     "execution_count": 95,
     "metadata": {},
     "output_type": "execute_result"
    }
   ],
   "source": [
    "#Basic summary statistics\n",
    "user['down_votes'].describe()"
   ]
  },
  {
   "cell_type": "markdown",
   "metadata": {
    "id": "-Im0aC3HRHg8"
   },
   "source": [
    "The average number of down votes received by a user is 27.\n",
    "The maximum number of down votes received is 39975 and minimum is 0"
   ]
  },
  {
   "cell_type": "markdown",
   "metadata": {
    "id": "GawqjDx7PHGA"
   },
   "source": [
    "### Analysing Views Column"
   ]
  },
  {
   "cell_type": "code",
   "execution_count": 96,
   "metadata": {
    "colab": {
     "base_uri": "https://localhost:8080/"
    },
    "id": "JfmQ3tKgRWlN",
    "outputId": "c49d3597-a7ea-4d29-8d5b-ec0f1cc09cfe"
   },
   "outputs": [
    {
     "data": {
      "text/plain": [
       "count    465428.000000\n",
       "mean        227.833203\n",
       "std        1403.367208\n",
       "min           0.000000\n",
       "25%          12.000000\n",
       "50%          45.000000\n",
       "75%         144.000000\n",
       "max      168194.000000\n",
       "Name: views, dtype: float64"
      ]
     },
     "execution_count": 96,
     "metadata": {},
     "output_type": "execute_result"
    }
   ],
   "source": [
    "#Basic summary statistics\n",
    "user['views'].describe()"
   ]
  },
  {
   "cell_type": "markdown",
   "metadata": {
    "id": "Gi9BhH-aRgEF"
   },
   "source": [
    "The average number of views got for the user profile is 228.\n",
    "the maximum views rfeceived is 168194 and minimum is 0."
   ]
  },
  {
   "cell_type": "markdown",
   "metadata": {
    "id": "mvVvz3NTQqAg"
   },
   "source": [
    "# Noteworthy insights from univariate analysis\n",
    "\n",
    "\n",
    "*   Most of the questios asked and answered were by anonymous or guest users \n",
    "*   The average time taken from the creation to closure of a question is about 138 days\n",
    "\n",
    "*   The average scores given for the questions and answers were 1.75 and 2.46\n",
    "*   The most frequesntly asked question is related to the format of the input string being wrong\n",
    "\n",
    "*   Out of 37035 unique tags the most used tags are javascript and java. This comprised about 3% of the total tags\n",
    "*   Most of the signed up user never accessed the website after signing up. \n",
    "\n",
    "*   The average reputation score given to the users is around 1954.35\n",
    "*   The average up votes received by users is 192\n",
    "\n",
    "*   The average down votes received by users is 27\n",
    "*   The average number of views got for user profile is 228\n",
    "\n",
    "\n",
    "\n",
    "\n",
    "\n",
    "\n",
    "\n",
    "\n",
    "\n",
    "\n"
   ]
  },
  {
   "cell_type": "markdown",
   "metadata": {
    "id": "ooAFsTmTRr9s"
   },
   "source": [
    "# Bivariate Analysis"
   ]
  },
  {
   "cell_type": "markdown",
   "metadata": {
    "id": "sBlOsFRAPbNm"
   },
   "source": [
    "The Datasets question, answer and tags have not much to do in Bivariate analysis. Insights can only be obtained by merging these dataseta.\n",
    "But User dataset have some interest varables and bivariate analysis will be possible."
   ]
  },
  {
   "cell_type": "code",
   "execution_count": 97,
   "metadata": {
    "colab": {
     "base_uri": "https://localhost:8080/",
     "height": 294
    },
    "id": "MyrmyhtANJT2",
    "outputId": "f2f5c9ea-ddc9-4486-ed34-c0f488e11801"
   },
   "outputs": [
    {
     "data": {
      "text/html": [
       "<div>\n",
       "<style scoped>\n",
       "    .dataframe tbody tr th:only-of-type {\n",
       "        vertical-align: middle;\n",
       "    }\n",
       "\n",
       "    .dataframe tbody tr th {\n",
       "        vertical-align: top;\n",
       "    }\n",
       "\n",
       "    .dataframe thead th {\n",
       "        text-align: right;\n",
       "    }\n",
       "</style>\n",
       "<table border=\"1\" class=\"dataframe\">\n",
       "  <thead>\n",
       "    <tr style=\"text-align: right;\">\n",
       "      <th></th>\n",
       "      <th>id</th>\n",
       "      <th>reputation</th>\n",
       "      <th>up_votes</th>\n",
       "      <th>down_votes</th>\n",
       "      <th>views</th>\n",
       "      <th>ActiveTime</th>\n",
       "    </tr>\n",
       "  </thead>\n",
       "  <tbody>\n",
       "    <tr>\n",
       "      <th>count</th>\n",
       "      <td>4.654280e+05</td>\n",
       "      <td>465428.000000</td>\n",
       "      <td>465428.000000</td>\n",
       "      <td>465428.000000</td>\n",
       "      <td>465428.000000</td>\n",
       "      <td>465428</td>\n",
       "    </tr>\n",
       "    <tr>\n",
       "      <th>mean</th>\n",
       "      <td>2.250229e+06</td>\n",
       "      <td>1954.355778</td>\n",
       "      <td>191.772096</td>\n",
       "      <td>26.839447</td>\n",
       "      <td>227.833203</td>\n",
       "      <td>1974 days 03:56:22.917348192</td>\n",
       "    </tr>\n",
       "    <tr>\n",
       "      <th>std</th>\n",
       "      <td>1.789194e+06</td>\n",
       "      <td>10192.231820</td>\n",
       "      <td>603.189415</td>\n",
       "      <td>389.317948</td>\n",
       "      <td>1403.367208</td>\n",
       "      <td>1082 days 17:53:46.408574368</td>\n",
       "    </tr>\n",
       "    <tr>\n",
       "      <th>min</th>\n",
       "      <td>3.000000e+00</td>\n",
       "      <td>1.000000</td>\n",
       "      <td>0.000000</td>\n",
       "      <td>0.000000</td>\n",
       "      <td>0.000000</td>\n",
       "      <td>0 days 00:00:00</td>\n",
       "    </tr>\n",
       "    <tr>\n",
       "      <th>25%</th>\n",
       "      <td>7.665438e+05</td>\n",
       "      <td>66.000000</td>\n",
       "      <td>3.000000</td>\n",
       "      <td>0.000000</td>\n",
       "      <td>12.000000</td>\n",
       "      <td>1221 days 00:40:07.410250</td>\n",
       "    </tr>\n",
       "    <tr>\n",
       "      <th>50%</th>\n",
       "      <td>1.774630e+06</td>\n",
       "      <td>353.000000</td>\n",
       "      <td>26.000000</td>\n",
       "      <td>0.000000</td>\n",
       "      <td>45.000000</td>\n",
       "      <td>2107 days 13:08:23.875000</td>\n",
       "    </tr>\n",
       "    <tr>\n",
       "      <th>75%</th>\n",
       "      <td>3.478606e+06</td>\n",
       "      <td>1164.000000</td>\n",
       "      <td>130.000000</td>\n",
       "      <td>5.000000</td>\n",
       "      <td>144.000000</td>\n",
       "      <td>2787 days 01:09:09.338500</td>\n",
       "    </tr>\n",
       "    <tr>\n",
       "      <th>max</th>\n",
       "      <td>7.045028e+06</td>\n",
       "      <td>732984.000000</td>\n",
       "      <td>33777.000000</td>\n",
       "      <td>39975.000000</td>\n",
       "      <td>168194.000000</td>\n",
       "      <td>4048 days 13:40:47.583000</td>\n",
       "    </tr>\n",
       "  </tbody>\n",
       "</table>\n",
       "</div>"
      ],
      "text/plain": [
       "                 id     reputation       up_votes     down_votes  \\\n",
       "count  4.654280e+05  465428.000000  465428.000000  465428.000000   \n",
       "mean   2.250229e+06    1954.355778     191.772096      26.839447   \n",
       "std    1.789194e+06   10192.231820     603.189415     389.317948   \n",
       "min    3.000000e+00       1.000000       0.000000       0.000000   \n",
       "25%    7.665438e+05      66.000000       3.000000       0.000000   \n",
       "50%    1.774630e+06     353.000000      26.000000       0.000000   \n",
       "75%    3.478606e+06    1164.000000     130.000000       5.000000   \n",
       "max    7.045028e+06  732984.000000   33777.000000   39975.000000   \n",
       "\n",
       "               views                    ActiveTime  \n",
       "count  465428.000000                        465428  \n",
       "mean      227.833203  1974 days 03:56:22.917348192  \n",
       "std      1403.367208  1082 days 17:53:46.408574368  \n",
       "min         0.000000               0 days 00:00:00  \n",
       "25%        12.000000     1221 days 00:40:07.410250  \n",
       "50%        45.000000     2107 days 13:08:23.875000  \n",
       "75%       144.000000     2787 days 01:09:09.338500  \n",
       "max    168194.000000     4048 days 13:40:47.583000  "
      ]
     },
     "execution_count": 97,
     "metadata": {},
     "output_type": "execute_result"
    }
   ],
   "source": [
    "#Basic Summary statistics\n",
    "user.describe()"
   ]
  },
  {
   "cell_type": "code",
   "execution_count": 98,
   "metadata": {
    "colab": {
     "base_uri": "https://localhost:8080/",
     "height": 281
    },
    "id": "bV-MFjB4bZ7C",
    "outputId": "54798178-3ea9-4905-ceec-78ab72b2b3c9"
   },
   "outputs": [
    {
     "data": {
      "image/png": "[encoded data removed]",
      "text/plain": [
       "<Figure size 432x288 with 1 Axes>"
      ]
     },
     "metadata": {
      "needs_background": "light"
     },
     "output_type": "display_data"
    }
   ],
   "source": [
    "#Checking whether there is correlation between reputation and upvotes\n",
    "sns.scatterplot(data=user, x='reputation', y='up_votes')\n",
    "plt.show()"
   ]
  },
  {
   "cell_type": "markdown",
   "metadata": {
    "id": "4zwv2-TwQLDs"
   },
   "source": [
    "There is no significant correlation here"
   ]
  },
  {
   "cell_type": "code",
   "execution_count": 99,
   "metadata": {
    "colab": {
     "base_uri": "https://localhost:8080/",
     "height": 281
    },
    "id": "AqvN3yzeQjAB",
    "outputId": "a82b0673-db1f-4aeb-e2ce-38f5951a8364"
   },
   "outputs": [
    {
     "data": {
      "image/png": "[encoded data removed]",
      "text/plain": [
       "<Figure size 432x288 with 1 Axes>"
      ]
     },
     "metadata": {
      "needs_background": "light"
     },
     "output_type": "display_data"
    }
   ],
   "source": [
    "#Checking whether there is correlation between reputation and views\n",
    "sns.scatterplot(data=user, x='reputation', y='views')\n",
    "plt.show()"
   ]
  },
  {
   "cell_type": "markdown",
   "metadata": {
    "id": "79k8K0XTQ0u4"
   },
   "source": [
    "There is a significant correlation between reputaion and views. As the Reputation of a user increases, the views to that user's profile is also increasing to a certain extent."
   ]
  },
  {
   "cell_type": "markdown",
   "metadata": {
    "id": "n1_rjp6zRFRX"
   },
   "source": [
    "# Multivariate Analysis"
   ]
  },
  {
   "cell_type": "markdown",
   "metadata": {
    "id": "9iOMt_S4RI9n"
   },
   "source": [
    "Multivariate analysis is done on user dataset only"
   ]
  },
  {
   "cell_type": "code",
   "execution_count": 100,
   "metadata": {
    "id": "dJyR18myXNs8"
   },
   "outputs": [],
   "source": [
    "#Subsetting user datset for multivariate analysis\n",
    "corrmatrix=user.iloc[:,4:8].corr()"
   ]
  },
  {
   "cell_type": "code",
   "execution_count": 101,
   "metadata": {
    "colab": {
     "base_uri": "https://localhost:8080/",
     "height": 270
    },
    "id": "rLu32rHvXTB6",
    "outputId": "6d72ce1b-2916-40d6-f251-5cf440038a89"
   },
   "outputs": [
    {
     "data": {
      "image/png": "[encoded data removed]",
      "text/plain": [
       "<Figure size 432x288 with 2 Axes>"
      ]
     },
     "metadata": {
      "needs_background": "light"
     },
     "output_type": "display_data"
    }
   ],
   "source": [
    "#Plotting correlation matrix\n",
    "sns.heatmap(corrmatrix, annot=True, cmap='YlGnBu', center=0.6)\n",
    "plt.show()"
   ]
  },
  {
   "cell_type": "markdown",
   "metadata": {
    "id": "Bm6-WhulRa2O"
   },
   "source": [
    "It can be seen that there is strong correlation between reputation and views not much correlation amoung other variables."
   ]
  },
  {
   "cell_type": "markdown",
   "metadata": {
    "id": "RG9-kDXlRm8m"
   },
   "source": [
    "# Problem statement and their solutions"
   ]
  },
  {
   "cell_type": "markdown",
   "metadata": {
    "id": "SlLQz-i3beMF"
   },
   "source": [
    "### **Problem 1:** When a user raises a question with a data science tag ('python', 'r', 'matlab', 'sas', 'excel', 'sql'), then Stack Overflow sends the notification to the relevant users."
   ]
  },
  {
   "cell_type": "markdown",
   "metadata": {
    "id": "TZEw4WvQSH_B"
   },
   "source": [
    "**Solution:**\n",
    "To answer this question we need to merge question, tag and answer datasets"
   ]
  },
  {
   "cell_type": "code",
   "execution_count": 102,
   "metadata": {
    "colab": {
     "base_uri": "https://localhost:8080/",
     "height": 289
    },
    "id": "cuMGDGGqkqtm",
    "outputId": "784a6792-23c1-4318-de4e-ef11b6d4547e"
   },
   "outputs": [
    {
     "data": {
      "text/html": [
       "<div>\n",
       "<style scoped>\n",
       "    .dataframe tbody tr th:only-of-type {\n",
       "        vertical-align: middle;\n",
       "    }\n",
       "\n",
       "    .dataframe tbody tr th {\n",
       "        vertical-align: top;\n",
       "    }\n",
       "\n",
       "    .dataframe thead th {\n",
       "        text-align: right;\n",
       "    }\n",
       "</style>\n",
       "<table border=\"1\" class=\"dataframe\">\n",
       "  <thead>\n",
       "    <tr style=\"text-align: right;\">\n",
       "      <th></th>\n",
       "      <th>Id</th>\n",
       "      <th>Tag</th>\n",
       "      <th>OwnerUserId</th>\n",
       "      <th>CreationDate</th>\n",
       "      <th>ClosedDate</th>\n",
       "      <th>Score</th>\n",
       "      <th>Title</th>\n",
       "      <th>Body</th>\n",
       "      <th>TimeTaken</th>\n",
       "    </tr>\n",
       "  </thead>\n",
       "  <tbody>\n",
       "    <tr>\n",
       "      <th>0</th>\n",
       "      <td>80</td>\n",
       "      <td>flex</td>\n",
       "      <td>26.0</td>\n",
       "      <td>2008-08-01 13:57:07+00:00</td>\n",
       "      <td>NaT</td>\n",
       "      <td>26</td>\n",
       "      <td>SQLStatement.execute() - multiple queries in o...</td>\n",
       "      <td>&lt;p&gt;I've written a database generation script i...</td>\n",
       "      <td>NaT</td>\n",
       "    </tr>\n",
       "    <tr>\n",
       "      <th>1</th>\n",
       "      <td>80</td>\n",
       "      <td>actionscript-3</td>\n",
       "      <td>26.0</td>\n",
       "      <td>2008-08-01 13:57:07+00:00</td>\n",
       "      <td>NaT</td>\n",
       "      <td>26</td>\n",
       "      <td>SQLStatement.execute() - multiple queries in o...</td>\n",
       "      <td>&lt;p&gt;I've written a database generation script i...</td>\n",
       "      <td>NaT</td>\n",
       "    </tr>\n",
       "    <tr>\n",
       "      <th>2</th>\n",
       "      <td>80</td>\n",
       "      <td>air</td>\n",
       "      <td>26.0</td>\n",
       "      <td>2008-08-01 13:57:07+00:00</td>\n",
       "      <td>NaT</td>\n",
       "      <td>26</td>\n",
       "      <td>SQLStatement.execute() - multiple queries in o...</td>\n",
       "      <td>&lt;p&gt;I've written a database generation script i...</td>\n",
       "      <td>NaT</td>\n",
       "    </tr>\n",
       "    <tr>\n",
       "      <th>3</th>\n",
       "      <td>90</td>\n",
       "      <td>svn</td>\n",
       "      <td>58.0</td>\n",
       "      <td>2008-08-01 14:41:24+00:00</td>\n",
       "      <td>2012-12-26 03:45:49+00:00</td>\n",
       "      <td>144</td>\n",
       "      <td>Good branching and merging tutorials for Torto...</td>\n",
       "      <td>&lt;p&gt;Are there any really good tutorials explain...</td>\n",
       "      <td>1607 days 13:04:25</td>\n",
       "    </tr>\n",
       "    <tr>\n",
       "      <th>4</th>\n",
       "      <td>90</td>\n",
       "      <td>tortoisesvn</td>\n",
       "      <td>58.0</td>\n",
       "      <td>2008-08-01 14:41:24+00:00</td>\n",
       "      <td>2012-12-26 03:45:49+00:00</td>\n",
       "      <td>144</td>\n",
       "      <td>Good branching and merging tutorials for Torto...</td>\n",
       "      <td>&lt;p&gt;Are there any really good tutorials explain...</td>\n",
       "      <td>1607 days 13:04:25</td>\n",
       "    </tr>\n",
       "  </tbody>\n",
       "</table>\n",
       "</div>"
      ],
      "text/plain": [
       "   Id             Tag  OwnerUserId              CreationDate  \\\n",
       "0  80            flex         26.0 2008-08-01 13:57:07+00:00   \n",
       "1  80  actionscript-3         26.0 2008-08-01 13:57:07+00:00   \n",
       "2  80             air         26.0 2008-08-01 13:57:07+00:00   \n",
       "3  90             svn         58.0 2008-08-01 14:41:24+00:00   \n",
       "4  90     tortoisesvn         58.0 2008-08-01 14:41:24+00:00   \n",
       "\n",
       "                 ClosedDate  Score  \\\n",
       "0                       NaT     26   \n",
       "1                       NaT     26   \n",
       "2                       NaT     26   \n",
       "3 2012-12-26 03:45:49+00:00    144   \n",
       "4 2012-12-26 03:45:49+00:00    144   \n",
       "\n",
       "                                               Title  \\\n",
       "0  SQLStatement.execute() - multiple queries in o...   \n",
       "1  SQLStatement.execute() - multiple queries in o...   \n",
       "2  SQLStatement.execute() - multiple queries in o...   \n",
       "3  Good branching and merging tutorials for Torto...   \n",
       "4  Good branching and merging tutorials for Torto...   \n",
       "\n",
       "                                                Body          TimeTaken  \n",
       "0  <p>I've written a database generation script i...                NaT  \n",
       "1  <p>I've written a database generation script i...                NaT  \n",
       "2  <p>I've written a database generation script i...                NaT  \n",
       "3  <p>Are there any really good tutorials explain... 1607 days 13:04:25  \n",
       "4  <p>Are there any really good tutorials explain... 1607 days 13:04:25  "
      ]
     },
     "execution_count": 102,
     "metadata": {},
     "output_type": "execute_result"
    }
   ],
   "source": [
    "#Merging tag and question dataset\n",
    "questiontag=pd.merge(tag,question, on='Id')\n",
    "questiontag.head()"
   ]
  },
  {
   "cell_type": "code",
   "execution_count": 103,
   "metadata": {
    "id": "ANp9Ck8uX2UV"
   },
   "outputs": [],
   "source": [
    "#Merging answer dataset to the above merged question dataset\n",
    "df1=pd.merge(questiontag, answer, left_on='Id', right_on='ParentId')"
   ]
  },
  {
   "cell_type": "code",
   "execution_count": 104,
   "metadata": {
    "id": "KvpVvtuKnPDh"
   },
   "outputs": [],
   "source": [
    "#Definig a list consisting of dat science tags to filter the dataset\n",
    "ds=['python', 'r', 'matlab', 'sas', 'excel', 'sql']"
   ]
  },
  {
   "cell_type": "code",
   "execution_count": 105,
   "metadata": {
    "colab": {
     "base_uri": "https://localhost:8080/",
     "height": 621
    },
    "id": "1qEBx2RWsl26",
    "outputId": "b08066e9-c89e-4f8e-cae8-4ed4d1a02a23"
   },
   "outputs": [
    {
     "data": {
      "text/html": [
       "<div>\n",
       "<style scoped>\n",
       "    .dataframe tbody tr th:only-of-type {\n",
       "        vertical-align: middle;\n",
       "    }\n",
       "\n",
       "    .dataframe tbody tr th {\n",
       "        vertical-align: top;\n",
       "    }\n",
       "\n",
       "    .dataframe thead th {\n",
       "        text-align: right;\n",
       "    }\n",
       "</style>\n",
       "<table border=\"1\" class=\"dataframe\">\n",
       "  <thead>\n",
       "    <tr style=\"text-align: right;\">\n",
       "      <th></th>\n",
       "      <th>Id_x</th>\n",
       "      <th>Tag</th>\n",
       "      <th>OwnerUserId_x</th>\n",
       "      <th>CreationDate_x</th>\n",
       "      <th>ClosedDate</th>\n",
       "      <th>Score_x</th>\n",
       "      <th>Title</th>\n",
       "      <th>Body_x</th>\n",
       "      <th>TimeTaken</th>\n",
       "      <th>Id_y</th>\n",
       "      <th>OwnerUserId_y</th>\n",
       "      <th>CreationDate_y</th>\n",
       "      <th>ParentId</th>\n",
       "      <th>Score_y</th>\n",
       "      <th>Body_y</th>\n",
       "    </tr>\n",
       "  </thead>\n",
       "  <tbody>\n",
       "    <tr>\n",
       "      <th>21</th>\n",
       "      <td>120</td>\n",
       "      <td>sql</td>\n",
       "      <td>83.0</td>\n",
       "      <td>2008-08-01 15:50:08+00:00</td>\n",
       "      <td>NaT</td>\n",
       "      <td>21</td>\n",
       "      <td>ASP.NET Site Maps</td>\n",
       "      <td>&lt;p&gt;Has anyone got experience creating &lt;strong&gt;...</td>\n",
       "      <td>NaT</td>\n",
       "      <td>124363</td>\n",
       "      <td>12734.0</td>\n",
       "      <td>2008-09-23 22:41:11+00:00</td>\n",
       "      <td>120</td>\n",
       "      <td>9</td>\n",
       "      <td>&lt;p&gt;The Jeff Prosise version from MSDN magazine...</td>\n",
       "    </tr>\n",
       "    <tr>\n",
       "      <th>450</th>\n",
       "      <td>1970</td>\n",
       "      <td>sql</td>\n",
       "      <td>116.0</td>\n",
       "      <td>2008-08-05 06:39:31+00:00</td>\n",
       "      <td>NaT</td>\n",
       "      <td>10</td>\n",
       "      <td>What language do you use for PostgreSQL trigge...</td>\n",
       "      <td>&lt;p&gt;PostgreSQL is interesting in that it suppor...</td>\n",
       "      <td>NaT</td>\n",
       "      <td>1971</td>\n",
       "      <td>269.0</td>\n",
       "      <td>2008-08-05 06:43:30+00:00</td>\n",
       "      <td>1970</td>\n",
       "      <td>3</td>\n",
       "      <td>&lt;p&gt;When I wrote my first trigger it was in Per...</td>\n",
       "    </tr>\n",
       "    <tr>\n",
       "      <th>451</th>\n",
       "      <td>1970</td>\n",
       "      <td>sql</td>\n",
       "      <td>116.0</td>\n",
       "      <td>2008-08-05 06:39:31+00:00</td>\n",
       "      <td>NaT</td>\n",
       "      <td>10</td>\n",
       "      <td>What language do you use for PostgreSQL trigge...</td>\n",
       "      <td>&lt;p&gt;PostgreSQL is interesting in that it suppor...</td>\n",
       "      <td>NaT</td>\n",
       "      <td>3454</td>\n",
       "      <td>277.0</td>\n",
       "      <td>2008-08-06 14:26:08+00:00</td>\n",
       "      <td>1970</td>\n",
       "      <td>5</td>\n",
       "      <td>&lt;p&gt;I have only really used PL/pgSQL, but that ...</td>\n",
       "    </tr>\n",
       "    <tr>\n",
       "      <th>452</th>\n",
       "      <td>1970</td>\n",
       "      <td>sql</td>\n",
       "      <td>116.0</td>\n",
       "      <td>2008-08-05 06:39:31+00:00</td>\n",
       "      <td>NaT</td>\n",
       "      <td>10</td>\n",
       "      <td>What language do you use for PostgreSQL trigge...</td>\n",
       "      <td>&lt;p&gt;PostgreSQL is interesting in that it suppor...</td>\n",
       "      <td>NaT</td>\n",
       "      <td>59345</td>\n",
       "      <td>1081.0</td>\n",
       "      <td>2008-09-12 15:39:39+00:00</td>\n",
       "      <td>1970</td>\n",
       "      <td>2</td>\n",
       "      <td>&lt;p&gt;Skype uses &lt;strong&gt;PostgreSQL&lt;/strong&gt; toge...</td>\n",
       "    </tr>\n",
       "    <tr>\n",
       "      <th>453</th>\n",
       "      <td>1970</td>\n",
       "      <td>sql</td>\n",
       "      <td>116.0</td>\n",
       "      <td>2008-08-05 06:39:31+00:00</td>\n",
       "      <td>NaT</td>\n",
       "      <td>10</td>\n",
       "      <td>What language do you use for PostgreSQL trigge...</td>\n",
       "      <td>&lt;p&gt;PostgreSQL is interesting in that it suppor...</td>\n",
       "      <td>NaT</td>\n",
       "      <td>69641</td>\n",
       "      <td>11116.0</td>\n",
       "      <td>2008-09-16 05:43:22+00:00</td>\n",
       "      <td>1970</td>\n",
       "      <td>4</td>\n",
       "      <td>&lt;p&gt;I write pretty much everything in plpgsql, ...</td>\n",
       "    </tr>\n",
       "  </tbody>\n",
       "</table>\n",
       "</div>"
      ],
      "text/plain": [
       "     Id_x  Tag  OwnerUserId_x            CreationDate_x ClosedDate  Score_x  \\\n",
       "21    120  sql           83.0 2008-08-01 15:50:08+00:00        NaT       21   \n",
       "450  1970  sql          116.0 2008-08-05 06:39:31+00:00        NaT       10   \n",
       "451  1970  sql          116.0 2008-08-05 06:39:31+00:00        NaT       10   \n",
       "452  1970  sql          116.0 2008-08-05 06:39:31+00:00        NaT       10   \n",
       "453  1970  sql          116.0 2008-08-05 06:39:31+00:00        NaT       10   \n",
       "\n",
       "                                                 Title  \\\n",
       "21                                   ASP.NET Site Maps   \n",
       "450  What language do you use for PostgreSQL trigge...   \n",
       "451  What language do you use for PostgreSQL trigge...   \n",
       "452  What language do you use for PostgreSQL trigge...   \n",
       "453  What language do you use for PostgreSQL trigge...   \n",
       "\n",
       "                                                Body_x TimeTaken    Id_y  \\\n",
       "21   <p>Has anyone got experience creating <strong>...       NaT  124363   \n",
       "450  <p>PostgreSQL is interesting in that it suppor...       NaT    1971   \n",
       "451  <p>PostgreSQL is interesting in that it suppor...       NaT    3454   \n",
       "452  <p>PostgreSQL is interesting in that it suppor...       NaT   59345   \n",
       "453  <p>PostgreSQL is interesting in that it suppor...       NaT   69641   \n",
       "\n",
       "     OwnerUserId_y            CreationDate_y  ParentId  Score_y  \\\n",
       "21         12734.0 2008-09-23 22:41:11+00:00       120        9   \n",
       "450          269.0 2008-08-05 06:43:30+00:00      1970        3   \n",
       "451          277.0 2008-08-06 14:26:08+00:00      1970        5   \n",
       "452         1081.0 2008-09-12 15:39:39+00:00      1970        2   \n",
       "453        11116.0 2008-09-16 05:43:22+00:00      1970        4   \n",
       "\n",
       "                                                Body_y  \n",
       "21   <p>The Jeff Prosise version from MSDN magazine...  \n",
       "450  <p>When I wrote my first trigger it was in Per...  \n",
       "451  <p>I have only really used PL/pgSQL, but that ...  \n",
       "452  <p>Skype uses <strong>PostgreSQL</strong> toge...  \n",
       "453  <p>I write pretty much everything in plpgsql, ...  "
      ]
     },
     "execution_count": 105,
     "metadata": {},
     "output_type": "execute_result"
    }
   ],
   "source": [
    "#Filtering the final dataset to only datascience tags\n",
    "df1=df1[df1['Tag'].isin(ds)]\n",
    "df1.head()"
   ]
  },
  {
   "cell_type": "code",
   "execution_count": 106,
   "metadata": {
    "colab": {
     "base_uri": "https://localhost:8080/",
     "height": 202
    },
    "id": "_1cqfhwExEuq",
    "outputId": "53fa1424-96cc-41b5-e165-1f537442d06d"
   },
   "outputs": [
    {
     "data": {
      "text/html": [
       "<div>\n",
       "<style scoped>\n",
       "    .dataframe tbody tr th:only-of-type {\n",
       "        vertical-align: middle;\n",
       "    }\n",
       "\n",
       "    .dataframe tbody tr th {\n",
       "        vertical-align: top;\n",
       "    }\n",
       "\n",
       "    .dataframe thead th {\n",
       "        text-align: right;\n",
       "    }\n",
       "</style>\n",
       "<table border=\"1\" class=\"dataframe\">\n",
       "  <thead>\n",
       "    <tr style=\"text-align: right;\">\n",
       "      <th></th>\n",
       "      <th>Tag</th>\n",
       "      <th>UserId</th>\n",
       "      <th>Question Count</th>\n",
       "    </tr>\n",
       "  </thead>\n",
       "  <tbody>\n",
       "    <tr>\n",
       "      <th>0</th>\n",
       "      <td>excel</td>\n",
       "      <td>2474656.0</td>\n",
       "      <td>262</td>\n",
       "    </tr>\n",
       "    <tr>\n",
       "      <th>1</th>\n",
       "      <td>excel</td>\n",
       "      <td>1505120.0</td>\n",
       "      <td>257</td>\n",
       "    </tr>\n",
       "    <tr>\n",
       "      <th>2</th>\n",
       "      <td>excel</td>\n",
       "      <td>4039065.0</td>\n",
       "      <td>222</td>\n",
       "    </tr>\n",
       "    <tr>\n",
       "      <th>3</th>\n",
       "      <td>excel</td>\n",
       "      <td>1140579.0</td>\n",
       "      <td>156</td>\n",
       "    </tr>\n",
       "    <tr>\n",
       "      <th>4</th>\n",
       "      <td>excel</td>\n",
       "      <td>478884.0</td>\n",
       "      <td>139</td>\n",
       "    </tr>\n",
       "  </tbody>\n",
       "</table>\n",
       "</div>"
      ],
      "text/plain": [
       "     Tag     UserId  Question Count\n",
       "0  excel  2474656.0             262\n",
       "1  excel  1505120.0             257\n",
       "2  excel  4039065.0             222\n",
       "3  excel  1140579.0             156\n",
       "4  excel   478884.0             139"
      ]
     },
     "execution_count": 106,
     "metadata": {},
     "output_type": "execute_result"
    }
   ],
   "source": [
    "#Grouping dataset based on tags and popular user who have answered\n",
    "result1=(df1.groupby(['Tag'])['OwnerUserId_y'].value_counts()).to_frame()\n",
    "\n",
    "#Renaming and fixing the column\n",
    "result1=result1.rename(columns={\"OwnerUserId_y\": \"Question Count\"})\n",
    "result1.reset_index(level=1, inplace=True)\n",
    "result1=result1.rename(columns={\"OwnerUserId_y\": \"UserId\"})\n",
    "result1.reset_index(level=0, inplace=True)\n",
    "#Final dataset\n",
    "result1.head()\n"
   ]
  },
  {
   "cell_type": "code",
   "execution_count": 107,
   "metadata": {
    "colab": {
     "base_uri": "https://localhost:8080/"
    },
    "id": "bCxwmogGdbtX",
    "outputId": "88cbb637-00fa-4ccc-cad5-f3c3ad143a6f"
   },
   "outputs": [
    {
     "data": {
      "text/plain": [
       "(1253, 3)"
      ]
     },
     "execution_count": 107,
     "metadata": {},
     "output_type": "execute_result"
    }
   ],
   "source": [
    "#Limiting the result to users who have answered at least 20 questions from the respective tags\n",
    "result1=result1[~(result1['Question Count']<20)]\n",
    "\n",
    "#Shape of dataset\n",
    "result1.shape"
   ]
  },
  {
   "cell_type": "code",
   "execution_count": 108,
   "metadata": {
    "id": "KWR7TAhfdmeI"
   },
   "outputs": [],
   "source": [
    "#Changing the result to a list\n",
    "r1=result1.iloc[:,0:2]\n",
    "notification_user=r1.values.tolist()"
   ]
  },
  {
   "cell_type": "markdown",
   "metadata": {
    "id": "skv5i4sASDgP"
   },
   "source": [
    "### **Problem 2**: When a user provides a data science tag ('python', 'r', 'matlab', 'sas', 'excel', 'sql') to their question, then Stack Overflow should come up with the expected approximate time to get it answered."
   ]
  },
  {
   "cell_type": "markdown",
   "metadata": {
    "id": "1pLc8CknWZLI"
   },
   "source": [
    "Solution: The minumum time taken for a responce to the posted question can be found by the time difference between posting and answering the question. \n",
    "The same merged dataset can be used in this case also"
   ]
  },
  {
   "cell_type": "code",
   "execution_count": 109,
   "metadata": {
    "colab": {
     "base_uri": "https://localhost:8080/",
     "height": 233
    },
    "id": "Ni-mnhTGizv-",
    "outputId": "126cc736-2bdf-41d2-f3b0-75061ec98bc0"
   },
   "outputs": [
    {
     "data": {
      "text/html": [
       "<div>\n",
       "<style scoped>\n",
       "    .dataframe tbody tr th:only-of-type {\n",
       "        vertical-align: middle;\n",
       "    }\n",
       "\n",
       "    .dataframe tbody tr th {\n",
       "        vertical-align: top;\n",
       "    }\n",
       "\n",
       "    .dataframe thead th {\n",
       "        text-align: right;\n",
       "    }\n",
       "</style>\n",
       "<table border=\"1\" class=\"dataframe\">\n",
       "  <thead>\n",
       "    <tr style=\"text-align: right;\">\n",
       "      <th></th>\n",
       "      <th>ResponceTime</th>\n",
       "    </tr>\n",
       "    <tr>\n",
       "      <th>Tag</th>\n",
       "      <th></th>\n",
       "    </tr>\n",
       "  </thead>\n",
       "  <tbody>\n",
       "    <tr>\n",
       "      <th>excel</th>\n",
       "      <td>16</td>\n",
       "    </tr>\n",
       "    <tr>\n",
       "      <th>matlab</th>\n",
       "      <td>44</td>\n",
       "    </tr>\n",
       "    <tr>\n",
       "      <th>python</th>\n",
       "      <td>1</td>\n",
       "    </tr>\n",
       "    <tr>\n",
       "      <th>r</th>\n",
       "      <td>19</td>\n",
       "    </tr>\n",
       "    <tr>\n",
       "      <th>sas</th>\n",
       "      <td>116</td>\n",
       "    </tr>\n",
       "  </tbody>\n",
       "</table>\n",
       "</div>"
      ],
      "text/plain": [
       "        ResponceTime\n",
       "Tag                 \n",
       "excel             16\n",
       "matlab            44\n",
       "python             1\n",
       "r                 19\n",
       "sas              116"
      ]
     },
     "execution_count": 109,
     "metadata": {},
     "output_type": "execute_result"
    }
   ],
   "source": [
    "#Calculating the time between the creation and answering of the question\n",
    "df1['ResponceTime']= df1['CreationDate_y']-df1['CreationDate_x']\n",
    "\n",
    "#Importing module for proper time formatting\n",
    "import datetime as dt\n",
    "\n",
    "#limiting the values of responce time to only legit values\n",
    "df2=df1[(df1['ResponceTime']>(pd.Timedelta('0 days')))]\n",
    "\n",
    "#Grouping the responcs time based on tags and their minimum values\n",
    "result2=(df2.groupby(['Tag'])['ResponceTime'].min()).to_frame()\n",
    "\n",
    "#converting the time in seconds\n",
    "result2['ResponceTime']=result2['ResponceTime'].dt.seconds\n",
    "result2.head()"
   ]
  },
  {
   "cell_type": "code",
   "execution_count": 110,
   "metadata": {
    "id": "ccltwM2LtQpi"
   },
   "outputs": [],
   "source": [
    "#reindexing and fixing the column to get a proper dataset\n",
    "result2.reset_index(level=0, inplace=True)\n",
    "\n",
    "#shape of dataset\n",
    "result2.shape\n",
    "\n",
    "#Changing the result to list\n",
    "min_responce_time=result2.values.tolist()"
   ]
  },
  {
   "cell_type": "markdown",
   "metadata": {
    "id": "GnkQz766WIdK"
   },
   "source": [
    "### **Problem 3**: While a user raises a question, Stack Overflow wants to provide some suggestions to the users to get their queries answered quickly."
   ]
  },
  {
   "cell_type": "markdown",
   "metadata": {
    "id": "jZlMq293YRWR"
   },
   "source": [
    "Solution: To suggest tags for the newly posted question, we only need to run the apriori algotithm to find the frequently occuring tags"
   ]
  },
  {
   "cell_type": "code",
   "execution_count": 111,
   "metadata": {
    "colab": {
     "base_uri": "https://localhost:8080/",
     "height": 202
    },
    "id": "7aBuhJbWA_fb",
    "outputId": "33ebe309-3073-4185-c8e5-d9dada2a6457"
   },
   "outputs": [
    {
     "data": {
      "text/html": [
       "<div>\n",
       "<style scoped>\n",
       "    .dataframe tbody tr th:only-of-type {\n",
       "        vertical-align: middle;\n",
       "    }\n",
       "\n",
       "    .dataframe tbody tr th {\n",
       "        vertical-align: top;\n",
       "    }\n",
       "\n",
       "    .dataframe thead th {\n",
       "        text-align: right;\n",
       "    }\n",
       "</style>\n",
       "<table border=\"1\" class=\"dataframe\">\n",
       "  <thead>\n",
       "    <tr style=\"text-align: right;\">\n",
       "      <th></th>\n",
       "      <th>Id</th>\n",
       "      <th>Tag</th>\n",
       "    </tr>\n",
       "  </thead>\n",
       "  <tbody>\n",
       "    <tr>\n",
       "      <th>0</th>\n",
       "      <td>80</td>\n",
       "      <td>flex,actionscript-3,air</td>\n",
       "    </tr>\n",
       "    <tr>\n",
       "      <th>1</th>\n",
       "      <td>90</td>\n",
       "      <td>svn,tortoisesvn,branch,branching-and-merging</td>\n",
       "    </tr>\n",
       "    <tr>\n",
       "      <th>2</th>\n",
       "      <td>120</td>\n",
       "      <td>sql,asp.net,sitemap</td>\n",
       "    </tr>\n",
       "    <tr>\n",
       "      <th>3</th>\n",
       "      <td>180</td>\n",
       "      <td>algorithm,language-agnostic,colors,color-space</td>\n",
       "    </tr>\n",
       "    <tr>\n",
       "      <th>4</th>\n",
       "      <td>260</td>\n",
       "      <td>c#,.net,scripting,compiler-construction</td>\n",
       "    </tr>\n",
       "  </tbody>\n",
       "</table>\n",
       "</div>"
      ],
      "text/plain": [
       "    Id                                             Tag\n",
       "0   80                         flex,actionscript-3,air\n",
       "1   90    svn,tortoisesvn,branch,branching-and-merging\n",
       "2  120                             sql,asp.net,sitemap\n",
       "3  180  algorithm,language-agnostic,colors,color-space\n",
       "4  260         c#,.net,scripting,compiler-construction"
      ]
     },
     "execution_count": 111,
     "metadata": {},
     "output_type": "execute_result"
    }
   ],
   "source": [
    "#aggregating tags under single questionId\n",
    "result3=tag.groupby(['Id'], as_index=False).agg(','.join)\n",
    "result3.head()"
   ]
  },
  {
   "cell_type": "code",
   "execution_count": 112,
   "metadata": {
    "id": "oAATAOsidO6k"
   },
   "outputs": [
    {
     "ename": "ModuleNotFoundError",
     "evalue": "No module named 'apyori'",
     "output_type": "error",
     "traceback": [
      "\u001b[0;31m---------------------------------------------------------------------------\u001b[0m",
      "\u001b[0;31mModuleNotFoundError\u001b[0m                       Traceback (most recent call last)",
      "\u001b[0;32m<ipython-input-112-5a5904c89128>\u001b[0m in \u001b[0;36m<module>\u001b[0;34m\u001b[0m\n\u001b[1;32m      1\u001b[0m \u001b[0;31m#Importing modules for applying the apriori algorithm\u001b[0m\u001b[0;34m\u001b[0m\u001b[0;34m\u001b[0m\u001b[0;34m\u001b[0m\u001b[0m\n\u001b[0;32m----> 2\u001b[0;31m \u001b[0;32mfrom\u001b[0m \u001b[0mapyori\u001b[0m \u001b[0;32mimport\u001b[0m \u001b[0mapriori\u001b[0m\u001b[0;34m\u001b[0m\u001b[0;34m\u001b[0m\u001b[0m\n\u001b[0m\u001b[1;32m      3\u001b[0m \u001b[0;34m\u001b[0m\u001b[0m\n\u001b[1;32m      4\u001b[0m \u001b[0;31m#Generating Apriori model\u001b[0m\u001b[0;34m\u001b[0m\u001b[0;34m\u001b[0m\u001b[0;34m\u001b[0m\u001b[0m\n\u001b[1;32m      5\u001b[0m \u001b[0;31m#Converting dataset into list\u001b[0m\u001b[0;34m\u001b[0m\u001b[0;34m\u001b[0m\u001b[0;34m\u001b[0m\u001b[0m\n",
      "\u001b[0;31mModuleNotFoundError\u001b[0m: No module named 'apyori'"
     ]
    }
   ],
   "source": [
    "#Importing modules for applying the apriori algorithm\n",
    "from apyori import apriori\n",
    "\n",
    "#Generating Apriori model\n",
    "#Converting dataset into list\n",
    "tags=[]\n",
    "for i in range(len(result3)):\n",
    "  tags.append([str(tag.values[i,j]) for j in range])\n"
   ]
  }
 ],
 "metadata": {
  "colab": {
   "collapsed_sections": [],
   "name": "CaseStudy.ipynb",
   "provenance": []
  },
  "kernelspec": {
   "display_name": "Python 3",
   "language": "python",
   "name": "python3"
  },
  "language_info": {
   "codemirror_mode": {
    "name": "ipython",
    "version": 3
   },
   "file_extension": ".py",
   "mimetype": "text/x-python",
   "name": "python",
   "nbconvert_exporter": "python",
   "pygments_lexer": "ipython3",
   "version": "3.7.9"
  }
 },
 "nbformat": 4,
 "nbformat_minor": 1
}
