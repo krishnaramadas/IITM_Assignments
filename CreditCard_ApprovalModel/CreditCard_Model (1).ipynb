{
 "cells": [
  {
   "cell_type": "markdown",
   "metadata": {},
   "source": [
    "# Credit Card Approval Case Study"
   ]
  },
  {
   "cell_type": "code",
   "execution_count": 36,
   "metadata": {},
   "outputs": [],
   "source": [
    "import os\n",
    "import sys\n",
    "# Here you need to have same Python version on your local machine and on worker node i.e. EC2. here both should have python3.\n",
    "os.environ[\"PYSPARK_PYTHON\"] = \"/bin/python3\"\n",
    "os.environ[\"JAVA_HOME\"] = \"/usr/java/jdk1.8.0_161/jre\"\n",
    "os.environ[\"SPARK_HOME\"] = \"/home/ec2-user/spark-2.4.4-bin-hadoop2.7\"\n",
    "os.environ[\"PYLIB\"] = os.environ[\"SPARK_HOME\"] + \"/python/lib\"\n",
    "sys.path.insert(0, os.environ[\"PYLIB\"] + \"/py4j-0.10.7-src.zip\")\n",
    "sys.path.insert(0, os.environ[\"PYLIB\"] + \"/pyspark.zip\")"
   ]
  },
  {
   "cell_type": "code",
   "execution_count": 37,
   "metadata": {},
   "outputs": [],
   "source": [
    "\n",
    "#Importing all necessary libraries\n",
    "import pandas as pd\n",
    "import numpy as np\n",
    "import seaborn as sns\n",
    "from matplotlib import pyplot as plt \n",
    "from pyspark.sql.functions import *\n",
    "import math\n",
    "\n",
    "#Creating Spark Session\n",
    "from pyspark.sql import *\n",
    "spark = SparkSession.builder.appName('CreditCard_Model').getOrCreate()"
   ]
  },
  {
   "cell_type": "markdown",
   "metadata": {},
   "source": [
    "## Step 1: Importing and Merging Data"
   ]
  },
  {
   "cell_type": "code",
   "execution_count": 38,
   "metadata": {},
   "outputs": [
    {
     "name": "stderr",
     "output_type": "stream",
     "text": [
      "[Stage 44:=============================>                            (1 + 1) / 2]"
     ]
    },
    {
     "name": "stdout",
     "output_type": "stream",
     "text": [
      "root\n",
      " |-- ID: integer (nullable = true)\n",
      " |-- CODE_GENDER: string (nullable = true)\n",
      " |-- FLAG_OWN_CAR: string (nullable = true)\n",
      " |-- FLAG_OWN_REALTY: string (nullable = true)\n",
      " |-- CNT_CHILDREN: integer (nullable = true)\n",
      " |-- AMT_INCOME_TOTAL: double (nullable = true)\n",
      " |-- NAME_INCOME_TYPE: string (nullable = true)\n",
      " |-- NAME_EDUCATION_TYPE: string (nullable = true)\n",
      " |-- NAME_FAMILY_STATUS: string (nullable = true)\n",
      " |-- NAME_HOUSING_TYPE: string (nullable = true)\n",
      " |-- DAYS_BIRTH: integer (nullable = true)\n",
      " |-- DAYS_EMPLOYED: integer (nullable = true)\n",
      " |-- FLAG_MOBIL: integer (nullable = true)\n",
      " |-- FLAG_WORK_PHONE: integer (nullable = true)\n",
      " |-- FLAG_PHONE: integer (nullable = true)\n",
      " |-- FLAG_EMAIL: integer (nullable = true)\n",
      " |-- OCCUPATION_TYPE: string (nullable = true)\n",
      " |-- CNT_FAM_MEMBERS: double (nullable = true)\n",
      "\n"
     ]
    },
    {
     "name": "stderr",
     "output_type": "stream",
     "text": [
      "                                                                                \r"
     ]
    }
   ],
   "source": [
    "#Reading Data from a CSV file \n",
    "#Inferring Schema and Setting Header as True\n",
    "df1=spark.read.csv('application_record.csv', header=True, inferSchema=True)\n",
    "#Printing Schema\n",
    "df1.printSchema()"
   ]
  },
  {
   "cell_type": "markdown",
   "metadata": {},
   "source": [
    "As we can see the variable CNT_FAM_MEMBER is given as double integer. it is clear that number of people cannot be a decimal or float number. So the datatype need to be cast as an integer."
   ]
  },
  {
   "cell_type": "code",
   "execution_count": 39,
   "metadata": {},
   "outputs": [],
   "source": [
    "#Convert the datatype of the column\n",
    "#Casting CNT_FAM_MEMBERS into integer\n",
    "from pyspark.sql.types import * \n",
    "df1 = df1.withColumn('CNT_FAM_MEMBERS', df1['CNT_FAM_MEMBERS'].cast(IntegerType()))"
   ]
  },
  {
   "cell_type": "code",
   "execution_count": 40,
   "metadata": {},
   "outputs": [
    {
     "name": "stdout",
     "output_type": "stream",
     "text": [
      "root\n",
      " |-- ID: integer (nullable = true)\n",
      " |-- MONTHS_BALANCE: integer (nullable = true)\n",
      " |-- STATUS: string (nullable = true)\n",
      "\n"
     ]
    },
    {
     "name": "stderr",
     "output_type": "stream",
     "text": [
      "                                                                                \r"
     ]
    }
   ],
   "source": [
    "#Reading Data from a CSV file \n",
    "#Inferring Schema and Setting Header as True\n",
    "df2=spark.read.csv('credit_record.csv', header=True, inferSchema=True)\n",
    "#Printing Schema\n",
    "df2.printSchema()"
   ]
  },
  {
   "cell_type": "code",
   "execution_count": 41,
   "metadata": {},
   "outputs": [
    {
     "name": "stdout",
     "output_type": "stream",
     "text": [
      "+-------+-----------+------------+---------------+------------+----------------+----------------+-------------------+------------------+-----------------+----------+-------------+----------+---------------+----------+----------+---------------+---------------+\n",
      "|     ID|CODE_GENDER|FLAG_OWN_CAR|FLAG_OWN_REALTY|CNT_CHILDREN|AMT_INCOME_TOTAL|NAME_INCOME_TYPE|NAME_EDUCATION_TYPE|NAME_FAMILY_STATUS|NAME_HOUSING_TYPE|DAYS_BIRTH|DAYS_EMPLOYED|FLAG_MOBIL|FLAG_WORK_PHONE|FLAG_PHONE|FLAG_EMAIL|OCCUPATION_TYPE|CNT_FAM_MEMBERS|\n",
      "+-------+-----------+------------+---------------+------------+----------------+----------------+-------------------+------------------+-----------------+----------+-------------+----------+---------------+----------+----------+---------------+---------------+\n",
      "|5008804|          M|           Y|              Y|           0|        427500.0|         Working|   Higher education|    Civil marriage| Rented apartment|    -12005|        -4542|         1|              1|         0|         0|           null|              2|\n",
      "|5008805|          M|           Y|              Y|           0|        427500.0|         Working|   Higher education|    Civil marriage| Rented apartment|    -12005|        -4542|         1|              1|         0|         0|           null|              2|\n",
      "+-------+-----------+------------+---------------+------------+----------------+----------------+-------------------+------------------+-----------------+----------+-------------+----------+---------------+----------+----------+---------------+---------------+\n",
      "only showing top 2 rows\n",
      "\n"
     ]
    }
   ],
   "source": [
    "#Data samples\n",
    "df1.show(2)"
   ]
  },
  {
   "cell_type": "code",
   "execution_count": 42,
   "metadata": {},
   "outputs": [
    {
     "name": "stdout",
     "output_type": "stream",
     "text": [
      "+-------+--------------+------+\n",
      "|     ID|MONTHS_BALANCE|STATUS|\n",
      "+-------+--------------+------+\n",
      "|5001711|             0|     X|\n",
      "|5001711|            -1|     0|\n",
      "|5001711|            -2|     0|\n",
      "|5001711|            -3|     0|\n",
      "|5001712|             0|     C|\n",
      "+-------+--------------+------+\n",
      "only showing top 5 rows\n",
      "\n"
     ]
    }
   ],
   "source": [
    "#Data samples\n",
    "df2.show(5)"
   ]
  },
  {
   "cell_type": "code",
   "execution_count": 43,
   "metadata": {},
   "outputs": [],
   "source": [
    "#dropping the column, since its only the months in which the data is extracted\n",
    "df2=df2.drop(\"MONTHS_BALANCE\")"
   ]
  },
  {
   "cell_type": "code",
   "execution_count": 44,
   "metadata": {},
   "outputs": [
    {
     "name": "stderr",
     "output_type": "stream",
     "text": [
      "[Stage 49:=============================>                            (1 + 1) / 2]"
     ]
    },
    {
     "name": "stdout",
     "output_type": "stream",
     "text": [
      "+----------+\n",
      "|sum(count)|\n",
      "+----------+\n",
      "|   1031869|\n",
      "+----------+\n",
      "\n"
     ]
    },
    {
     "name": "stderr",
     "output_type": "stream",
     "text": [
      "                                                                                \r"
     ]
    }
   ],
   "source": [
    "df2.groupBy(df2.columns).count().where(col('count') > 1).select(sum('count')).show()"
   ]
  },
  {
   "cell_type": "code",
   "execution_count": 45,
   "metadata": {},
   "outputs": [],
   "source": [
    "#dropping duplicates\n",
    "df2=df2.dropDuplicates()"
   ]
  },
  {
   "cell_type": "code",
   "execution_count": 46,
   "metadata": {},
   "outputs": [
    {
     "name": "stderr",
     "output_type": "stream",
     "text": [
      "[Stage 53:============================================>         (164 + 2) / 200]"
     ]
    },
    {
     "name": "stdout",
     "output_type": "stream",
     "text": [
      "+----------+\n",
      "|sum(count)|\n",
      "+----------+\n",
      "|      null|\n",
      "+----------+\n",
      "\n"
     ]
    },
    {
     "name": "stderr",
     "output_type": "stream",
     "text": [
      "                                                                                \r"
     ]
    }
   ],
   "source": [
    "df2.groupBy(df2.columns).count().where(col('count') > 1).select(sum('count')).show()"
   ]
  },
  {
   "cell_type": "markdown",
   "metadata": {},
   "source": [
    "### Combining all data files into one consolidated dataframe"
   ]
  },
  {
   "cell_type": "code",
   "execution_count": 47,
   "metadata": {},
   "outputs": [],
   "source": [
    "#merging the dataframes\n",
    "data=df1.join(df2, on=\"ID\", how=\"inner\")"
   ]
  },
  {
   "cell_type": "markdown",
   "metadata": {},
   "source": [
    "## Step 2: Inspecting the Dataframe"
   ]
  },
  {
   "cell_type": "code",
   "execution_count": 48,
   "metadata": {},
   "outputs": [
    {
     "name": "stderr",
     "output_type": "stream",
     "text": [
      "[Stage 57:================================================>     (181 + 2) / 200]"
     ]
    },
    {
     "name": "stdout",
     "output_type": "stream",
     "text": [
      "+-------+-----------+------------+---------------+------------+----------------+----------------+--------------------+------------------+-----------------+----------+-------------+----------+---------------+----------+----------+---------------+---------------+------+\n",
      "|     ID|CODE_GENDER|FLAG_OWN_CAR|FLAG_OWN_REALTY|CNT_CHILDREN|AMT_INCOME_TOTAL|NAME_INCOME_TYPE| NAME_EDUCATION_TYPE|NAME_FAMILY_STATUS|NAME_HOUSING_TYPE|DAYS_BIRTH|DAYS_EMPLOYED|FLAG_MOBIL|FLAG_WORK_PHONE|FLAG_PHONE|FLAG_EMAIL|OCCUPATION_TYPE|CNT_FAM_MEMBERS|STATUS|\n",
      "+-------+-----------+------------+---------------+------------+----------------+----------------+--------------------+------------------+-----------------+----------+-------------+----------+---------------+----------+----------+---------------+---------------+------+\n",
      "|5009033|          F|           N|              N|           0|        255150.0|       Pensioner|   Incomplete higher|    Civil marriage| Rented apartment|    -18682|       365243|         1|              0|         0|         0|           null|              2|     X|\n",
      "|5009033|          F|           N|              N|           0|        255150.0|       Pensioner|   Incomplete higher|    Civil marriage| Rented apartment|    -18682|       365243|         1|              0|         0|         0|           null|              2|     0|\n",
      "|5009304|          F|           N|              N|           0|        112500.0|       Pensioner|Secondary / secon...|             Widow|House / apartment|    -22061|       365243|         1|              0|         0|         0|           null|              1|     X|\n",
      "+-------+-----------+------------+---------------+------------+----------------+----------------+--------------------+------------------+-----------------+----------+-------------+----------+---------------+----------+----------+---------------+---------------+------+\n",
      "only showing top 3 rows\n",
      "\n"
     ]
    },
    {
     "name": "stderr",
     "output_type": "stream",
     "text": [
      "                                                                                \r"
     ]
    }
   ],
   "source": [
    "#data samples\n",
    "data.show(3)"
   ]
  },
  {
   "cell_type": "code",
   "execution_count": 49,
   "metadata": {},
   "outputs": [
    {
     "name": "stderr",
     "output_type": "stream",
     "text": [
      "[Stage 62:====================================================> (194 + 2) / 200]"
     ]
    },
    {
     "name": "stdout",
     "output_type": "stream",
     "text": [
      "+-------+-----------------+-----------+------------+---------------+-------------------+------------------+--------------------+--------------------+------------------+-----------------+------------------+------------------+----------+-------------------+------------------+-------------------+--------------------+------------------+-------------------+\n",
      "|summary|               ID|CODE_GENDER|FLAG_OWN_CAR|FLAG_OWN_REALTY|       CNT_CHILDREN|  AMT_INCOME_TOTAL|    NAME_INCOME_TYPE| NAME_EDUCATION_TYPE|NAME_FAMILY_STATUS|NAME_HOUSING_TYPE|        DAYS_BIRTH|     DAYS_EMPLOYED|FLAG_MOBIL|    FLAG_WORK_PHONE|        FLAG_PHONE|         FLAG_EMAIL|     OCCUPATION_TYPE|   CNT_FAM_MEMBERS|             STATUS|\n",
      "+-------+-----------------+-----------+------------+---------------+-------------------+------------------+--------------------+--------------------+------------------+-----------------+------------------+------------------+----------+-------------------+------------------+-------------------+--------------------+------------------+-------------------+\n",
      "|  count|            74874|      74874|       74874|          74874|              74874|             74874|               74874|               74874|             74874|            74874|             74874|             74874|     74874|              74874|             74874|              74874|               51610|             74874|              74874|\n",
      "|   mean|5078091.555840478|       null|        null|           null|0.42827950957608785|187109.58133664555|                null|                null|              null|             null|-15997.92520768224| 59331.32136656249|       1.0|0.22678099206667202|0.2949622031679889|0.09047199294815289|                null| 2.196783930336298|0.20460886361197553|\n",
      "| stddev|41861.82759472589|       null|        null|           null| 0.7391413474902977|103088.28430111174|                null|                null|              null|             null| 4203.539866986171|137732.45091347315|       0.0|0.41875257096285856|0.4560288141848722|0.28685869423573845|                null|0.9085329967268106| 0.6223308816729857|\n",
      "|    min|          5008804|          F|           N|              N|                  0|           27000.0|Commercial associate|     Academic degree|    Civil marriage|  Co-op apartment|            -25152|            -15713|         1|                  0|                 0|                  0|         Accountants|                 1|                  0|\n",
      "|    max|          5150487|          M|           Y|              Y|                 19|         1575000.0|             Working|Secondary / secon...|             Widow|     With parents|             -7489|            365243|         1|                  1|                 1|                  1|Waiters/barmen staff|                20|                  X|\n",
      "+-------+-----------------+-----------+------------+---------------+-------------------+------------------+--------------------+--------------------+------------------+-----------------+------------------+------------------+----------+-------------------+------------------+-------------------+--------------------+------------------+-------------------+\n",
      "\n"
     ]
    },
    {
     "name": "stderr",
     "output_type": "stream",
     "text": [
      "                                                                                \r"
     ]
    }
   ],
   "source": [
    "#Statistical summary\n",
    "data.describe().show()"
   ]
  },
  {
   "cell_type": "markdown",
   "metadata": {},
   "source": [
    "### Checking for duplicate rows"
   ]
  },
  {
   "cell_type": "code",
   "execution_count": 50,
   "metadata": {},
   "outputs": [
    {
     "name": "stderr",
     "output_type": "stream",
     "text": [
      "[Stage 67:=================================================>    (184 + 2) / 200]"
     ]
    },
    {
     "name": "stdout",
     "output_type": "stream",
     "text": [
      "+----------+\n",
      "|sum(count)|\n",
      "+----------+\n",
      "|      null|\n",
      "+----------+\n",
      "\n"
     ]
    },
    {
     "name": "stderr",
     "output_type": "stream",
     "text": [
      "                                                                                \r"
     ]
    }
   ],
   "source": [
    "#Checking for duplicate rows\n",
    "data.groupBy(data.columns).count().where(col('count') > 1).select(sum('count')).show()"
   ]
  },
  {
   "cell_type": "markdown",
   "metadata": {},
   "source": [
    "### Handling Missing and Null values"
   ]
  },
  {
   "cell_type": "code",
   "execution_count": 51,
   "metadata": {},
   "outputs": [
    {
     "name": "stderr",
     "output_type": "stream",
     "text": [
      "[Stage 72:=================================================>    (184 + 2) / 200]"
     ]
    },
    {
     "name": "stdout",
     "output_type": "stream",
     "text": [
      "+---+-----------+------------+---------------+------------+----------------+----------------+-------------------+------------------+-----------------+----------+-------------+----------+---------------+----------+----------+---------------+---------------+------+\n",
      "| ID|CODE_GENDER|FLAG_OWN_CAR|FLAG_OWN_REALTY|CNT_CHILDREN|AMT_INCOME_TOTAL|NAME_INCOME_TYPE|NAME_EDUCATION_TYPE|NAME_FAMILY_STATUS|NAME_HOUSING_TYPE|DAYS_BIRTH|DAYS_EMPLOYED|FLAG_MOBIL|FLAG_WORK_PHONE|FLAG_PHONE|FLAG_EMAIL|OCCUPATION_TYPE|CNT_FAM_MEMBERS|STATUS|\n",
      "+---+-----------+------------+---------------+------------+----------------+----------------+-------------------+------------------+-----------------+----------+-------------+----------+---------------+----------+----------+---------------+---------------+------+\n",
      "|  0|          0|           0|              0|           0|               0|               0|                  0|                 0|                0|         0|            0|         0|              0|         0|         0|              0|              0|     0|\n",
      "+---+-----------+------------+---------------+------------+----------------+----------------+-------------------+------------------+-----------------+----------+-------------+----------+---------------+----------+----------+---------------+---------------+------+\n",
      "\n"
     ]
    },
    {
     "name": "stderr",
     "output_type": "stream",
     "text": [
      "                                                                                \r"
     ]
    }
   ],
   "source": [
    "# Get count of nan or missing values\n",
    "data.select([count(when(isnan(c), c)).alias(c) for c in data.columns]).show()"
   ]
  },
  {
   "cell_type": "markdown",
   "metadata": {},
   "source": [
    "There are no missing values in dataset"
   ]
  },
  {
   "cell_type": "code",
   "execution_count": 52,
   "metadata": {},
   "outputs": [
    {
     "name": "stderr",
     "output_type": "stream",
     "text": [
      "[Stage 77:===========================================>          (161 + 2) / 200]"
     ]
    },
    {
     "name": "stdout",
     "output_type": "stream",
     "text": [
      "+---+-----------+------------+---------------+------------+----------------+----------------+-------------------+------------------+-----------------+----------+-------------+----------+---------------+----------+----------+---------------+---------------+------+\n",
      "| ID|CODE_GENDER|FLAG_OWN_CAR|FLAG_OWN_REALTY|CNT_CHILDREN|AMT_INCOME_TOTAL|NAME_INCOME_TYPE|NAME_EDUCATION_TYPE|NAME_FAMILY_STATUS|NAME_HOUSING_TYPE|DAYS_BIRTH|DAYS_EMPLOYED|FLAG_MOBIL|FLAG_WORK_PHONE|FLAG_PHONE|FLAG_EMAIL|OCCUPATION_TYPE|CNT_FAM_MEMBERS|STATUS|\n",
      "+---+-----------+------------+---------------+------------+----------------+----------------+-------------------+------------------+-----------------+----------+-------------+----------+---------------+----------+----------+---------------+---------------+------+\n",
      "|  0|          0|           0|              0|           0|               0|               0|                  0|                 0|                0|         0|            0|         0|              0|         0|         0|          23264|              0|     0|\n",
      "+---+-----------+------------+---------------+------------+----------------+----------------+-------------------+------------------+-----------------+----------+-------------+----------+---------------+----------+----------+---------------+---------------+------+\n",
      "\n"
     ]
    },
    {
     "name": "stderr",
     "output_type": "stream",
     "text": [
      "                                                                                \r"
     ]
    }
   ],
   "source": [
    "### Get count of null values\n",
    "data.select([count(when(col(c).isNull(), c)).alias(c) for c in data.columns]).show()"
   ]
  },
  {
   "cell_type": "markdown",
   "metadata": {},
   "source": [
    "There is null values in column OCCUPATION_TYPE of data. This need to be imputed"
   ]
  },
  {
   "cell_type": "markdown",
   "metadata": {},
   "source": [
    "Null values in OCCUPATION_TYPE only points to people who didnt mentioned it. Either their proffesion was not mentioned in the options available or they didnt want to divulge it. These null values are mapped to a new variable \"Not Mentioned\", and thus handled."
   ]
  },
  {
   "cell_type": "code",
   "execution_count": 53,
   "metadata": {},
   "outputs": [],
   "source": [
    "# replace the null values in the columns \"OCCUPATION_TYPE\" with 'Not mentioned' using the withColumn and when functions\n",
    "data = data.withColumn(\"OCCUPATION_TYPE\",when(data[\"OCCUPATION_TYPE\"].isNull(), \"Not Mentioned\").otherwise(data[\"OCCUPATION_TYPE\"]))"
   ]
  },
  {
   "cell_type": "code",
   "execution_count": 54,
   "metadata": {},
   "outputs": [
    {
     "name": "stderr",
     "output_type": "stream",
     "text": [
      "[Stage 81:=============================>                            (1 + 1) / 2]"
     ]
    },
    {
     "name": "stdout",
     "output_type": "stream",
     "text": [
      "+--------------------+-----+\n",
      "|     OCCUPATION_TYPE|count|\n",
      "+--------------------+-----+\n",
      "|       Not Mentioned|23264|\n",
      "|            Laborers|12621|\n",
      "|          Core staff| 7501|\n",
      "|         Sales staff| 7048|\n",
      "|            Managers| 6246|\n",
      "|             Drivers| 4404|\n",
      "|High skill tech s...| 2918|\n",
      "|         Accountants| 2544|\n",
      "|      Medicine staff| 2498|\n",
      "|       Cooking staff| 1335|\n",
      "|      Security staff| 1232|\n",
      "|      Cleaning staff| 1126|\n",
      "|Private service s...|  659|\n",
      "|  Low-skill Laborers|  370|\n",
      "|Waiters/barmen staff|  361|\n",
      "|         Secretaries|  314|\n",
      "|            HR staff|  165|\n",
      "|       Realty agents|  146|\n",
      "|            IT staff|  122|\n",
      "+--------------------+-----+\n",
      "\n"
     ]
    },
    {
     "name": "stderr",
     "output_type": "stream",
     "text": [
      "                                                                                \r"
     ]
    }
   ],
   "source": [
    "#checking if imputed properly\n",
    "data.groupby([\"OCCUPATION_TYPE\"]).count().sort(desc(\"count\")).show()"
   ]
  },
  {
   "cell_type": "markdown",
   "metadata": {},
   "source": [
    "## Step 3: Outlier treatment and variable encoding and transformation"
   ]
  },
  {
   "cell_type": "markdown",
   "metadata": {},
   "source": [
    "Before looking for outliers variables DAYS_BIRTH and DAYS_EMPLOYED need to be transformed properly. They are given as negative values mostly since they are calcualted from current date and backwards. These variables are transformed into AGE and YEARS_EMPLOYED since they are more meaningful and insightful."
   ]
  },
  {
   "cell_type": "code",
   "execution_count": 55,
   "metadata": {},
   "outputs": [],
   "source": [
    "#Creating new varaibles to calculate age and employment years\n",
    "data=data.withColumn(\"AGE\", data[\"DAYS_BIRTH\"]/-365.25)\n",
    "data=data.withColumn(\"YEARS_EMPLOYED\", data[\"DAYS_EMPLOYED\"]/-365.25)\n",
    "\n",
    "#casting proper data types\n",
    "data=data.withColumn(\"AGE\", data[\"AGE\"].cast(IntegerType()))\n",
    "data=data.withColumn(\"YEARS_EMPLOYED\", data[\"YEARS_EMPLOYED\"].cast(IntegerType()))\n",
    "\n",
    "#dropping columns\n",
    "data = data.drop('DAYS_BIRTH', 'DAYS_EMPLOYED')"
   ]
  },
  {
   "cell_type": "code",
   "execution_count": 56,
   "metadata": {},
   "outputs": [],
   "source": [
    "#Creating new variable monthly income\n",
    "data=data.withColumn(\"MONTHLY_INCOME\", data[\"AMT_INCOME_TOTAL\"]/12)\n",
    "\n",
    "#dropping columns\n",
    "data = data.drop(\"AMT_INCOME_TOTAL\")"
   ]
  },
  {
   "cell_type": "code",
   "execution_count": 57,
   "metadata": {},
   "outputs": [
    {
     "name": "stderr",
     "output_type": "stream",
     "text": [
      "[Stage 85:==================================================>   (188 + 2) / 200]"
     ]
    },
    {
     "name": "stdout",
     "output_type": "stream",
     "text": [
      "+------+-----+\n",
      "|STATUS|count|\n",
      "+------+-----+\n",
      "|     0|31963|\n",
      "|     X|19648|\n",
      "|     C|17950|\n",
      "|     1| 4149|\n",
      "|     2|  555|\n",
      "|     3|  248|\n",
      "|     4|  181|\n",
      "|     5|  180|\n",
      "+------+-----+\n",
      "\n"
     ]
    },
    {
     "name": "stderr",
     "output_type": "stream",
     "text": [
      "                                                                                \r"
     ]
    }
   ],
   "source": [
    "data.groupby([\"STATUS\"]).count().sort(desc(\"count\")).show()"
   ]
  },
  {
   "cell_type": "code",
   "execution_count": 58,
   "metadata": {},
   "outputs": [],
   "source": [
    "#replacing vales of X and C from Status column to -1 and -2 \n",
    "data=data.withColumn(\"STATUS\", when(data[\"STATUS\"]== \"X\", -1).when(data[\"STATUS\"] == \"C\", -2).otherwise(data[\"STATUS\"]))\n",
    "\n",
    "#casting the datatype to integer\n",
    "data=data.withColumn(\"STATUS\", data[\"STATUS\"].cast(IntegerType()))\n",
    "\n",
    "#Creating a new variable for classifying customer based on deliquency\n",
    "data=data.withColumn(\"DELIQUENT\", when(data[\"STATUS\"]== 2, 1).when(data[\"STATUS\"]>2, 1).otherwise(0))\n",
    "\n",
    "#dropping the status column\n",
    "data=data.drop(\"STATUS\")"
   ]
  },
  {
   "cell_type": "code",
   "execution_count": 59,
   "metadata": {},
   "outputs": [],
   "source": [
    "#dropping flag_mobil column, since it reductant\n",
    "data=data.drop(\"FLAG_MOBIL\")"
   ]
  },
  {
   "cell_type": "markdown",
   "metadata": {},
   "source": [
    "### Binning numerical columns in data"
   ]
  },
  {
   "cell_type": "code",
   "execution_count": 123,
   "metadata": {},
   "outputs": [
    {
     "name": "stderr",
     "output_type": "stream",
     "text": [
      "                                                                                \r"
     ]
    }
   ],
   "source": [
    "#converting dataframe to pandas dataframe\n",
    "dt=data.toPandas()"
   ]
  },
  {
   "cell_type": "code",
   "execution_count": 124,
   "metadata": {},
   "outputs": [
    {
     "data": {
      "text/plain": [
       "ID                     0\n",
       "CODE_GENDER            0\n",
       "FLAG_OWN_CAR           0\n",
       "FLAG_OWN_REALTY        0\n",
       "CNT_CHILDREN           0\n",
       "NAME_INCOME_TYPE       0\n",
       "NAME_EDUCATION_TYPE    0\n",
       "NAME_FAMILY_STATUS     0\n",
       "NAME_HOUSING_TYPE      0\n",
       "FLAG_WORK_PHONE        0\n",
       "FLAG_PHONE             0\n",
       "FLAG_EMAIL             0\n",
       "OCCUPATION_TYPE        0\n",
       "CNT_FAM_MEMBERS        0\n",
       "AGE                    0\n",
       "YEARS_EMPLOYED         0\n",
       "MONTHLY_INCOME         0\n",
       "DELIQUENT              0\n",
       "dtype: int64"
      ]
     },
     "execution_count": 124,
     "metadata": {},
     "output_type": "execute_result"
    }
   ],
   "source": [
    "#Binning CNT_CHILDREN variable\n",
    "dt.isnull().sum()"
   ]
  },
  {
   "cell_type": "code",
   "execution_count": 125,
   "metadata": {},
   "outputs": [
    {
     "data": {
      "text/plain": [
       "0      51927\n",
       "1      15167\n",
       "2-3     7609\n",
       "> 4      170\n",
       "Name: CHILDREN, dtype: int64"
      ]
     },
     "execution_count": 125,
     "metadata": {},
     "output_type": "execute_result"
    }
   ],
   "source": [
    "#Binning CNT_CHILDREN variable\n",
    "dt[\"CHILDREN\"]=pd.cut(dt.CNT_CHILDREN, bins=[0,1,2,4,19],labels=[\"0\",'1','2-3',\"> 4\"], right=False)\n",
    "dt[\"CHILDREN\"].value_counts()"
   ]
  },
  {
   "cell_type": "markdown",
   "metadata": {},
   "source": [
    "Each category should have 5% of total counts. So the last category has to be dropped."
   ]
  },
  {
   "cell_type": "code",
   "execution_count": 126,
   "metadata": {},
   "outputs": [
    {
     "data": {
      "text/plain": [
       "lowest      17783\n",
       "low         15960\n",
       "moderate    15312\n",
       "high        13607\n",
       "very low    12212\n",
       "Name: SALARY, dtype: int64"
      ]
     },
     "execution_count": 126,
     "metadata": {},
     "output_type": "execute_result"
    }
   ],
   "source": [
    "#Binning MONTHLY_INCOME variable\n",
    "dt[\"SALARY\"]=pd.qcut(dt.MONTHLY_INCOME, q=5, labels=[\"lowest\",\"very low\", \"low\",\"moderate\", \"high\"])\n",
    "dt[\"SALARY\"].value_counts()"
   ]
  },
  {
   "cell_type": "code",
   "execution_count": 127,
   "metadata": {},
   "outputs": [
    {
     "data": {
      "text/plain": [
       "<=3    53173\n",
       "1      14292\n",
       "<=6     7360\n",
       ">6        48\n",
       "Name: FAMILY_MEM, dtype: int64"
      ]
     },
     "execution_count": 127,
     "metadata": {},
     "output_type": "execute_result"
    }
   ],
   "source": [
    "#Binning CNT_FAM_MEMBERS variable\n",
    "dt[\"FAMILY_MEM\"]=pd.cut(dt.CNT_FAM_MEMBERS, bins=[1,2,4,7,20],labels=['1','<=3','<=6', '>6'],right=False)\n",
    "dt[\"FAMILY_MEM\"].value_counts()"
   ]
  },
  {
   "cell_type": "markdown",
   "metadata": {},
   "source": [
    "Each category should have 5% of total counts. So the last category has to be dropped."
   ]
  },
  {
   "cell_type": "code",
   "execution_count": 128,
   "metadata": {},
   "outputs": [
    {
     "data": {
      "text/plain": [
       "<=33    16294\n",
       "<=39    15112\n",
       "<=55    15024\n",
       ">55     14446\n",
       "<=46    13998\n",
       "Name: AGE_RANGE, dtype: int64"
      ]
     },
     "execution_count": 128,
     "metadata": {},
     "output_type": "execute_result"
    }
   ],
   "source": [
    "#Binning AGE variable\n",
    "dt[\"AGE_RANGE\"]=pd.qcut(dt.AGE, q=5, labels=[\"<=33\",\"<=39\",\"<=46\",\"<=55\",\">55\"])\n",
    "dt[\"AGE_RANGE\"].value_counts()"
   ]
  },
  {
   "cell_type": "code",
   "execution_count": 129,
   "metadata": {},
   "outputs": [
    {
     "data": {
      "text/plain": [
       "senior-level    17465\n",
       "retired         12617\n",
       "fresher         11689\n",
       "mid-level       11589\n",
       "intermediate    11426\n",
       "first-level     10088\n",
       "Name: WORK_LEVEL, dtype: int64"
      ]
     },
     "execution_count": 129,
     "metadata": {},
     "output_type": "execute_result"
    }
   ],
   "source": [
    "#Binning YEARS_EMPLOYED variable\n",
    "dt[\"WORK_LEVEL\"]=pd.cut(dt.YEARS_EMPLOYED, bins=[-999,0,2,4,6,9,47],labels=[\"retired\",\"fresher\",\"intermediate\",\"first-level\",\"mid-level\",\"senior-level\"],right=False)\n",
    "dt[\"WORK_LEVEL\"].value_counts()"
   ]
  },
  {
   "cell_type": "code",
   "execution_count": 130,
   "metadata": {},
   "outputs": [
    {
     "data": {
      "text/plain": [
       "ID                     0\n",
       "CODE_GENDER            0\n",
       "FLAG_OWN_CAR           0\n",
       "FLAG_OWN_REALTY        0\n",
       "CNT_CHILDREN           0\n",
       "NAME_INCOME_TYPE       0\n",
       "NAME_EDUCATION_TYPE    0\n",
       "NAME_FAMILY_STATUS     0\n",
       "NAME_HOUSING_TYPE      0\n",
       "FLAG_WORK_PHONE        0\n",
       "FLAG_PHONE             0\n",
       "FLAG_EMAIL             0\n",
       "OCCUPATION_TYPE        0\n",
       "CNT_FAM_MEMBERS        0\n",
       "AGE                    0\n",
       "YEARS_EMPLOYED         0\n",
       "MONTHLY_INCOME         0\n",
       "DELIQUENT              0\n",
       "CHILDREN               1\n",
       "SALARY                 0\n",
       "FAMILY_MEM             1\n",
       "AGE_RANGE              0\n",
       "WORK_LEVEL             0\n",
       "dtype: int64"
      ]
     },
     "execution_count": 130,
     "metadata": {},
     "output_type": "execute_result"
    }
   ],
   "source": [
    "#checking for null values\n",
    "dt.isnull().sum()"
   ]
  },
  {
   "cell_type": "code",
   "execution_count": 131,
   "metadata": {},
   "outputs": [],
   "source": [
    "#dropping null values\n",
    "new_data = dt.dropna(axis = 0, how ='any')"
   ]
  },
  {
   "cell_type": "code",
   "execution_count": 132,
   "metadata": {},
   "outputs": [
    {
     "name": "stderr",
     "output_type": "stream",
     "text": [
      "/home/ec2-user/.local/lib/python3.7/site-packages/pandas/core/frame.py:3607: SettingWithCopyWarning: \n",
      "A value is trying to be set on a copy of a slice from a DataFrame.\n",
      "Try using .loc[row_indexer,col_indexer] = value instead\n",
      "\n",
      "See the caveats in the documentation: https://pandas.pydata.org/pandas-docs/stable/user_guide/indexing.html#returning-a-view-versus-a-copy\n",
      "  self._set_item(key, value)\n"
     ]
    }
   ],
   "source": [
    "#Changong the data types\n",
    "\n",
    "new_data[[\"CHILDREN\"]] = new_data[[\"CHILDREN\"]].astype('str')\n",
    "new_data[[\"SALARY\"]] =new_data[[\"SALARY\"]].astype('str')\n",
    "new_data[[\"FAMILY_MEM\"]]=new_data[[\"FAMILY_MEM\"]].astype('str')\n",
    "new_data[[\"AGE_RANGE\"]]=new_data[[\"AGE_RANGE\"]].astype('str')\n",
    "new_data[[\"WORK_LEVEL\"]]=new_data[[\"WORK_LEVEL\"]].astype('str')\n",
    "new_data[[\"DELIQUENT\"]]=new_data[[\"DELIQUENT\"]].astype('str')"
   ]
  },
  {
   "cell_type": "code",
   "execution_count": 133,
   "metadata": {},
   "outputs": [],
   "source": [
    "#Dropping parent column and ID column\n",
    "dataset=new_data.drop([\"ID\",\"CNT_CHILDREN\",\"MONTHLY_INCOME\",\"CNT_FAM_MEMBERS\",\"AGE\",\"YEARS_EMPLOYED\"], axis=1)"
   ]
  },
  {
   "cell_type": "code",
   "execution_count": 235,
   "metadata": {},
   "outputs": [
    {
     "name": "stdout",
     "output_type": "stream",
     "text": [
      "root\n",
      " |-- CODE_GENDER: string (nullable = true)\n",
      " |-- FLAG_OWN_CAR: string (nullable = true)\n",
      " |-- FLAG_OWN_REALTY: string (nullable = true)\n",
      " |-- NAME_INCOME_TYPE: string (nullable = true)\n",
      " |-- NAME_EDUCATION_TYPE: string (nullable = true)\n",
      " |-- NAME_FAMILY_STATUS: string (nullable = true)\n",
      " |-- NAME_HOUSING_TYPE: string (nullable = true)\n",
      " |-- FLAG_WORK_PHONE: long (nullable = true)\n",
      " |-- FLAG_PHONE: long (nullable = true)\n",
      " |-- FLAG_EMAIL: long (nullable = true)\n",
      " |-- OCCUPATION_TYPE: string (nullable = true)\n",
      " |-- DELIQUENT: string (nullable = true)\n",
      " |-- CHILDREN: string (nullable = true)\n",
      " |-- SALARY: string (nullable = true)\n",
      " |-- FAMILY_MEM: string (nullable = true)\n",
      " |-- AGE_RANGE: string (nullable = true)\n",
      " |-- WORK_LEVEL: string (nullable = true)\n",
      "\n"
     ]
    }
   ],
   "source": [
    "#Converting to spark dataframe\n",
    "\n",
    "df=spark.createDataFrame(dataset)\n",
    "df.printSchema()"
   ]
  },
  {
   "cell_type": "code",
   "execution_count": 236,
   "metadata": {},
   "outputs": [],
   "source": [
    "#dropping categories with lewss than 5%\n",
    "df=df.filter(\"not (CHILDREN == '> 4')\")"
   ]
  },
  {
   "cell_type": "code",
   "execution_count": 237,
   "metadata": {},
   "outputs": [
    {
     "name": "stderr",
     "output_type": "stream",
     "text": [
      "21/07/21 12:20:05 WARN TaskSetManager: Stage 2670 contains a task of very large size (7995 KB). The maximum recommended task size is 100 KB.\n"
     ]
    },
    {
     "name": "stdout",
     "output_type": "stream",
     "text": [
      "+----------+-----+\n",
      "|FAMILY_MEM|count|\n",
      "+----------+-----+\n",
      "|       <=3|53173|\n",
      "|         1|14292|\n",
      "|       <=6| 7238|\n",
      "+----------+-----+\n",
      "\n"
     ]
    }
   ],
   "source": [
    "#checking wheter the filterig of children variable have mended the family_mem variable\n",
    "df.groupby([\"FAMILY_MEM\"]).count().sort(desc(\"count\")).show()"
   ]
  },
  {
   "cell_type": "markdown",
   "metadata": {},
   "source": [
    "Filtering of children column have taken care of family_mem column too"
   ]
  },
  {
   "cell_type": "markdown",
   "metadata": {},
   "source": [
    "### Weight of Evidence and Information Value Class"
   ]
  },
  {
   "cell_type": "code",
   "execution_count": 238,
   "metadata": {},
   "outputs": [],
   "source": [
    "class WOE_IV(object):\n",
    "    \n",
    "    \"\"\"\n",
    "    This class contains methods that are used for calculating the WOE and IV values in a given dataset.\n",
    "    \n",
    "    Attributes\n",
    "    ----------\n",
    "    df : spark DataFrame\n",
    "        The spark dataframe\n",
    "    cols_to_woe : list\n",
    "        Columns that you want to convert in WOE and IV\n",
    "    label_column : str\n",
    "        target column of the data\n",
    "    good_label : str\n",
    "        Predicted variable in the form of 1 or 0\n",
    "    \"\"\"\n",
    "    \n",
    "    def __init__(self, df: DataFrame, cols_to_woe: [str], label_column: str, good_label: str):\n",
    "        self.df = df\n",
    "        self.cols_to_woe = cols_to_woe\n",
    "        self.label_column = label_column\n",
    "        self.good_label = good_label\n",
    "        self.fit_data = {} # This is a dictionary which will store all the WOE and IV computed in the latter part of the code\n",
    "\n",
    "    def fit(self):  \n",
    "        \"\"\"\n",
    "        This method takes the columns in 'cols_to_woe' and calculates the good and bad amounts, and then assigns the WOE values in the dictionary, 'fit_data'\n",
    "        \"\"\"\n",
    "        for col_to_woe in self.cols_to_woe: # Iterating over each column in the list, cols_to_woe\n",
    "            \n",
    "            total_good = self.compute_total_amount_of_good() # Computes the total amount of good labels in the entire dataset\n",
    "            total_bad = self.compute_total_amount_of_bad() # Computes the total amount of bad labels in the entire dataset\n",
    "            \n",
    "            woe_df = self.df.select(col_to_woe) # This dataframe stores the column, col_to_woe from the DataFrame\n",
    "            categories = woe_df.distinct().collect() # Creates a list of all the distinct categories in the column, col_to_woe\n",
    "            for category_row in categories: # Iterating over each category in the distinct categories of the column\n",
    "                category = category_row[col_to_woe]\n",
    "                \n",
    "                # For each category, we calculate the good_amount and bad_amount\n",
    "                good_amount = self.compute_good_amount(col_to_woe, category)\n",
    "                bad_amount = self.compute_bad_amount(col_to_woe, category)\n",
    "                \n",
    "                # If the good_amount or bad_amount is 0, we replace it with 0.5, because in the calculation of woe, it comes in the denominator resulting in a Nan value which will give an error\n",
    "                good_amount = good_amount if good_amount != 0 else 0.5\n",
    "                bad_amount = bad_amount if bad_amount != 0 else 0.5\n",
    "\n",
    "                # Calculating the fraction of good_amount and bad_amount specific to that category\n",
    "                good_dist = good_amount / total_good\n",
    "                bad_dist = bad_amount / total_bad\n",
    "\n",
    "                # Calling the build_fit_data method which calculates the WOE and IV for the category in the column and stores it in the dictionary, fit_data\n",
    "                self.build_fit_data(col_to_woe, category, good_dist, bad_dist)\n",
    "\n",
    "    def transform(self, df: DataFrame):\n",
    "        \"\"\"\n",
    "        This method creates a column called \"col_to_woe + '_woe'\" which replaces the given category value with the WOE value.\n",
    "        It finally returns a final dataframe containing the WOE values in place of the columns\n",
    "        \"\"\"\n",
    "        def _encode_woe(col_to_woe_):\n",
    "            return coalesce(\n",
    "                *[when(col(col_to_woe_) == category, lit(woe_iv['woe']))\n",
    "                  for category, woe_iv in self.fit_data[col_to_woe_].items()]\n",
    "            )\n",
    "\n",
    "        for col_to_woe, woe_info in self.fit_data.items():\n",
    "            # Adds another column to the df containing the final WOE values\n",
    "            df = df.withColumn(col_to_woe + '_woe', _encode_woe(col_to_woe))\n",
    "        return df\n",
    "\n",
    "    def compute_total_amount_of_good(self):\n",
    "     # Computes the total amount of good labels in the entire dataset\n",
    "        return self.df.select(self.label_column).filter(col(self.label_column) == self.good_label).count()\n",
    "\n",
    "    def compute_total_amount_of_bad(self):\n",
    "     # Computes the total amount of bad labels in the entire dataset\n",
    "        return self.df.select(self.label_column).filter(col(self.label_column) != self.good_label).count()\n",
    "\n",
    "    def compute_good_amount(self, col_to_woe: str, category: str):\n",
    "     # Computes the total amount of good labels for the specific class in the feature\n",
    "        return self.df.select(col_to_woe, self.label_column)\\\n",
    "                      .filter(\n",
    "                            (col(col_to_woe) == category) & (col(self.label_column) == self.good_label)\n",
    "                      ).count()\n",
    "\n",
    "    def compute_bad_amount(self, col_to_woe: str, category: str):\n",
    "        # Computes the total amount of bad labels for the specific class in the feature\n",
    "        return self.df.select(col_to_woe, self.label_column)\\\n",
    "                      .filter(\n",
    "                            (col(col_to_woe) == category) & (col(self.label_column) != self.good_label)\n",
    "                      ).count()\n",
    "\n",
    "    def build_fit_data(self, col_to_woe, category, good_dist, bad_dist):\n",
    "        \"\"\"\n",
    "        Calculates the WOE and value for the specific category and saves it in the woe_info dictionary which is saves in the fit_data dictionary\n",
    "        \n",
    "        \n",
    "        Attributes:\n",
    "        col_to_woe: str\n",
    "        name of the feature\n",
    "        \n",
    "        category: str\n",
    "        Class of that feature\n",
    "        \n",
    "        good_dist: float\n",
    "        Fraction of good labels specific to that category\n",
    "        \n",
    "        bad_dist: float\n",
    "        Fraction of bad labels specific to that category\n",
    "        \"\"\"\n",
    "        woe_info = {\n",
    "            category: {\n",
    "                'woe': math.log(good_dist / bad_dist), # Calculating the WOE value for the category in the column\n",
    "                'iv': (good_dist - bad_dist) * math.log(good_dist / bad_dist) # Calculating the IV value for the category in the column\n",
    "            }\n",
    "        }\n",
    "\n",
    "        # Adding the feature, col_to_woe to fit_data if not present already\n",
    "        if col_to_woe not in self.fit_data:\n",
    "            self.fit_data[col_to_woe] = woe_info\n",
    "        else:\n",
    "            self.fit_data[col_to_woe].update(woe_info)\n",
    "\n",
    "    def compute_iv(self):\n",
    "        \"\"\"\n",
    "        Returns the IV dictionary which contains the IV value for each feature\n",
    "        \"\"\"\n",
    "        iv_dict = {}\n",
    "\n",
    "        for woe_col, categories in self.fit_data.items():\n",
    "            iv_dict[woe_col] = 0\n",
    "            for category, woe_iv in categories.items():\n",
    "                iv_dict[woe_col] += woe_iv['iv'] # IV for the feature = IV value for the indiviual categories of the feature (column)\n",
    "        return iv_dict"
   ]
  },
  {
   "cell_type": "code",
   "execution_count": 239,
   "metadata": {},
   "outputs": [],
   "source": [
    "#list of columns\n",
    "cCols=df.columns\n",
    "\n",
    "#removing the target column\n",
    "cCols.remove(\"DELIQUENT\")"
   ]
  },
  {
   "cell_type": "code",
   "execution_count": 240,
   "metadata": {},
   "outputs": [],
   "source": [
    "#Decalaring the class\n",
    "woe=WOE_IV(df, cCols, \"DELIQUENT\", \"0\")"
   ]
  },
  {
   "cell_type": "code",
   "execution_count": 241,
   "metadata": {
    "scrolled": true
   },
   "outputs": [
    {
     "name": "stderr",
     "output_type": "stream",
     "text": [
      "21/07/21 12:20:06 WARN TaskSetManager: Stage 2672 contains a task of very large size (7995 KB). The maximum recommended task size is 100 KB.\n",
      "21/07/21 12:20:06 WARN TaskSetManager: Stage 2674 contains a task of very large size (7995 KB). The maximum recommended task size is 100 KB.\n",
      "21/07/21 12:20:06 WARN TaskSetManager: Stage 2676 contains a task of very large size (7995 KB). The maximum recommended task size is 100 KB.\n",
      "21/07/21 12:20:07 WARN TaskSetManager: Stage 2678 contains a task of very large size (7995 KB). The maximum recommended task size is 100 KB.\n",
      "21/07/21 12:20:08 WARN TaskSetManager: Stage 2680 contains a task of very large size (7995 KB). The maximum recommended task size is 100 KB.\n",
      "21/07/21 12:20:08 WARN TaskSetManager: Stage 2682 contains a task of very large size (7995 KB). The maximum recommended task size is 100 KB.\n",
      "21/07/21 12:20:09 WARN TaskSetManager: Stage 2684 contains a task of very large size (7995 KB). The maximum recommended task size is 100 KB.\n",
      "21/07/21 12:20:09 WARN TaskSetManager: Stage 2686 contains a task of very large size (7995 KB). The maximum recommended task size is 100 KB.\n",
      "21/07/21 12:20:09 WARN TaskSetManager: Stage 2688 contains a task of very large size (7995 KB). The maximum recommended task size is 100 KB.\n",
      "21/07/21 12:20:10 WARN TaskSetManager: Stage 2690 contains a task of very large size (7995 KB). The maximum recommended task size is 100 KB.\n",
      "21/07/21 12:20:10 WARN TaskSetManager: Stage 2692 contains a task of very large size (7995 KB). The maximum recommended task size is 100 KB.\n",
      "21/07/21 12:20:11 WARN TaskSetManager: Stage 2694 contains a task of very large size (7995 KB). The maximum recommended task size is 100 KB.\n",
      "21/07/21 12:20:11 WARN TaskSetManager: Stage 2696 contains a task of very large size (7995 KB). The maximum recommended task size is 100 KB.\n",
      "21/07/21 12:20:12 WARN TaskSetManager: Stage 2698 contains a task of very large size (7995 KB). The maximum recommended task size is 100 KB.\n",
      "21/07/21 12:20:12 WARN TaskSetManager: Stage 2700 contains a task of very large size (7995 KB). The maximum recommended task size is 100 KB.\n",
      "21/07/21 12:20:12 WARN TaskSetManager: Stage 2702 contains a task of very large size (7995 KB). The maximum recommended task size is 100 KB.\n",
      "21/07/21 12:20:13 WARN TaskSetManager: Stage 2704 contains a task of very large size (7995 KB). The maximum recommended task size is 100 KB.\n",
      "21/07/21 12:20:13 WARN TaskSetManager: Stage 2706 contains a task of very large size (7995 KB). The maximum recommended task size is 100 KB.\n",
      "21/07/21 12:20:14 WARN TaskSetManager: Stage 2708 contains a task of very large size (7995 KB). The maximum recommended task size is 100 KB.\n",
      "21/07/21 12:20:14 WARN TaskSetManager: Stage 2710 contains a task of very large size (7995 KB). The maximum recommended task size is 100 KB.\n",
      "21/07/21 12:20:15 WARN TaskSetManager: Stage 2712 contains a task of very large size (7995 KB). The maximum recommended task size is 100 KB.\n",
      "21/07/21 12:20:15 WARN TaskSetManager: Stage 2714 contains a task of very large size (7995 KB). The maximum recommended task size is 100 KB.\n",
      "21/07/21 12:20:15 WARN TaskSetManager: Stage 2716 contains a task of very large size (7995 KB). The maximum recommended task size is 100 KB.\n",
      "21/07/21 12:20:16 WARN TaskSetManager: Stage 2718 contains a task of very large size (7995 KB). The maximum recommended task size is 100 KB.\n",
      "21/07/21 12:20:16 WARN TaskSetManager: Stage 2720 contains a task of very large size (7995 KB). The maximum recommended task size is 100 KB.\n",
      "21/07/21 12:20:17 WARN TaskSetManager: Stage 2722 contains a task of very large size (7995 KB). The maximum recommended task size is 100 KB.\n",
      "21/07/21 12:20:17 WARN TaskSetManager: Stage 2724 contains a task of very large size (7995 KB). The maximum recommended task size is 100 KB.\n",
      "21/07/21 12:20:18 WARN TaskSetManager: Stage 2726 contains a task of very large size (7995 KB). The maximum recommended task size is 100 KB.\n",
      "21/07/21 12:20:18 WARN TaskSetManager: Stage 2728 contains a task of very large size (7995 KB). The maximum recommended task size is 100 KB.\n",
      "21/07/21 12:20:18 WARN TaskSetManager: Stage 2730 contains a task of very large size (7995 KB). The maximum recommended task size is 100 KB.\n",
      "21/07/21 12:20:19 WARN TaskSetManager: Stage 2732 contains a task of very large size (7995 KB). The maximum recommended task size is 100 KB.\n",
      "21/07/21 12:20:19 WARN TaskSetManager: Stage 2734 contains a task of very large size (7995 KB). The maximum recommended task size is 100 KB.\n",
      "21/07/21 12:20:20 WARN TaskSetManager: Stage 2736 contains a task of very large size (7995 KB). The maximum recommended task size is 100 KB.\n",
      "21/07/21 12:20:20 WARN TaskSetManager: Stage 2738 contains a task of very large size (7995 KB). The maximum recommended task size is 100 KB.\n",
      "21/07/21 12:20:20 WARN TaskSetManager: Stage 2740 contains a task of very large size (7995 KB). The maximum recommended task size is 100 KB.\n",
      "21/07/21 12:20:21 WARN TaskSetManager: Stage 2742 contains a task of very large size (7995 KB). The maximum recommended task size is 100 KB.\n",
      "21/07/21 12:20:21 WARN TaskSetManager: Stage 2744 contains a task of very large size (7995 KB). The maximum recommended task size is 100 KB.\n",
      "21/07/21 12:20:22 WARN TaskSetManager: Stage 2746 contains a task of very large size (7995 KB). The maximum recommended task size is 100 KB.\n",
      "21/07/21 12:20:22 WARN TaskSetManager: Stage 2748 contains a task of very large size (7995 KB). The maximum recommended task size is 100 KB.\n",
      "21/07/21 12:20:23 WARN TaskSetManager: Stage 2750 contains a task of very large size (7995 KB). The maximum recommended task size is 100 KB.\n",
      "21/07/21 12:20:23 WARN TaskSetManager: Stage 2752 contains a task of very large size (7995 KB). The maximum recommended task size is 100 KB.\n",
      "21/07/21 12:20:23 WARN TaskSetManager: Stage 2754 contains a task of very large size (7995 KB). The maximum recommended task size is 100 KB.\n",
      "21/07/21 12:20:24 WARN TaskSetManager: Stage 2756 contains a task of very large size (7995 KB). The maximum recommended task size is 100 KB.\n",
      "21/07/21 12:20:24 WARN TaskSetManager: Stage 2758 contains a task of very large size (7995 KB). The maximum recommended task size is 100 KB.\n",
      "21/07/21 12:20:24 WARN TaskSetManager: Stage 2760 contains a task of very large size (7995 KB). The maximum recommended task size is 100 KB.\n",
      "21/07/21 12:20:25 WARN TaskSetManager: Stage 2762 contains a task of very large size (7995 KB). The maximum recommended task size is 100 KB.\n",
      "21/07/21 12:20:25 WARN TaskSetManager: Stage 2764 contains a task of very large size (7995 KB). The maximum recommended task size is 100 KB.\n",
      "21/07/21 12:20:26 WARN TaskSetManager: Stage 2766 contains a task of very large size (7995 KB). The maximum recommended task size is 100 KB.\n",
      "21/07/21 12:20:26 WARN TaskSetManager: Stage 2768 contains a task of very large size (7995 KB). The maximum recommended task size is 100 KB.\n",
      "21/07/21 12:20:26 WARN TaskSetManager: Stage 2770 contains a task of very large size (7995 KB). The maximum recommended task size is 100 KB.\n",
      "21/07/21 12:20:27 WARN TaskSetManager: Stage 2772 contains a task of very large size (7995 KB). The maximum recommended task size is 100 KB.\n",
      "21/07/21 12:20:27 WARN TaskSetManager: Stage 2774 contains a task of very large size (7995 KB). The maximum recommended task size is 100 KB.\n",
      "21/07/21 12:20:28 WARN TaskSetManager: Stage 2776 contains a task of very large size (7995 KB). The maximum recommended task size is 100 KB.\n",
      "21/07/21 12:20:28 WARN TaskSetManager: Stage 2778 contains a task of very large size (7995 KB). The maximum recommended task size is 100 KB.\n",
      "21/07/21 12:20:29 WARN TaskSetManager: Stage 2780 contains a task of very large size (7995 KB). The maximum recommended task size is 100 KB.\n",
      "21/07/21 12:20:29 WARN TaskSetManager: Stage 2782 contains a task of very large size (7995 KB). The maximum recommended task size is 100 KB.\n",
      "21/07/21 12:20:30 WARN TaskSetManager: Stage 2784 contains a task of very large size (7995 KB). The maximum recommended task size is 100 KB.\n",
      "21/07/21 12:20:30 WARN TaskSetManager: Stage 2786 contains a task of very large size (7995 KB). The maximum recommended task size is 100 KB.\n",
      "21/07/21 12:20:30 WARN TaskSetManager: Stage 2788 contains a task of very large size (7995 KB). The maximum recommended task size is 100 KB.\n",
      "21/07/21 12:20:31 WARN TaskSetManager: Stage 2790 contains a task of very large size (7995 KB). The maximum recommended task size is 100 KB.\n",
      "21/07/21 12:20:31 WARN TaskSetManager: Stage 2792 contains a task of very large size (7995 KB). The maximum recommended task size is 100 KB.\n",
      "21/07/21 12:20:32 WARN TaskSetManager: Stage 2794 contains a task of very large size (7995 KB). The maximum recommended task size is 100 KB.\n",
      "21/07/21 12:20:32 WARN TaskSetManager: Stage 2796 contains a task of very large size (7995 KB). The maximum recommended task size is 100 KB.\n",
      "21/07/21 12:20:33 WARN TaskSetManager: Stage 2798 contains a task of very large size (7995 KB). The maximum recommended task size is 100 KB.\n",
      "21/07/21 12:20:33 WARN TaskSetManager: Stage 2800 contains a task of very large size (7995 KB). The maximum recommended task size is 100 KB.\n",
      "21/07/21 12:20:33 WARN TaskSetManager: Stage 2802 contains a task of very large size (7995 KB). The maximum recommended task size is 100 KB.\n",
      "21/07/21 12:20:34 WARN TaskSetManager: Stage 2804 contains a task of very large size (7995 KB). The maximum recommended task size is 100 KB.\n",
      "21/07/21 12:20:34 WARN TaskSetManager: Stage 2806 contains a task of very large size (7995 KB). The maximum recommended task size is 100 KB.\n",
      "21/07/21 12:20:35 WARN TaskSetManager: Stage 2808 contains a task of very large size (7995 KB). The maximum recommended task size is 100 KB.\n",
      "21/07/21 12:20:35 WARN TaskSetManager: Stage 2810 contains a task of very large size (7995 KB). The maximum recommended task size is 100 KB.\n",
      "21/07/21 12:20:35 WARN TaskSetManager: Stage 2812 contains a task of very large size (7995 KB). The maximum recommended task size is 100 KB.\n",
      "21/07/21 12:20:36 WARN TaskSetManager: Stage 2814 contains a task of very large size (7995 KB). The maximum recommended task size is 100 KB.\n",
      "21/07/21 12:20:36 WARN TaskSetManager: Stage 2816 contains a task of very large size (7995 KB). The maximum recommended task size is 100 KB.\n",
      "21/07/21 12:20:37 WARN TaskSetManager: Stage 2818 contains a task of very large size (7995 KB). The maximum recommended task size is 100 KB.\n",
      "21/07/21 12:20:37 WARN TaskSetManager: Stage 2820 contains a task of very large size (7995 KB). The maximum recommended task size is 100 KB.\n",
      "21/07/21 12:20:38 WARN TaskSetManager: Stage 2822 contains a task of very large size (7995 KB). The maximum recommended task size is 100 KB.\n",
      "21/07/21 12:20:38 WARN TaskSetManager: Stage 2824 contains a task of very large size (7995 KB). The maximum recommended task size is 100 KB.\n",
      "21/07/21 12:20:38 WARN TaskSetManager: Stage 2826 contains a task of very large size (7995 KB). The maximum recommended task size is 100 KB.\n",
      "21/07/21 12:20:39 WARN TaskSetManager: Stage 2828 contains a task of very large size (7995 KB). The maximum recommended task size is 100 KB.\n",
      "21/07/21 12:20:39 WARN TaskSetManager: Stage 2830 contains a task of very large size (7995 KB). The maximum recommended task size is 100 KB.\n",
      "21/07/21 12:20:40 WARN TaskSetManager: Stage 2832 contains a task of very large size (7995 KB). The maximum recommended task size is 100 KB.\n",
      "21/07/21 12:20:40 WARN TaskSetManager: Stage 2834 contains a task of very large size (7995 KB). The maximum recommended task size is 100 KB.\n",
      "21/07/21 12:20:41 WARN TaskSetManager: Stage 2836 contains a task of very large size (7995 KB). The maximum recommended task size is 100 KB.\n",
      "21/07/21 12:20:41 WARN TaskSetManager: Stage 2838 contains a task of very large size (7995 KB). The maximum recommended task size is 100 KB.\n",
      "21/07/21 12:20:41 WARN TaskSetManager: Stage 2840 contains a task of very large size (7995 KB). The maximum recommended task size is 100 KB.\n",
      "21/07/21 12:20:42 WARN TaskSetManager: Stage 2842 contains a task of very large size (7995 KB). The maximum recommended task size is 100 KB.\n",
      "21/07/21 12:20:42 WARN TaskSetManager: Stage 2844 contains a task of very large size (7995 KB). The maximum recommended task size is 100 KB.\n",
      "21/07/21 12:20:43 WARN TaskSetManager: Stage 2846 contains a task of very large size (7995 KB). The maximum recommended task size is 100 KB.\n",
      "21/07/21 12:20:43 WARN TaskSetManager: Stage 2848 contains a task of very large size (7995 KB). The maximum recommended task size is 100 KB.\n",
      "21/07/21 12:20:44 WARN TaskSetManager: Stage 2850 contains a task of very large size (7995 KB). The maximum recommended task size is 100 KB.\n",
      "21/07/21 12:20:44 WARN TaskSetManager: Stage 2852 contains a task of very large size (7995 KB). The maximum recommended task size is 100 KB.\n",
      "21/07/21 12:20:45 WARN TaskSetManager: Stage 2854 contains a task of very large size (7995 KB). The maximum recommended task size is 100 KB.\n",
      "21/07/21 12:20:45 WARN TaskSetManager: Stage 2856 contains a task of very large size (7995 KB). The maximum recommended task size is 100 KB.\n",
      "21/07/21 12:20:46 WARN TaskSetManager: Stage 2858 contains a task of very large size (7995 KB). The maximum recommended task size is 100 KB.\n",
      "21/07/21 12:20:46 WARN TaskSetManager: Stage 2860 contains a task of very large size (7995 KB). The maximum recommended task size is 100 KB.\n",
      "21/07/21 12:20:47 WARN TaskSetManager: Stage 2862 contains a task of very large size (7995 KB). The maximum recommended task size is 100 KB.\n",
      "21/07/21 12:20:47 WARN TaskSetManager: Stage 2864 contains a task of very large size (7995 KB). The maximum recommended task size is 100 KB.\n",
      "21/07/21 12:20:47 WARN TaskSetManager: Stage 2866 contains a task of very large size (7995 KB). The maximum recommended task size is 100 KB.\n",
      "21/07/21 12:20:48 WARN TaskSetManager: Stage 2868 contains a task of very large size (7995 KB). The maximum recommended task size is 100 KB.\n",
      "21/07/21 12:20:49 WARN TaskSetManager: Stage 2870 contains a task of very large size (7995 KB). The maximum recommended task size is 100 KB.\n",
      "21/07/21 12:20:49 WARN TaskSetManager: Stage 2872 contains a task of very large size (7995 KB). The maximum recommended task size is 100 KB.\n",
      "21/07/21 12:20:49 WARN TaskSetManager: Stage 2874 contains a task of very large size (7995 KB). The maximum recommended task size is 100 KB.\n",
      "21/07/21 12:20:50 WARN TaskSetManager: Stage 2876 contains a task of very large size (7995 KB). The maximum recommended task size is 100 KB.\n",
      "21/07/21 12:20:50 WARN TaskSetManager: Stage 2878 contains a task of very large size (7995 KB). The maximum recommended task size is 100 KB.\n",
      "21/07/21 12:20:51 WARN TaskSetManager: Stage 2880 contains a task of very large size (7995 KB). The maximum recommended task size is 100 KB.\n",
      "21/07/21 12:20:51 WARN TaskSetManager: Stage 2882 contains a task of very large size (7995 KB). The maximum recommended task size is 100 KB.\n",
      "21/07/21 12:20:51 WARN TaskSetManager: Stage 2884 contains a task of very large size (7995 KB). The maximum recommended task size is 100 KB.\n",
      "21/07/21 12:20:52 WARN TaskSetManager: Stage 2886 contains a task of very large size (7995 KB). The maximum recommended task size is 100 KB.\n",
      "21/07/21 12:20:52 WARN TaskSetManager: Stage 2888 contains a task of very large size (7995 KB). The maximum recommended task size is 100 KB.\n",
      "21/07/21 12:20:53 WARN TaskSetManager: Stage 2890 contains a task of very large size (7995 KB). The maximum recommended task size is 100 KB.\n",
      "21/07/21 12:20:53 WARN TaskSetManager: Stage 2892 contains a task of very large size (7995 KB). The maximum recommended task size is 100 KB.\n",
      "21/07/21 12:20:54 WARN TaskSetManager: Stage 2894 contains a task of very large size (7995 KB). The maximum recommended task size is 100 KB.\n",
      "21/07/21 12:20:54 WARN TaskSetManager: Stage 2896 contains a task of very large size (7995 KB). The maximum recommended task size is 100 KB.\n",
      "21/07/21 12:20:54 WARN TaskSetManager: Stage 2898 contains a task of very large size (7995 KB). The maximum recommended task size is 100 KB.\n",
      "21/07/21 12:20:55 WARN TaskSetManager: Stage 2900 contains a task of very large size (7995 KB). The maximum recommended task size is 100 KB.\n",
      "21/07/21 12:20:55 WARN TaskSetManager: Stage 2902 contains a task of very large size (7995 KB). The maximum recommended task size is 100 KB.\n",
      "21/07/21 12:20:56 WARN TaskSetManager: Stage 2904 contains a task of very large size (7995 KB). The maximum recommended task size is 100 KB.\n",
      "21/07/21 12:20:56 WARN TaskSetManager: Stage 2906 contains a task of very large size (7995 KB). The maximum recommended task size is 100 KB.\n",
      "21/07/21 12:20:57 WARN TaskSetManager: Stage 2908 contains a task of very large size (7995 KB). The maximum recommended task size is 100 KB.\n",
      "21/07/21 12:20:57 WARN TaskSetManager: Stage 2910 contains a task of very large size (7995 KB). The maximum recommended task size is 100 KB.\n",
      "21/07/21 12:20:57 WARN TaskSetManager: Stage 2912 contains a task of very large size (7995 KB). The maximum recommended task size is 100 KB.\n",
      "21/07/21 12:20:58 WARN TaskSetManager: Stage 2914 contains a task of very large size (7995 KB). The maximum recommended task size is 100 KB.\n",
      "21/07/21 12:20:58 WARN TaskSetManager: Stage 2916 contains a task of very large size (7995 KB). The maximum recommended task size is 100 KB.\n",
      "21/07/21 12:20:59 WARN TaskSetManager: Stage 2918 contains a task of very large size (7995 KB). The maximum recommended task size is 100 KB.\n",
      "21/07/21 12:20:59 WARN TaskSetManager: Stage 2920 contains a task of very large size (7995 KB). The maximum recommended task size is 100 KB.\n",
      "21/07/21 12:21:00 WARN TaskSetManager: Stage 2922 contains a task of very large size (7995 KB). The maximum recommended task size is 100 KB.\n",
      "21/07/21 12:21:00 WARN TaskSetManager: Stage 2924 contains a task of very large size (7995 KB). The maximum recommended task size is 100 KB.\n",
      "21/07/21 12:21:00 WARN TaskSetManager: Stage 2926 contains a task of very large size (7995 KB). The maximum recommended task size is 100 KB.\n",
      "21/07/21 12:21:01 WARN TaskSetManager: Stage 2928 contains a task of very large size (7995 KB). The maximum recommended task size is 100 KB.\n",
      "21/07/21 12:21:01 WARN TaskSetManager: Stage 2930 contains a task of very large size (7995 KB). The maximum recommended task size is 100 KB.\n",
      "21/07/21 12:21:02 WARN TaskSetManager: Stage 2932 contains a task of very large size (7995 KB). The maximum recommended task size is 100 KB.\n",
      "21/07/21 12:21:02 WARN TaskSetManager: Stage 2934 contains a task of very large size (7995 KB). The maximum recommended task size is 100 KB.\n",
      "21/07/21 12:21:03 WARN TaskSetManager: Stage 2936 contains a task of very large size (7995 KB). The maximum recommended task size is 100 KB.\n",
      "21/07/21 12:21:03 WARN TaskSetManager: Stage 2938 contains a task of very large size (7995 KB). The maximum recommended task size is 100 KB.\n",
      "21/07/21 12:21:03 WARN TaskSetManager: Stage 2940 contains a task of very large size (7995 KB). The maximum recommended task size is 100 KB.\n",
      "21/07/21 12:21:04 WARN TaskSetManager: Stage 2942 contains a task of very large size (7995 KB). The maximum recommended task size is 100 KB.\n",
      "21/07/21 12:21:04 WARN TaskSetManager: Stage 2944 contains a task of very large size (7995 KB). The maximum recommended task size is 100 KB.\n",
      "21/07/21 12:21:04 WARN TaskSetManager: Stage 2946 contains a task of very large size (7995 KB). The maximum recommended task size is 100 KB.\n",
      "21/07/21 12:21:05 WARN TaskSetManager: Stage 2948 contains a task of very large size (7995 KB). The maximum recommended task size is 100 KB.\n",
      "21/07/21 12:21:05 WARN TaskSetManager: Stage 2950 contains a task of very large size (7995 KB). The maximum recommended task size is 100 KB.\n",
      "21/07/21 12:21:06 WARN TaskSetManager: Stage 2952 contains a task of very large size (7995 KB). The maximum recommended task size is 100 KB.\n",
      "21/07/21 12:21:07 WARN TaskSetManager: Stage 2954 contains a task of very large size (7995 KB). The maximum recommended task size is 100 KB.\n",
      "21/07/21 12:21:07 WARN TaskSetManager: Stage 2956 contains a task of very large size (7995 KB). The maximum recommended task size is 100 KB.\n",
      "21/07/21 12:21:07 WARN TaskSetManager: Stage 2958 contains a task of very large size (7995 KB). The maximum recommended task size is 100 KB.\n",
      "21/07/21 12:21:08 WARN TaskSetManager: Stage 2960 contains a task of very large size (7995 KB). The maximum recommended task size is 100 KB.\n",
      "21/07/21 12:21:08 WARN TaskSetManager: Stage 2962 contains a task of very large size (7995 KB). The maximum recommended task size is 100 KB.\n",
      "21/07/21 12:21:09 WARN TaskSetManager: Stage 2964 contains a task of very large size (7995 KB). The maximum recommended task size is 100 KB.\n",
      "21/07/21 12:21:09 WARN TaskSetManager: Stage 2966 contains a task of very large size (7995 KB). The maximum recommended task size is 100 KB.\n",
      "21/07/21 12:21:09 WARN TaskSetManager: Stage 2968 contains a task of very large size (7995 KB). The maximum recommended task size is 100 KB.\n",
      "21/07/21 12:21:10 WARN TaskSetManager: Stage 2970 contains a task of very large size (7995 KB). The maximum recommended task size is 100 KB.\n",
      "21/07/21 12:21:10 WARN TaskSetManager: Stage 2972 contains a task of very large size (7995 KB). The maximum recommended task size is 100 KB.\n",
      "21/07/21 12:21:11 WARN TaskSetManager: Stage 2974 contains a task of very large size (7995 KB). The maximum recommended task size is 100 KB.\n",
      "21/07/21 12:21:11 WARN TaskSetManager: Stage 2976 contains a task of very large size (7995 KB). The maximum recommended task size is 100 KB.\n",
      "21/07/21 12:21:12 WARN TaskSetManager: Stage 2978 contains a task of very large size (7995 KB). The maximum recommended task size is 100 KB.\n",
      "21/07/21 12:21:12 WARN TaskSetManager: Stage 2980 contains a task of very large size (7995 KB). The maximum recommended task size is 100 KB.\n",
      "21/07/21 12:21:12 WARN TaskSetManager: Stage 2982 contains a task of very large size (7995 KB). The maximum recommended task size is 100 KB.\n",
      "21/07/21 12:21:13 WARN TaskSetManager: Stage 2984 contains a task of very large size (7995 KB). The maximum recommended task size is 100 KB.\n",
      "21/07/21 12:21:13 WARN TaskSetManager: Stage 2986 contains a task of very large size (7995 KB). The maximum recommended task size is 100 KB.\n",
      "21/07/21 12:21:14 WARN TaskSetManager: Stage 2988 contains a task of very large size (7995 KB). The maximum recommended task size is 100 KB.\n",
      "21/07/21 12:21:14 WARN TaskSetManager: Stage 2990 contains a task of very large size (7995 KB). The maximum recommended task size is 100 KB.\n",
      "21/07/21 12:21:14 WARN TaskSetManager: Stage 2992 contains a task of very large size (7995 KB). The maximum recommended task size is 100 KB.\n",
      "21/07/21 12:21:15 WARN TaskSetManager: Stage 2994 contains a task of very large size (7995 KB). The maximum recommended task size is 100 KB.\n",
      "21/07/21 12:21:15 WARN TaskSetManager: Stage 2996 contains a task of very large size (7995 KB). The maximum recommended task size is 100 KB.\n",
      "21/07/21 12:21:16 WARN TaskSetManager: Stage 2998 contains a task of very large size (7995 KB). The maximum recommended task size is 100 KB.\n",
      "21/07/21 12:21:16 WARN TaskSetManager: Stage 3000 contains a task of very large size (7995 KB). The maximum recommended task size is 100 KB.\n",
      "21/07/21 12:21:17 WARN TaskSetManager: Stage 3002 contains a task of very large size (7995 KB). The maximum recommended task size is 100 KB.\n",
      "21/07/21 12:21:17 WARN TaskSetManager: Stage 3004 contains a task of very large size (7995 KB). The maximum recommended task size is 100 KB.\n",
      "21/07/21 12:21:18 WARN TaskSetManager: Stage 3006 contains a task of very large size (7995 KB). The maximum recommended task size is 100 KB.\n",
      "21/07/21 12:21:18 WARN TaskSetManager: Stage 3008 contains a task of very large size (7995 KB). The maximum recommended task size is 100 KB.\n",
      "21/07/21 12:21:18 WARN TaskSetManager: Stage 3010 contains a task of very large size (7995 KB). The maximum recommended task size is 100 KB.\n",
      "21/07/21 12:21:19 WARN TaskSetManager: Stage 3012 contains a task of very large size (7995 KB). The maximum recommended task size is 100 KB.\n",
      "21/07/21 12:21:19 WARN TaskSetManager: Stage 3014 contains a task of very large size (7995 KB). The maximum recommended task size is 100 KB.\n",
      "21/07/21 12:21:20 WARN TaskSetManager: Stage 3016 contains a task of very large size (7995 KB). The maximum recommended task size is 100 KB.\n",
      "21/07/21 12:21:20 WARN TaskSetManager: Stage 3018 contains a task of very large size (7995 KB). The maximum recommended task size is 100 KB.\n",
      "21/07/21 12:21:21 WARN TaskSetManager: Stage 3020 contains a task of very large size (7995 KB). The maximum recommended task size is 100 KB.\n",
      "21/07/21 12:21:21 WARN TaskSetManager: Stage 3022 contains a task of very large size (7995 KB). The maximum recommended task size is 100 KB.\n",
      "21/07/21 12:21:21 WARN TaskSetManager: Stage 3024 contains a task of very large size (7995 KB). The maximum recommended task size is 100 KB.\n",
      "21/07/21 12:21:22 WARN TaskSetManager: Stage 3026 contains a task of very large size (7995 KB). The maximum recommended task size is 100 KB.\n",
      "21/07/21 12:21:22 WARN TaskSetManager: Stage 3028 contains a task of very large size (7995 KB). The maximum recommended task size is 100 KB.\n",
      "21/07/21 12:21:23 WARN TaskSetManager: Stage 3030 contains a task of very large size (7995 KB). The maximum recommended task size is 100 KB.\n",
      "21/07/21 12:21:23 WARN TaskSetManager: Stage 3032 contains a task of very large size (7995 KB). The maximum recommended task size is 100 KB.\n",
      "21/07/21 12:21:24 WARN TaskSetManager: Stage 3034 contains a task of very large size (7995 KB). The maximum recommended task size is 100 KB.\n",
      "21/07/21 12:21:24 WARN TaskSetManager: Stage 3036 contains a task of very large size (7995 KB). The maximum recommended task size is 100 KB.\n",
      "21/07/21 12:21:24 WARN TaskSetManager: Stage 3038 contains a task of very large size (7995 KB). The maximum recommended task size is 100 KB.\n",
      "21/07/21 12:21:25 WARN TaskSetManager: Stage 3040 contains a task of very large size (7995 KB). The maximum recommended task size is 100 KB.\n",
      "21/07/21 12:21:26 WARN TaskSetManager: Stage 3042 contains a task of very large size (7995 KB). The maximum recommended task size is 100 KB.\n",
      "21/07/21 12:21:26 WARN TaskSetManager: Stage 3044 contains a task of very large size (7995 KB). The maximum recommended task size is 100 KB.\n",
      "21/07/21 12:21:26 WARN TaskSetManager: Stage 3046 contains a task of very large size (7995 KB). The maximum recommended task size is 100 KB.\n",
      "21/07/21 12:21:27 WARN TaskSetManager: Stage 3048 contains a task of very large size (7995 KB). The maximum recommended task size is 100 KB.\n",
      "21/07/21 12:21:27 WARN TaskSetManager: Stage 3050 contains a task of very large size (7995 KB). The maximum recommended task size is 100 KB.\n",
      "21/07/21 12:21:28 WARN TaskSetManager: Stage 3052 contains a task of very large size (7995 KB). The maximum recommended task size is 100 KB.\n",
      "21/07/21 12:21:28 WARN TaskSetManager: Stage 3054 contains a task of very large size (7995 KB). The maximum recommended task size is 100 KB.\n",
      "21/07/21 12:21:28 WARN TaskSetManager: Stage 3056 contains a task of very large size (7995 KB). The maximum recommended task size is 100 KB.\n",
      "21/07/21 12:21:29 WARN TaskSetManager: Stage 3058 contains a task of very large size (7995 KB). The maximum recommended task size is 100 KB.\n",
      "21/07/21 12:21:29 WARN TaskSetManager: Stage 3060 contains a task of very large size (7995 KB). The maximum recommended task size is 100 KB.\n",
      "21/07/21 12:21:30 WARN TaskSetManager: Stage 3062 contains a task of very large size (7995 KB). The maximum recommended task size is 100 KB.\n"
     ]
    }
   ],
   "source": [
    "#fittonmg the class\n",
    "woe.fit()"
   ]
  },
  {
   "cell_type": "code",
   "execution_count": 242,
   "metadata": {},
   "outputs": [],
   "source": [
    "#transforming the dtaset to woe\n",
    "final_df=woe.transform(df)"
   ]
  },
  {
   "cell_type": "code",
   "execution_count": 244,
   "metadata": {},
   "outputs": [
    {
     "name": "stdout",
     "output_type": "stream",
     "text": [
      "root\n",
      " |-- CODE_GENDER: string (nullable = true)\n",
      " |-- FLAG_OWN_CAR: string (nullable = true)\n",
      " |-- FLAG_OWN_REALTY: string (nullable = true)\n",
      " |-- NAME_INCOME_TYPE: string (nullable = true)\n",
      " |-- NAME_EDUCATION_TYPE: string (nullable = true)\n",
      " |-- NAME_FAMILY_STATUS: string (nullable = true)\n",
      " |-- NAME_HOUSING_TYPE: string (nullable = true)\n",
      " |-- FLAG_WORK_PHONE: long (nullable = true)\n",
      " |-- FLAG_PHONE: long (nullable = true)\n",
      " |-- FLAG_EMAIL: long (nullable = true)\n",
      " |-- OCCUPATION_TYPE: string (nullable = true)\n",
      " |-- DELIQUENT: string (nullable = true)\n",
      " |-- CHILDREN: string (nullable = true)\n",
      " |-- SALARY: string (nullable = true)\n",
      " |-- FAMILY_MEM: string (nullable = true)\n",
      " |-- AGE_RANGE: string (nullable = true)\n",
      " |-- WORK_LEVEL: string (nullable = true)\n",
      " |-- CODE_GENDER_woe: double (nullable = true)\n",
      " |-- FLAG_OWN_CAR_woe: double (nullable = true)\n",
      " |-- FLAG_OWN_REALTY_woe: double (nullable = true)\n",
      " |-- NAME_INCOME_TYPE_woe: double (nullable = true)\n",
      " |-- NAME_EDUCATION_TYPE_woe: double (nullable = true)\n",
      " |-- NAME_FAMILY_STATUS_woe: double (nullable = true)\n",
      " |-- NAME_HOUSING_TYPE_woe: double (nullable = true)\n",
      " |-- FLAG_WORK_PHONE_woe: double (nullable = true)\n",
      " |-- FLAG_PHONE_woe: double (nullable = true)\n",
      " |-- FLAG_EMAIL_woe: double (nullable = true)\n",
      " |-- OCCUPATION_TYPE_woe: double (nullable = true)\n",
      " |-- CHILDREN_woe: double (nullable = true)\n",
      " |-- SALARY_woe: double (nullable = true)\n",
      " |-- FAMILY_MEM_woe: double (nullable = true)\n",
      " |-- AGE_RANGE_woe: double (nullable = true)\n",
      " |-- WORK_LEVEL_woe: double (nullable = true)\n",
      "\n"
     ]
    }
   ],
   "source": [
    "#schema of the final dataset\n",
    "final_df.printSchema()"
   ]
  },
  {
   "cell_type": "code",
   "execution_count": 245,
   "metadata": {},
   "outputs": [
    {
     "name": "stdout",
     "output_type": "stream",
     "text": [
      "root\n",
      " |-- DELIQUENT: string (nullable = true)\n",
      " |-- CODE_GENDER_woe: double (nullable = true)\n",
      " |-- FLAG_OWN_CAR_woe: double (nullable = true)\n",
      " |-- FLAG_OWN_REALTY_woe: double (nullable = true)\n",
      " |-- NAME_INCOME_TYPE_woe: double (nullable = true)\n",
      " |-- NAME_EDUCATION_TYPE_woe: double (nullable = true)\n",
      " |-- NAME_FAMILY_STATUS_woe: double (nullable = true)\n",
      " |-- NAME_HOUSING_TYPE_woe: double (nullable = true)\n",
      " |-- FLAG_WORK_PHONE_woe: double (nullable = true)\n",
      " |-- FLAG_PHONE_woe: double (nullable = true)\n",
      " |-- FLAG_EMAIL_woe: double (nullable = true)\n",
      " |-- OCCUPATION_TYPE_woe: double (nullable = true)\n",
      " |-- CHILDREN_woe: double (nullable = true)\n",
      " |-- SALARY_woe: double (nullable = true)\n",
      " |-- FAMILY_MEM_woe: double (nullable = true)\n",
      " |-- AGE_RANGE_woe: double (nullable = true)\n",
      " |-- WORK_LEVEL_woe: double (nullable = true)\n",
      "\n"
     ]
    }
   ],
   "source": [
    "#dropping the parent columns\n",
    "final_df=final_df.drop('CODE_GENDER','FLAG_OWN_CAR','FLAG_OWN_REALTY','NAME_INCOME_TYPE','NAME_EDUCATION_TYPE','NAME_FAMILY_STATUS','NAME_HOUSING_TYPE','FLAG_WORK_PHONE','FLAG_PHONE','FLAG_EMAIL','OCCUPATION_TYPE','CHILDREN','SALARY','FAMILY_MEM','AGE_RANGE','WORK_LEVEL')\n",
    "final_df.printSchema()"
   ]
  },
  {
   "cell_type": "code",
   "execution_count": 247,
   "metadata": {},
   "outputs": [],
   "source": [
    "#computing the IV values\n",
    "ivs=woe.compute_iv()"
   ]
  },
  {
   "cell_type": "code",
   "execution_count": 248,
   "metadata": {},
   "outputs": [
    {
     "name": "stdout",
     "output_type": "stream",
     "text": [
      "root\n",
      " |-- DELIQUENT: integer (nullable = true)\n",
      " |-- CODE_GENDER_woe: double (nullable = true)\n",
      " |-- FLAG_OWN_CAR_woe: double (nullable = true)\n",
      " |-- FLAG_OWN_REALTY_woe: double (nullable = true)\n",
      " |-- NAME_INCOME_TYPE_woe: double (nullable = true)\n",
      " |-- NAME_EDUCATION_TYPE_woe: double (nullable = true)\n",
      " |-- NAME_FAMILY_STATUS_woe: double (nullable = true)\n",
      " |-- NAME_HOUSING_TYPE_woe: double (nullable = true)\n",
      " |-- FLAG_WORK_PHONE_woe: double (nullable = true)\n",
      " |-- FLAG_PHONE_woe: double (nullable = true)\n",
      " |-- FLAG_EMAIL_woe: double (nullable = true)\n",
      " |-- OCCUPATION_TYPE_woe: double (nullable = true)\n",
      " |-- CHILDREN_woe: double (nullable = true)\n",
      " |-- SALARY_woe: double (nullable = true)\n",
      " |-- FAMILY_MEM_woe: double (nullable = true)\n",
      " |-- AGE_RANGE_woe: double (nullable = true)\n",
      " |-- WORK_LEVEL_woe: double (nullable = true)\n",
      "\n"
     ]
    }
   ],
   "source": [
    "#changing the data type of target variable to integer\n",
    "final_df= final_df.withColumn('DELIQUENT', final_df['DELIQUENT'].cast(IntegerType()))\n",
    "final_df.printSchema()"
   ]
  },
  {
   "cell_type": "markdown",
   "metadata": {},
   "source": [
    "## Step 4: Model Building"
   ]
  },
  {
   "cell_type": "code",
   "execution_count": 324,
   "metadata": {},
   "outputs": [],
   "source": [
    "#importing necessary libraries\n",
    "from pyspark.ml.feature import VectorAssembler\n",
    "\n",
    "trainCols=final_df.columns\n",
    "trainCols.remove(\"DELIQUENT\")\n",
    "\n",
    "#configure the assembler object and use it to transform df\n",
    "assembler = VectorAssembler(inputCols=trainCols, outputCol='features')\n",
    "m_df = assembler.transform(final_df)"
   ]
  },
  {
   "cell_type": "code",
   "execution_count": 325,
   "metadata": {},
   "outputs": [],
   "source": [
    "#train test spplit\n",
    "m_train, m_test = m_df.randomSplit([0.7,0.3], seed=2018)"
   ]
  },
  {
   "cell_type": "code",
   "execution_count": 326,
   "metadata": {},
   "outputs": [
    {
     "name": "stderr",
     "output_type": "stream",
     "text": [
      "21/07/21 14:22:48 WARN TaskSetManager: Stage 3287 contains a task of very large size (7995 KB). The maximum recommended task size is 100 KB.\n",
      "21/07/21 14:22:49 WARN TaskSetManager: Stage 3288 contains a task of very large size (7995 KB). The maximum recommended task size is 100 KB.\n",
      "21/07/21 14:22:49 WARN TaskSetManager: Stage 3289 contains a task of very large size (7995 KB). The maximum recommended task size is 100 KB.\n",
      "21/07/21 14:22:49 WARN TaskSetManager: Stage 3290 contains a task of very large size (7995 KB). The maximum recommended task size is 100 KB.\n",
      "21/07/21 14:22:50 WARN TaskSetManager: Stage 3291 contains a task of very large size (7995 KB). The maximum recommended task size is 100 KB.\n",
      "21/07/21 14:22:50 WARN TaskSetManager: Stage 3292 contains a task of very large size (7995 KB). The maximum recommended task size is 100 KB.\n",
      "21/07/21 14:22:50 WARN TaskSetManager: Stage 3293 contains a task of very large size (7995 KB). The maximum recommended task size is 100 KB.\n",
      "21/07/21 14:22:50 WARN TaskSetManager: Stage 3294 contains a task of very large size (7995 KB). The maximum recommended task size is 100 KB.\n",
      "21/07/21 14:22:50 WARN TaskSetManager: Stage 3295 contains a task of very large size (7995 KB). The maximum recommended task size is 100 KB.\n",
      "21/07/21 14:22:50 WARN TaskSetManager: Stage 3296 contains a task of very large size (7995 KB). The maximum recommended task size is 100 KB.\n",
      "21/07/21 14:22:50 WARN TaskSetManager: Stage 3297 contains a task of very large size (7995 KB). The maximum recommended task size is 100 KB.\n",
      "21/07/21 14:22:50 WARN TaskSetManager: Stage 3298 contains a task of very large size (7995 KB). The maximum recommended task size is 100 KB.\n",
      "21/07/21 14:22:50 WARN TaskSetManager: Stage 3299 contains a task of very large size (7995 KB). The maximum recommended task size is 100 KB.\n",
      "21/07/21 14:22:50 WARN TaskSetManager: Stage 3300 contains a task of very large size (7995 KB). The maximum recommended task size is 100 KB.\n",
      "21/07/21 14:22:50 WARN TaskSetManager: Stage 3301 contains a task of very large size (7995 KB). The maximum recommended task size is 100 KB.\n",
      "21/07/21 14:22:50 WARN TaskSetManager: Stage 3302 contains a task of very large size (7995 KB). The maximum recommended task size is 100 KB.\n",
      "21/07/21 14:22:50 WARN TaskSetManager: Stage 3303 contains a task of very large size (7995 KB). The maximum recommended task size is 100 KB.\n",
      "21/07/21 14:22:50 WARN TaskSetManager: Stage 3304 contains a task of very large size (7995 KB). The maximum recommended task size is 100 KB.\n"
     ]
    }
   ],
   "source": [
    "# train model in the training dataset\n",
    "\n",
    "# import the logistic model\n",
    "from pyspark.ml.classification import LogisticRegression\n",
    "\n",
    "# create the logistic model, configure it and call fit it to the data. \n",
    "lr = LogisticRegression(featuresCol='features', labelCol='DELIQUENT')\n",
    "lrModel = lr.fit(m_train)"
   ]
  },
  {
   "cell_type": "code",
   "execution_count": 327,
   "metadata": {},
   "outputs": [],
   "source": [
    "# use the model to predict the class labels of test data. \n",
    "lrPredictions = lrModel.transform(m_test)"
   ]
  },
  {
   "cell_type": "markdown",
   "metadata": {},
   "source": [
    "## Step 5 : Model Evaluation"
   ]
  },
  {
   "cell_type": "code",
   "execution_count": 328,
   "metadata": {},
   "outputs": [],
   "source": [
    "#evaluating the model on test set\n",
    "evals=lrModel.evaluate(m_test)"
   ]
  },
  {
   "cell_type": "code",
   "execution_count": 329,
   "metadata": {},
   "outputs": [
    {
     "name": "stderr",
     "output_type": "stream",
     "text": [
      "21/07/21 14:22:54 WARN TaskSetManager: Stage 3305 contains a task of very large size (7995 KB). The maximum recommended task size is 100 KB.\n",
      "21/07/21 14:22:56 WARN TaskSetManager: Stage 3307 contains a task of very large size (7995 KB). The maximum recommended task size is 100 KB.\n",
      "21/07/21 14:22:57 WARN TaskSetManager: Stage 3309 contains a task of very large size (7995 KB). The maximum recommended task size is 100 KB.\n"
     ]
    },
    {
     "name": "stdout",
     "output_type": "stream",
     "text": [
      "Recall :  [1.0, 0.0]\n"
     ]
    },
    {
     "name": "stderr",
     "output_type": "stream",
     "text": [
      "21/07/21 14:22:58 WARN TaskSetManager: Stage 3311 contains a task of very large size (7995 KB). The maximum recommended task size is 100 KB.\n"
     ]
    },
    {
     "name": "stdout",
     "output_type": "stream",
     "text": [
      "Precision :  [0.9842950571695511, 0.0]\n",
      "Accuracy :  0.9842950571695511\n"
     ]
    },
    {
     "name": "stderr",
     "output_type": "stream",
     "text": [
      "[Stage 3311:>                                                       (0 + 2) / 2]"
     ]
    },
    {
     "name": "stdout",
     "output_type": "stream",
     "text": [
      "Area undre ROC :  0.6373329464675793\n"
     ]
    },
    {
     "name": "stderr",
     "output_type": "stream",
     "text": [
      "                                                                                \r"
     ]
    }
   ],
   "source": [
    "#printing the metrics\n",
    "print(\"Recall : \", evals.recallByLabel)\n",
    "print(\"Precision : \", evals.precisionByLabel)\n",
    "print(\"Accuracy : \", evals.accuracy)\n",
    "print(\"Area undre ROC : \", evals.areaUnderROC)"
   ]
  },
  {
   "cell_type": "markdown",
   "metadata": {},
   "source": [
    "The metrics all point ot the imabalnced dataset."
   ]
  },
  {
   "cell_type": "markdown",
   "metadata": {},
   "source": [
    "### Feature Selection"
   ]
  },
  {
   "cell_type": "markdown",
   "metadata": {},
   "source": [
    "According to the problem statement, the IV values of varaibles with threshold of 0.002 is considreed as weak predictors and need to be eliminated."
   ]
  },
  {
   "cell_type": "code",
   "execution_count": 330,
   "metadata": {},
   "outputs": [
    {
     "data": {
      "text/plain": [
       "{'CODE_GENDER': 0.015269334044836883,\n",
       " 'FLAG_OWN_CAR': 0.00041878796811565925,\n",
       " 'FLAG_OWN_REALTY': 0.023588684509955854,\n",
       " 'NAME_INCOME_TYPE': 0.03573845068537383,\n",
       " 'NAME_EDUCATION_TYPE': 0.01787406777867823,\n",
       " 'NAME_FAMILY_STATUS': 0.03739668321149994,\n",
       " 'NAME_HOUSING_TYPE': 0.03796014929496968,\n",
       " 'FLAG_WORK_PHONE': 0.0015284588205042218,\n",
       " 'FLAG_PHONE': 0.0015274389064683746,\n",
       " 'FLAG_EMAIL': 0.0004914832435765251,\n",
       " 'OCCUPATION_TYPE': 0.07269488836462261,\n",
       " 'CHILDREN': 0.0016836041739970286,\n",
       " 'SALARY': 0.00400612317786641,\n",
       " 'FAMILY_MEM': 0.012840987465373172,\n",
       " 'AGE_RANGE': 0.027831051283030477,\n",
       " 'WORK_LEVEL': 0.07384595780538622}"
      ]
     },
     "execution_count": 330,
     "metadata": {},
     "output_type": "execute_result"
    }
   ],
   "source": [
    "#IV values\n",
    "ivs"
   ]
  },
  {
   "cell_type": "code",
   "execution_count": 331,
   "metadata": {},
   "outputs": [],
   "source": [
    "#dropping weak predictors\n",
    "final_df=final_df.drop('FLAG_OWN_CAR_woe','FLAG_WORK_PHONE_woe', 'FLAG_PHONE_woe','FLAG_EMAIL_woe', 'CHILDREN_woe', 'SALARY_woe')"
   ]
  },
  {
   "cell_type": "code",
   "execution_count": 332,
   "metadata": {},
   "outputs": [],
   "source": [
    "#remodelling the model\n",
    "\n",
    "trainCols=final_df.columns\n",
    "trainCols.remove(\"DELIQUENT\")\n",
    "\n",
    "#configure the assembler object and use it to transform df\n",
    "assembler = VectorAssembler(inputCols=trainCols, outputCol='features')\n",
    "m_df = assembler.transform(final_df)"
   ]
  },
  {
   "cell_type": "code",
   "execution_count": 333,
   "metadata": {},
   "outputs": [],
   "source": [
    "m_train, m_test = m_df.randomSplit([0.7,0.3], seed=2018)"
   ]
  },
  {
   "cell_type": "code",
   "execution_count": 334,
   "metadata": {},
   "outputs": [
    {
     "name": "stderr",
     "output_type": "stream",
     "text": [
      "21/07/21 14:32:10 WARN TaskSetManager: Stage 3325 contains a task of very large size (7995 KB). The maximum recommended task size is 100 KB.\n",
      "21/07/21 14:32:11 WARN TaskSetManager: Stage 3326 contains a task of very large size (7995 KB). The maximum recommended task size is 100 KB.\n",
      "21/07/21 14:32:11 WARN TaskSetManager: Stage 3327 contains a task of very large size (7995 KB). The maximum recommended task size is 100 KB.\n",
      "21/07/21 14:32:11 WARN TaskSetManager: Stage 3328 contains a task of very large size (7995 KB). The maximum recommended task size is 100 KB.\n",
      "21/07/21 14:32:12 WARN TaskSetManager: Stage 3329 contains a task of very large size (7995 KB). The maximum recommended task size is 100 KB.\n",
      "21/07/21 14:32:12 WARN TaskSetManager: Stage 3330 contains a task of very large size (7995 KB). The maximum recommended task size is 100 KB.\n",
      "21/07/21 14:32:12 WARN TaskSetManager: Stage 3331 contains a task of very large size (7995 KB). The maximum recommended task size is 100 KB.\n",
      "21/07/21 14:32:12 WARN TaskSetManager: Stage 3332 contains a task of very large size (7995 KB). The maximum recommended task size is 100 KB.\n",
      "21/07/21 14:32:12 WARN TaskSetManager: Stage 3333 contains a task of very large size (7995 KB). The maximum recommended task size is 100 KB.\n",
      "21/07/21 14:32:12 WARN TaskSetManager: Stage 3334 contains a task of very large size (7995 KB). The maximum recommended task size is 100 KB.\n",
      "21/07/21 14:32:12 WARN TaskSetManager: Stage 3335 contains a task of very large size (7995 KB). The maximum recommended task size is 100 KB.\n",
      "21/07/21 14:32:12 WARN BlockManager: Asked to remove block broadcast_3502, which does not exist\n",
      "21/07/21 14:32:12 WARN TaskSetManager: Stage 3336 contains a task of very large size (7995 KB). The maximum recommended task size is 100 KB.\n",
      "21/07/21 14:32:12 WARN TaskSetManager: Stage 3337 contains a task of very large size (7995 KB). The maximum recommended task size is 100 KB.\n",
      "21/07/21 14:32:12 WARN TaskSetManager: Stage 3338 contains a task of very large size (7995 KB). The maximum recommended task size is 100 KB.\n"
     ]
    }
   ],
   "source": [
    "#refiting the data\n",
    "lr = LogisticRegression(featuresCol='features', labelCol='DELIQUENT')\n",
    "lrModel = lr.fit(m_train)"
   ]
  },
  {
   "cell_type": "code",
   "execution_count": 335,
   "metadata": {},
   "outputs": [],
   "source": [
    "# use the model to predict the class labels of test data. \n",
    "lrPredictions = lrModel.transform(m_test)"
   ]
  },
  {
   "cell_type": "code",
   "execution_count": 336,
   "metadata": {},
   "outputs": [],
   "source": [
    "evals=lrModel.evaluate(m_test)"
   ]
  },
  {
   "cell_type": "code",
   "execution_count": 337,
   "metadata": {},
   "outputs": [
    {
     "name": "stderr",
     "output_type": "stream",
     "text": [
      "21/07/21 14:33:33 WARN TaskSetManager: Stage 3339 contains a task of very large size (7995 KB). The maximum recommended task size is 100 KB.\n",
      "21/07/21 14:33:34 WARN TaskSetManager: Stage 3341 contains a task of very large size (7995 KB). The maximum recommended task size is 100 KB.\n",
      "21/07/21 14:33:35 WARN TaskSetManager: Stage 3343 contains a task of very large size (7995 KB). The maximum recommended task size is 100 KB.\n"
     ]
    },
    {
     "name": "stdout",
     "output_type": "stream",
     "text": [
      "Recall :  [1.0, 0.0]\n"
     ]
    },
    {
     "name": "stderr",
     "output_type": "stream",
     "text": [
      "                                                                                \r"
     ]
    },
    {
     "name": "stdout",
     "output_type": "stream",
     "text": [
      "Precision :  [0.9842950571695511, 0.0]\n",
      "Accuracy :  0.9842950571695511\n"
     ]
    },
    {
     "name": "stderr",
     "output_type": "stream",
     "text": [
      "21/07/21 14:33:35 WARN TaskSetManager: Stage 3345 contains a task of very large size (7995 KB). The maximum recommended task size is 100 KB.\n",
      "[Stage 3345:>                                                       (0 + 2) / 2]"
     ]
    },
    {
     "name": "stdout",
     "output_type": "stream",
     "text": [
      "Area undre ROC :  0.6234276749692563\n"
     ]
    },
    {
     "name": "stderr",
     "output_type": "stream",
     "text": [
      "                                                                                \r"
     ]
    }
   ],
   "source": [
    "print(\"Recall : \", evals.recallByLabel)\n",
    "print(\"Precision : \", evals.precisionByLabel)\n",
    "print(\"Accuracy : \", evals.accuracy)\n",
    "print(\"Area undre ROC : \", evals.areaUnderROC)"
   ]
  },
  {
   "cell_type": "markdown",
   "metadata": {},
   "source": [
    "### Undersampling the data because of its imbalance"
   ]
  },
  {
   "cell_type": "code",
   "execution_count": 338,
   "metadata": {},
   "outputs": [
    {
     "name": "stderr",
     "output_type": "stream",
     "text": [
      "21/07/21 14:38:02 WARN TaskSetManager: Stage 3359 contains a task of very large size (7995 KB). The maximum recommended task size is 100 KB.\n",
      "21/07/21 14:38:02 WARN TaskSetManager: Stage 3361 contains a task of very large size (7995 KB). The maximum recommended task size is 100 KB.\n"
     ]
    },
    {
     "name": "stdout",
     "output_type": "stream",
     "text": [
      "ratio: 63\n"
     ]
    }
   ],
   "source": [
    "#to undersample that dataframe\n",
    "major_df = final_df.filter(col(\"DELIQUENT\") == 0)\n",
    "minor_df = final_df.filter(col(\"DELIQUENT\") == 1)\n",
    "ratio = int(major_df.count()/minor_df.count())\n",
    "print(\"ratio: {}\".format(ratio))\n",
    "\n",
    "sampled_majority_df = major_df.sample(False, 1/ratio)\n",
    "combined_df_2 = sampled_majority_df.unionAll(minor_df)"
   ]
  },
  {
   "cell_type": "code",
   "execution_count": 339,
   "metadata": {},
   "outputs": [],
   "source": [
    "#reconfigure the assembler object and use it to transform df\n",
    "assembler = VectorAssembler(inputCols=trainCols, outputCol='features')\n",
    "m_df = assembler.transform(combined_df_2)"
   ]
  },
  {
   "cell_type": "code",
   "execution_count": 340,
   "metadata": {},
   "outputs": [],
   "source": [
    "m_train, m_test = m_df.randomSplit([0.7,0.3], seed=2018)"
   ]
  },
  {
   "cell_type": "code",
   "execution_count": 341,
   "metadata": {},
   "outputs": [
    {
     "name": "stderr",
     "output_type": "stream",
     "text": [
      "21/07/21 14:38:34 WARN TaskSetManager: Stage 3363 contains a task of very large size (7995 KB). The maximum recommended task size is 100 KB.\n",
      "21/07/21 14:38:35 WARN TaskSetManager: Stage 3364 contains a task of very large size (7995 KB). The maximum recommended task size is 100 KB.\n",
      "21/07/21 14:38:35 WARN TaskSetManager: Stage 3365 contains a task of very large size (7995 KB). The maximum recommended task size is 100 KB.\n",
      "21/07/21 14:38:36 WARN TaskSetManager: Stage 3366 contains a task of very large size (7995 KB). The maximum recommended task size is 100 KB.\n",
      "21/07/21 14:38:36 WARN TaskSetManager: Stage 3367 contains a task of very large size (7995 KB). The maximum recommended task size is 100 KB.\n",
      "21/07/21 14:38:36 WARN TaskSetManager: Stage 3368 contains a task of very large size (7995 KB). The maximum recommended task size is 100 KB.\n",
      "21/07/21 14:38:36 WARN TaskSetManager: Stage 3369 contains a task of very large size (7995 KB). The maximum recommended task size is 100 KB.\n",
      "21/07/21 14:38:36 WARN TaskSetManager: Stage 3370 contains a task of very large size (7995 KB). The maximum recommended task size is 100 KB.\n",
      "21/07/21 14:38:36 WARN TaskSetManager: Stage 3371 contains a task of very large size (7995 KB). The maximum recommended task size is 100 KB.\n",
      "21/07/21 14:38:36 WARN TaskSetManager: Stage 3372 contains a task of very large size (7995 KB). The maximum recommended task size is 100 KB.\n",
      "21/07/21 14:38:36 WARN TaskSetManager: Stage 3373 contains a task of very large size (7995 KB). The maximum recommended task size is 100 KB.\n",
      "21/07/21 14:38:36 WARN TaskSetManager: Stage 3374 contains a task of very large size (7995 KB). The maximum recommended task size is 100 KB.\n",
      "21/07/21 14:38:36 WARN TaskSetManager: Stage 3375 contains a task of very large size (7995 KB). The maximum recommended task size is 100 KB.\n"
     ]
    }
   ],
   "source": [
    "# train model in the training dataset\n",
    "\n",
    "# create the logistic model, configure it and call fit it to the data. \n",
    "lr = LogisticRegression(featuresCol='features', labelCol='DELIQUENT')\n",
    "lrModel = lr.fit(m_train)"
   ]
  },
  {
   "cell_type": "code",
   "execution_count": 342,
   "metadata": {},
   "outputs": [],
   "source": [
    "# use the model to predict the class labels of test data. \n",
    "lrPredictions = lrModel.transform(m_test)"
   ]
  },
  {
   "cell_type": "code",
   "execution_count": 343,
   "metadata": {},
   "outputs": [],
   "source": [
    "evals=lrModel.evaluate(m_test)"
   ]
  },
  {
   "cell_type": "code",
   "execution_count": 344,
   "metadata": {},
   "outputs": [
    {
     "name": "stderr",
     "output_type": "stream",
     "text": [
      "21/07/21 14:39:18 WARN TaskSetManager: Stage 3376 contains a task of very large size (7995 KB). The maximum recommended task size is 100 KB.\n",
      "21/07/21 14:39:19 WARN TaskSetManager: Stage 3378 contains a task of very large size (7995 KB). The maximum recommended task size is 100 KB.\n",
      "21/07/21 14:39:19 WARN TaskSetManager: Stage 3380 contains a task of very large size (7995 KB). The maximum recommended task size is 100 KB.\n"
     ]
    },
    {
     "name": "stdout",
     "output_type": "stream",
     "text": [
      "Recall :  [0.5393258426966292, 0.5661971830985916]\n"
     ]
    },
    {
     "name": "stderr",
     "output_type": "stream",
     "text": [
      "21/07/21 14:39:20 WARN TaskSetManager: Stage 3382 contains a task of very large size (7995 KB). The maximum recommended task size is 100 KB.\n"
     ]
    },
    {
     "name": "stdout",
     "output_type": "stream",
     "text": [
      "Precision :  [0.5549132947976878, 0.5506849315068493]\n",
      "Accuracy :  0.5527426160337553\n"
     ]
    },
    {
     "name": "stderr",
     "output_type": "stream",
     "text": [
      "                                                                                \r"
     ]
    },
    {
     "name": "stdout",
     "output_type": "stream",
     "text": [
      "Area undre ROC :  0.5970367146700427\n"
     ]
    }
   ],
   "source": [
    "print(\"Recall : \", evals.recallByLabel)\n",
    "print(\"Precision : \", evals.precisionByLabel)\n",
    "print(\"Accuracy : \", evals.accuracy)\n",
    "print(\"Area undre ROC : \", evals.areaUnderROC)"
   ]
  },
  {
   "cell_type": "code",
   "execution_count": null,
   "metadata": {},
   "outputs": [],
   "source": []
  }
 ],
 "metadata": {
  "kernelspec": {
   "display_name": "Python 3",
   "language": "python",
   "name": "python3"
  },
  "language_info": {
   "codemirror_mode": {
    "name": "ipython",
    "version": 3
   },
   "file_extension": ".py",
   "mimetype": "text/x-python",
   "name": "python",
   "nbconvert_exporter": "python",
   "pygments_lexer": "ipython3",
   "version": "3.8.5"
  }
 },
 "nbformat": 4,
 "nbformat_minor": 4
}
